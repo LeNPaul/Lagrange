{
  "metadata": {
    "colab": {
      "provenance": [],
      "collapsed_sections": [
        "NQzq5oeOwH4m",
        "lyu1OsJe8o6z",
        "2y_FC1SJ9XQG",
        "7LOkCzD5Zstp",
        "8AjvaaJp-DC7",
        "yu3IZvDVWI59"
      ],
      "gpuType": "T4"
    },
    "kernelspec": {
      "name": "python3",
      "display_name": "Python 3",
      "language": "python"
    },
    "language_info": {
      "name": "python",
      "version": "3.10.13",
      "mimetype": "text/x-python",
      "codemirror_mode": {
        "name": "ipython",
        "version": 3
      },
      "pygments_lexer": "ipython3",
      "nbconvert_exporter": "python",
      "file_extension": ".py"
    },
    "accelerator": "GPU",
    "widgets": {
      "application/vnd.jupyter.widget-state+json": {
        "1007671bd7534eea9a2b9c341541a005": {
          "model_module": "@jupyter-widgets/controls",
          "model_name": "HBoxModel",
          "model_module_version": "1.5.0",
          "state": {
            "_dom_classes": [],
            "_model_module": "@jupyter-widgets/controls",
            "_model_module_version": "1.5.0",
            "_model_name": "HBoxModel",
            "_view_count": null,
            "_view_module": "@jupyter-widgets/controls",
            "_view_module_version": "1.5.0",
            "_view_name": "HBoxView",
            "box_style": "",
            "children": [
              "IPY_MODEL_884efd19d142448d81b8a8d8bf7cd678",
              "IPY_MODEL_f3b1eac3f9394e1990a6c548d8f21aba",
              "IPY_MODEL_bb965430bbd4418aada217aadc03a001"
            ],
            "layout": "IPY_MODEL_99fb9235faad47228c85a729e8fc9117"
          }
        },
        "884efd19d142448d81b8a8d8bf7cd678": {
          "model_module": "@jupyter-widgets/controls",
          "model_name": "HTMLModel",
          "model_module_version": "1.5.0",
          "state": {
            "_dom_classes": [],
            "_model_module": "@jupyter-widgets/controls",
            "_model_module_version": "1.5.0",
            "_model_name": "HTMLModel",
            "_view_count": null,
            "_view_module": "@jupyter-widgets/controls",
            "_view_module_version": "1.5.0",
            "_view_name": "HTMLView",
            "description": "",
            "description_tooltip": null,
            "layout": "IPY_MODEL_29e9db85d8564094b79f98a65a397a61",
            "placeholder": "​",
            "style": "IPY_MODEL_7988bc94b9ac43509b94c7f5ceb9263c",
            "value": "  0%"
          }
        },
        "f3b1eac3f9394e1990a6c548d8f21aba": {
          "model_module": "@jupyter-widgets/controls",
          "model_name": "FloatProgressModel",
          "model_module_version": "1.5.0",
          "state": {
            "_dom_classes": [],
            "_model_module": "@jupyter-widgets/controls",
            "_model_module_version": "1.5.0",
            "_model_name": "FloatProgressModel",
            "_view_count": null,
            "_view_module": "@jupyter-widgets/controls",
            "_view_module_version": "1.5.0",
            "_view_name": "ProgressView",
            "bar_style": "danger",
            "description": "",
            "description_tooltip": null,
            "layout": "IPY_MODEL_4d86f438542b43c39f6d4af6633efc32",
            "max": 10,
            "min": 0,
            "orientation": "horizontal",
            "style": "IPY_MODEL_60a3027edb6e405891628efa1a32048a",
            "value": 0
          }
        },
        "bb965430bbd4418aada217aadc03a001": {
          "model_module": "@jupyter-widgets/controls",
          "model_name": "HTMLModel",
          "model_module_version": "1.5.0",
          "state": {
            "_dom_classes": [],
            "_model_module": "@jupyter-widgets/controls",
            "_model_module_version": "1.5.0",
            "_model_name": "HTMLModel",
            "_view_count": null,
            "_view_module": "@jupyter-widgets/controls",
            "_view_module_version": "1.5.0",
            "_view_name": "HTMLView",
            "description": "",
            "description_tooltip": null,
            "layout": "IPY_MODEL_9cb9f76a9b9e4e8197ecdeffc5dc5629",
            "placeholder": "​",
            "style": "IPY_MODEL_3d3fe409fe544f55b65db7140d673798",
            "value": " 0/10 [00:16&lt;?, ?it/s]"
          }
        },
        "99fb9235faad47228c85a729e8fc9117": {
          "model_module": "@jupyter-widgets/base",
          "model_name": "LayoutModel",
          "model_module_version": "1.2.0",
          "state": {
            "_model_module": "@jupyter-widgets/base",
            "_model_module_version": "1.2.0",
            "_model_name": "LayoutModel",
            "_view_count": null,
            "_view_module": "@jupyter-widgets/base",
            "_view_module_version": "1.2.0",
            "_view_name": "LayoutView",
            "align_content": null,
            "align_items": null,
            "align_self": null,
            "border": null,
            "bottom": null,
            "display": null,
            "flex": null,
            "flex_flow": null,
            "grid_area": null,
            "grid_auto_columns": null,
            "grid_auto_flow": null,
            "grid_auto_rows": null,
            "grid_column": null,
            "grid_gap": null,
            "grid_row": null,
            "grid_template_areas": null,
            "grid_template_columns": null,
            "grid_template_rows": null,
            "height": null,
            "justify_content": null,
            "justify_items": null,
            "left": null,
            "margin": null,
            "max_height": null,
            "max_width": null,
            "min_height": null,
            "min_width": null,
            "object_fit": null,
            "object_position": null,
            "order": null,
            "overflow": null,
            "overflow_x": null,
            "overflow_y": null,
            "padding": null,
            "right": null,
            "top": null,
            "visibility": null,
            "width": null
          }
        },
        "29e9db85d8564094b79f98a65a397a61": {
          "model_module": "@jupyter-widgets/base",
          "model_name": "LayoutModel",
          "model_module_version": "1.2.0",
          "state": {
            "_model_module": "@jupyter-widgets/base",
            "_model_module_version": "1.2.0",
            "_model_name": "LayoutModel",
            "_view_count": null,
            "_view_module": "@jupyter-widgets/base",
            "_view_module_version": "1.2.0",
            "_view_name": "LayoutView",
            "align_content": null,
            "align_items": null,
            "align_self": null,
            "border": null,
            "bottom": null,
            "display": null,
            "flex": null,
            "flex_flow": null,
            "grid_area": null,
            "grid_auto_columns": null,
            "grid_auto_flow": null,
            "grid_auto_rows": null,
            "grid_column": null,
            "grid_gap": null,
            "grid_row": null,
            "grid_template_areas": null,
            "grid_template_columns": null,
            "grid_template_rows": null,
            "height": null,
            "justify_content": null,
            "justify_items": null,
            "left": null,
            "margin": null,
            "max_height": null,
            "max_width": null,
            "min_height": null,
            "min_width": null,
            "object_fit": null,
            "object_position": null,
            "order": null,
            "overflow": null,
            "overflow_x": null,
            "overflow_y": null,
            "padding": null,
            "right": null,
            "top": null,
            "visibility": null,
            "width": null
          }
        },
        "7988bc94b9ac43509b94c7f5ceb9263c": {
          "model_module": "@jupyter-widgets/controls",
          "model_name": "DescriptionStyleModel",
          "model_module_version": "1.5.0",
          "state": {
            "_model_module": "@jupyter-widgets/controls",
            "_model_module_version": "1.5.0",
            "_model_name": "DescriptionStyleModel",
            "_view_count": null,
            "_view_module": "@jupyter-widgets/base",
            "_view_module_version": "1.2.0",
            "_view_name": "StyleView",
            "description_width": ""
          }
        },
        "4d86f438542b43c39f6d4af6633efc32": {
          "model_module": "@jupyter-widgets/base",
          "model_name": "LayoutModel",
          "model_module_version": "1.2.0",
          "state": {
            "_model_module": "@jupyter-widgets/base",
            "_model_module_version": "1.2.0",
            "_model_name": "LayoutModel",
            "_view_count": null,
            "_view_module": "@jupyter-widgets/base",
            "_view_module_version": "1.2.0",
            "_view_name": "LayoutView",
            "align_content": null,
            "align_items": null,
            "align_self": null,
            "border": null,
            "bottom": null,
            "display": null,
            "flex": null,
            "flex_flow": null,
            "grid_area": null,
            "grid_auto_columns": null,
            "grid_auto_flow": null,
            "grid_auto_rows": null,
            "grid_column": null,
            "grid_gap": null,
            "grid_row": null,
            "grid_template_areas": null,
            "grid_template_columns": null,
            "grid_template_rows": null,
            "height": null,
            "justify_content": null,
            "justify_items": null,
            "left": null,
            "margin": null,
            "max_height": null,
            "max_width": null,
            "min_height": null,
            "min_width": null,
            "object_fit": null,
            "object_position": null,
            "order": null,
            "overflow": null,
            "overflow_x": null,
            "overflow_y": null,
            "padding": null,
            "right": null,
            "top": null,
            "visibility": null,
            "width": null
          }
        },
        "60a3027edb6e405891628efa1a32048a": {
          "model_module": "@jupyter-widgets/controls",
          "model_name": "ProgressStyleModel",
          "model_module_version": "1.5.0",
          "state": {
            "_model_module": "@jupyter-widgets/controls",
            "_model_module_version": "1.5.0",
            "_model_name": "ProgressStyleModel",
            "_view_count": null,
            "_view_module": "@jupyter-widgets/base",
            "_view_module_version": "1.2.0",
            "_view_name": "StyleView",
            "bar_color": null,
            "description_width": ""
          }
        },
        "9cb9f76a9b9e4e8197ecdeffc5dc5629": {
          "model_module": "@jupyter-widgets/base",
          "model_name": "LayoutModel",
          "model_module_version": "1.2.0",
          "state": {
            "_model_module": "@jupyter-widgets/base",
            "_model_module_version": "1.2.0",
            "_model_name": "LayoutModel",
            "_view_count": null,
            "_view_module": "@jupyter-widgets/base",
            "_view_module_version": "1.2.0",
            "_view_name": "LayoutView",
            "align_content": null,
            "align_items": null,
            "align_self": null,
            "border": null,
            "bottom": null,
            "display": null,
            "flex": null,
            "flex_flow": null,
            "grid_area": null,
            "grid_auto_columns": null,
            "grid_auto_flow": null,
            "grid_auto_rows": null,
            "grid_column": null,
            "grid_gap": null,
            "grid_row": null,
            "grid_template_areas": null,
            "grid_template_columns": null,
            "grid_template_rows": null,
            "height": null,
            "justify_content": null,
            "justify_items": null,
            "left": null,
            "margin": null,
            "max_height": null,
            "max_width": null,
            "min_height": null,
            "min_width": null,
            "object_fit": null,
            "object_position": null,
            "order": null,
            "overflow": null,
            "overflow_x": null,
            "overflow_y": null,
            "padding": null,
            "right": null,
            "top": null,
            "visibility": null,
            "width": null
          }
        },
        "3d3fe409fe544f55b65db7140d673798": {
          "model_module": "@jupyter-widgets/controls",
          "model_name": "DescriptionStyleModel",
          "model_module_version": "1.5.0",
          "state": {
            "_model_module": "@jupyter-widgets/controls",
            "_model_module_version": "1.5.0",
            "_model_name": "DescriptionStyleModel",
            "_view_count": null,
            "_view_module": "@jupyter-widgets/base",
            "_view_module_version": "1.2.0",
            "_view_name": "StyleView",
            "description_width": ""
          }
        },
        "2820cee2b8504a5fa2c4b3937957286a": {
          "model_module": "@jupyter-widgets/controls",
          "model_name": "HBoxModel",
          "model_module_version": "1.5.0",
          "state": {
            "_dom_classes": [],
            "_model_module": "@jupyter-widgets/controls",
            "_model_module_version": "1.5.0",
            "_model_name": "HBoxModel",
            "_view_count": null,
            "_view_module": "@jupyter-widgets/controls",
            "_view_module_version": "1.5.0",
            "_view_name": "HBoxView",
            "box_style": "",
            "children": [
              "IPY_MODEL_d541c15aaa70432295a06105b8bfc705",
              "IPY_MODEL_dbca2441cc694d89bb6cb1f3021eddd5",
              "IPY_MODEL_7e52fe8de0c947a8953caf1757bdb901"
            ],
            "layout": "IPY_MODEL_0b544333f3034374b0e04a992479a158"
          }
        },
        "d541c15aaa70432295a06105b8bfc705": {
          "model_module": "@jupyter-widgets/controls",
          "model_name": "HTMLModel",
          "model_module_version": "1.5.0",
          "state": {
            "_dom_classes": [],
            "_model_module": "@jupyter-widgets/controls",
            "_model_module_version": "1.5.0",
            "_model_name": "HTMLModel",
            "_view_count": null,
            "_view_module": "@jupyter-widgets/controls",
            "_view_module_version": "1.5.0",
            "_view_name": "HTMLView",
            "description": "",
            "description_tooltip": null,
            "layout": "IPY_MODEL_ece5c55c38c242b2a094895100193141",
            "placeholder": "​",
            "style": "IPY_MODEL_0c796b1084ee43f1ac0e3344444899a7",
            "value": "  0%"
          }
        },
        "dbca2441cc694d89bb6cb1f3021eddd5": {
          "model_module": "@jupyter-widgets/controls",
          "model_name": "FloatProgressModel",
          "model_module_version": "1.5.0",
          "state": {
            "_dom_classes": [],
            "_model_module": "@jupyter-widgets/controls",
            "_model_module_version": "1.5.0",
            "_model_name": "FloatProgressModel",
            "_view_count": null,
            "_view_module": "@jupyter-widgets/controls",
            "_view_module_version": "1.5.0",
            "_view_name": "ProgressView",
            "bar_style": "danger",
            "description": "",
            "description_tooltip": null,
            "layout": "IPY_MODEL_206b15e7490d4e898e6337067cf750ac",
            "max": 1250,
            "min": 0,
            "orientation": "horizontal",
            "style": "IPY_MODEL_fbc6d7b499e245c58925c8886384b71c",
            "value": 5
          }
        },
        "7e52fe8de0c947a8953caf1757bdb901": {
          "model_module": "@jupyter-widgets/controls",
          "model_name": "HTMLModel",
          "model_module_version": "1.5.0",
          "state": {
            "_dom_classes": [],
            "_model_module": "@jupyter-widgets/controls",
            "_model_module_version": "1.5.0",
            "_model_name": "HTMLModel",
            "_view_count": null,
            "_view_module": "@jupyter-widgets/controls",
            "_view_module_version": "1.5.0",
            "_view_name": "HTMLView",
            "description": "",
            "description_tooltip": null,
            "layout": "IPY_MODEL_ef4c99668c184f6f982e701a4504b2aa",
            "placeholder": "​",
            "style": "IPY_MODEL_4e5e13a1897d4a8783e55ebfe76de935",
            "value": " 5/1250 [00:16&lt;1:00:38,  2.92s/it]"
          }
        },
        "0b544333f3034374b0e04a992479a158": {
          "model_module": "@jupyter-widgets/base",
          "model_name": "LayoutModel",
          "model_module_version": "1.2.0",
          "state": {
            "_model_module": "@jupyter-widgets/base",
            "_model_module_version": "1.2.0",
            "_model_name": "LayoutModel",
            "_view_count": null,
            "_view_module": "@jupyter-widgets/base",
            "_view_module_version": "1.2.0",
            "_view_name": "LayoutView",
            "align_content": null,
            "align_items": null,
            "align_self": null,
            "border": null,
            "bottom": null,
            "display": null,
            "flex": null,
            "flex_flow": null,
            "grid_area": null,
            "grid_auto_columns": null,
            "grid_auto_flow": null,
            "grid_auto_rows": null,
            "grid_column": null,
            "grid_gap": null,
            "grid_row": null,
            "grid_template_areas": null,
            "grid_template_columns": null,
            "grid_template_rows": null,
            "height": null,
            "justify_content": null,
            "justify_items": null,
            "left": null,
            "margin": null,
            "max_height": null,
            "max_width": null,
            "min_height": null,
            "min_width": null,
            "object_fit": null,
            "object_position": null,
            "order": null,
            "overflow": null,
            "overflow_x": null,
            "overflow_y": null,
            "padding": null,
            "right": null,
            "top": null,
            "visibility": null,
            "width": null
          }
        },
        "ece5c55c38c242b2a094895100193141": {
          "model_module": "@jupyter-widgets/base",
          "model_name": "LayoutModel",
          "model_module_version": "1.2.0",
          "state": {
            "_model_module": "@jupyter-widgets/base",
            "_model_module_version": "1.2.0",
            "_model_name": "LayoutModel",
            "_view_count": null,
            "_view_module": "@jupyter-widgets/base",
            "_view_module_version": "1.2.0",
            "_view_name": "LayoutView",
            "align_content": null,
            "align_items": null,
            "align_self": null,
            "border": null,
            "bottom": null,
            "display": null,
            "flex": null,
            "flex_flow": null,
            "grid_area": null,
            "grid_auto_columns": null,
            "grid_auto_flow": null,
            "grid_auto_rows": null,
            "grid_column": null,
            "grid_gap": null,
            "grid_row": null,
            "grid_template_areas": null,
            "grid_template_columns": null,
            "grid_template_rows": null,
            "height": null,
            "justify_content": null,
            "justify_items": null,
            "left": null,
            "margin": null,
            "max_height": null,
            "max_width": null,
            "min_height": null,
            "min_width": null,
            "object_fit": null,
            "object_position": null,
            "order": null,
            "overflow": null,
            "overflow_x": null,
            "overflow_y": null,
            "padding": null,
            "right": null,
            "top": null,
            "visibility": null,
            "width": null
          }
        },
        "0c796b1084ee43f1ac0e3344444899a7": {
          "model_module": "@jupyter-widgets/controls",
          "model_name": "DescriptionStyleModel",
          "model_module_version": "1.5.0",
          "state": {
            "_model_module": "@jupyter-widgets/controls",
            "_model_module_version": "1.5.0",
            "_model_name": "DescriptionStyleModel",
            "_view_count": null,
            "_view_module": "@jupyter-widgets/base",
            "_view_module_version": "1.2.0",
            "_view_name": "StyleView",
            "description_width": ""
          }
        },
        "206b15e7490d4e898e6337067cf750ac": {
          "model_module": "@jupyter-widgets/base",
          "model_name": "LayoutModel",
          "model_module_version": "1.2.0",
          "state": {
            "_model_module": "@jupyter-widgets/base",
            "_model_module_version": "1.2.0",
            "_model_name": "LayoutModel",
            "_view_count": null,
            "_view_module": "@jupyter-widgets/base",
            "_view_module_version": "1.2.0",
            "_view_name": "LayoutView",
            "align_content": null,
            "align_items": null,
            "align_self": null,
            "border": null,
            "bottom": null,
            "display": null,
            "flex": null,
            "flex_flow": null,
            "grid_area": null,
            "grid_auto_columns": null,
            "grid_auto_flow": null,
            "grid_auto_rows": null,
            "grid_column": null,
            "grid_gap": null,
            "grid_row": null,
            "grid_template_areas": null,
            "grid_template_columns": null,
            "grid_template_rows": null,
            "height": null,
            "justify_content": null,
            "justify_items": null,
            "left": null,
            "margin": null,
            "max_height": null,
            "max_width": null,
            "min_height": null,
            "min_width": null,
            "object_fit": null,
            "object_position": null,
            "order": null,
            "overflow": null,
            "overflow_x": null,
            "overflow_y": null,
            "padding": null,
            "right": null,
            "top": null,
            "visibility": null,
            "width": null
          }
        },
        "fbc6d7b499e245c58925c8886384b71c": {
          "model_module": "@jupyter-widgets/controls",
          "model_name": "ProgressStyleModel",
          "model_module_version": "1.5.0",
          "state": {
            "_model_module": "@jupyter-widgets/controls",
            "_model_module_version": "1.5.0",
            "_model_name": "ProgressStyleModel",
            "_view_count": null,
            "_view_module": "@jupyter-widgets/base",
            "_view_module_version": "1.2.0",
            "_view_name": "StyleView",
            "bar_color": null,
            "description_width": ""
          }
        },
        "ef4c99668c184f6f982e701a4504b2aa": {
          "model_module": "@jupyter-widgets/base",
          "model_name": "LayoutModel",
          "model_module_version": "1.2.0",
          "state": {
            "_model_module": "@jupyter-widgets/base",
            "_model_module_version": "1.2.0",
            "_model_name": "LayoutModel",
            "_view_count": null,
            "_view_module": "@jupyter-widgets/base",
            "_view_module_version": "1.2.0",
            "_view_name": "LayoutView",
            "align_content": null,
            "align_items": null,
            "align_self": null,
            "border": null,
            "bottom": null,
            "display": null,
            "flex": null,
            "flex_flow": null,
            "grid_area": null,
            "grid_auto_columns": null,
            "grid_auto_flow": null,
            "grid_auto_rows": null,
            "grid_column": null,
            "grid_gap": null,
            "grid_row": null,
            "grid_template_areas": null,
            "grid_template_columns": null,
            "grid_template_rows": null,
            "height": null,
            "justify_content": null,
            "justify_items": null,
            "left": null,
            "margin": null,
            "max_height": null,
            "max_width": null,
            "min_height": null,
            "min_width": null,
            "object_fit": null,
            "object_position": null,
            "order": null,
            "overflow": null,
            "overflow_x": null,
            "overflow_y": null,
            "padding": null,
            "right": null,
            "top": null,
            "visibility": null,
            "width": null
          }
        },
        "4e5e13a1897d4a8783e55ebfe76de935": {
          "model_module": "@jupyter-widgets/controls",
          "model_name": "DescriptionStyleModel",
          "model_module_version": "1.5.0",
          "state": {
            "_model_module": "@jupyter-widgets/controls",
            "_model_module_version": "1.5.0",
            "_model_name": "DescriptionStyleModel",
            "_view_count": null,
            "_view_module": "@jupyter-widgets/base",
            "_view_module_version": "1.2.0",
            "_view_name": "StyleView",
            "description_width": ""
          }
        },
        "66bd3f37a69e4f708bf8ae6770f2bc64": {
          "model_module": "@jupyter-widgets/controls",
          "model_name": "HBoxModel",
          "model_module_version": "1.5.0",
          "state": {
            "_dom_classes": [],
            "_model_module": "@jupyter-widgets/controls",
            "_model_module_version": "1.5.0",
            "_model_name": "HBoxModel",
            "_view_count": null,
            "_view_module": "@jupyter-widgets/controls",
            "_view_module_version": "1.5.0",
            "_view_name": "HBoxView",
            "box_style": "",
            "children": [
              "IPY_MODEL_e13e647f513442bcb14c6e8f123a83ba",
              "IPY_MODEL_68ca7fe4a0ee468eb5a85bd5fa9968f5",
              "IPY_MODEL_df842a2c4aba4c2e8960bd94015a9a3a"
            ],
            "layout": "IPY_MODEL_6b377a1613634415a1ac0366fe8d3c7b"
          }
        },
        "e13e647f513442bcb14c6e8f123a83ba": {
          "model_module": "@jupyter-widgets/controls",
          "model_name": "HTMLModel",
          "model_module_version": "1.5.0",
          "state": {
            "_dom_classes": [],
            "_model_module": "@jupyter-widgets/controls",
            "_model_module_version": "1.5.0",
            "_model_name": "HTMLModel",
            "_view_count": null,
            "_view_module": "@jupyter-widgets/controls",
            "_view_module_version": "1.5.0",
            "_view_name": "HTMLView",
            "description": "",
            "description_tooltip": null,
            "layout": "IPY_MODEL_15f84a1f04dc409b8b795567010b780c",
            "placeholder": "​",
            "style": "IPY_MODEL_835aed7fa3d44e0da18196d51b0e2f54",
            "value": "Epoch 1, loss: 10.263, accuracy: nan:   0%"
          }
        },
        "68ca7fe4a0ee468eb5a85bd5fa9968f5": {
          "model_module": "@jupyter-widgets/controls",
          "model_name": "FloatProgressModel",
          "model_module_version": "1.5.0",
          "state": {
            "_dom_classes": [],
            "_model_module": "@jupyter-widgets/controls",
            "_model_module_version": "1.5.0",
            "_model_name": "FloatProgressModel",
            "_view_count": null,
            "_view_module": "@jupyter-widgets/controls",
            "_view_module_version": "1.5.0",
            "_view_name": "ProgressView",
            "bar_style": "",
            "description": "",
            "description_tooltip": null,
            "layout": "IPY_MODEL_b6ab999ee5804865b90e312ac52c4950",
            "max": 4000,
            "min": 0,
            "orientation": "horizontal",
            "style": "IPY_MODEL_c9feb4db8ac94cff90d5b5331df59ed7",
            "value": 2
          }
        },
        "df842a2c4aba4c2e8960bd94015a9a3a": {
          "model_module": "@jupyter-widgets/controls",
          "model_name": "HTMLModel",
          "model_module_version": "1.5.0",
          "state": {
            "_dom_classes": [],
            "_model_module": "@jupyter-widgets/controls",
            "_model_module_version": "1.5.0",
            "_model_name": "HTMLModel",
            "_view_count": null,
            "_view_module": "@jupyter-widgets/controls",
            "_view_module_version": "1.5.0",
            "_view_name": "HTMLView",
            "description": "",
            "description_tooltip": null,
            "layout": "IPY_MODEL_a320154c35c54432928b15027363482f",
            "placeholder": "​",
            "style": "IPY_MODEL_62c67d9c70db46c49c23b19fbb74de9f",
            "value": " 2/4000 [00:36&lt;20:24:38, 18.38s/it]"
          }
        },
        "6b377a1613634415a1ac0366fe8d3c7b": {
          "model_module": "@jupyter-widgets/base",
          "model_name": "LayoutModel",
          "model_module_version": "1.2.0",
          "state": {
            "_model_module": "@jupyter-widgets/base",
            "_model_module_version": "1.2.0",
            "_model_name": "LayoutModel",
            "_view_count": null,
            "_view_module": "@jupyter-widgets/base",
            "_view_module_version": "1.2.0",
            "_view_name": "LayoutView",
            "align_content": null,
            "align_items": null,
            "align_self": null,
            "border": null,
            "bottom": null,
            "display": null,
            "flex": null,
            "flex_flow": null,
            "grid_area": null,
            "grid_auto_columns": null,
            "grid_auto_flow": null,
            "grid_auto_rows": null,
            "grid_column": null,
            "grid_gap": null,
            "grid_row": null,
            "grid_template_areas": null,
            "grid_template_columns": null,
            "grid_template_rows": null,
            "height": null,
            "justify_content": null,
            "justify_items": null,
            "left": null,
            "margin": null,
            "max_height": null,
            "max_width": null,
            "min_height": null,
            "min_width": null,
            "object_fit": null,
            "object_position": null,
            "order": null,
            "overflow": null,
            "overflow_x": null,
            "overflow_y": null,
            "padding": null,
            "right": null,
            "top": null,
            "visibility": null,
            "width": null
          }
        },
        "15f84a1f04dc409b8b795567010b780c": {
          "model_module": "@jupyter-widgets/base",
          "model_name": "LayoutModel",
          "model_module_version": "1.2.0",
          "state": {
            "_model_module": "@jupyter-widgets/base",
            "_model_module_version": "1.2.0",
            "_model_name": "LayoutModel",
            "_view_count": null,
            "_view_module": "@jupyter-widgets/base",
            "_view_module_version": "1.2.0",
            "_view_name": "LayoutView",
            "align_content": null,
            "align_items": null,
            "align_self": null,
            "border": null,
            "bottom": null,
            "display": null,
            "flex": null,
            "flex_flow": null,
            "grid_area": null,
            "grid_auto_columns": null,
            "grid_auto_flow": null,
            "grid_auto_rows": null,
            "grid_column": null,
            "grid_gap": null,
            "grid_row": null,
            "grid_template_areas": null,
            "grid_template_columns": null,
            "grid_template_rows": null,
            "height": null,
            "justify_content": null,
            "justify_items": null,
            "left": null,
            "margin": null,
            "max_height": null,
            "max_width": null,
            "min_height": null,
            "min_width": null,
            "object_fit": null,
            "object_position": null,
            "order": null,
            "overflow": null,
            "overflow_x": null,
            "overflow_y": null,
            "padding": null,
            "right": null,
            "top": null,
            "visibility": null,
            "width": null
          }
        },
        "835aed7fa3d44e0da18196d51b0e2f54": {
          "model_module": "@jupyter-widgets/controls",
          "model_name": "DescriptionStyleModel",
          "model_module_version": "1.5.0",
          "state": {
            "_model_module": "@jupyter-widgets/controls",
            "_model_module_version": "1.5.0",
            "_model_name": "DescriptionStyleModel",
            "_view_count": null,
            "_view_module": "@jupyter-widgets/base",
            "_view_module_version": "1.2.0",
            "_view_name": "StyleView",
            "description_width": ""
          }
        },
        "b6ab999ee5804865b90e312ac52c4950": {
          "model_module": "@jupyter-widgets/base",
          "model_name": "LayoutModel",
          "model_module_version": "1.2.0",
          "state": {
            "_model_module": "@jupyter-widgets/base",
            "_model_module_version": "1.2.0",
            "_model_name": "LayoutModel",
            "_view_count": null,
            "_view_module": "@jupyter-widgets/base",
            "_view_module_version": "1.2.0",
            "_view_name": "LayoutView",
            "align_content": null,
            "align_items": null,
            "align_self": null,
            "border": null,
            "bottom": null,
            "display": null,
            "flex": null,
            "flex_flow": null,
            "grid_area": null,
            "grid_auto_columns": null,
            "grid_auto_flow": null,
            "grid_auto_rows": null,
            "grid_column": null,
            "grid_gap": null,
            "grid_row": null,
            "grid_template_areas": null,
            "grid_template_columns": null,
            "grid_template_rows": null,
            "height": null,
            "justify_content": null,
            "justify_items": null,
            "left": null,
            "margin": null,
            "max_height": null,
            "max_width": null,
            "min_height": null,
            "min_width": null,
            "object_fit": null,
            "object_position": null,
            "order": null,
            "overflow": null,
            "overflow_x": null,
            "overflow_y": null,
            "padding": null,
            "right": null,
            "top": null,
            "visibility": null,
            "width": null
          }
        },
        "c9feb4db8ac94cff90d5b5331df59ed7": {
          "model_module": "@jupyter-widgets/controls",
          "model_name": "ProgressStyleModel",
          "model_module_version": "1.5.0",
          "state": {
            "_model_module": "@jupyter-widgets/controls",
            "_model_module_version": "1.5.0",
            "_model_name": "ProgressStyleModel",
            "_view_count": null,
            "_view_module": "@jupyter-widgets/base",
            "_view_module_version": "1.2.0",
            "_view_name": "StyleView",
            "bar_color": null,
            "description_width": ""
          }
        },
        "a320154c35c54432928b15027363482f": {
          "model_module": "@jupyter-widgets/base",
          "model_name": "LayoutModel",
          "model_module_version": "1.2.0",
          "state": {
            "_model_module": "@jupyter-widgets/base",
            "_model_module_version": "1.2.0",
            "_model_name": "LayoutModel",
            "_view_count": null,
            "_view_module": "@jupyter-widgets/base",
            "_view_module_version": "1.2.0",
            "_view_name": "LayoutView",
            "align_content": null,
            "align_items": null,
            "align_self": null,
            "border": null,
            "bottom": null,
            "display": null,
            "flex": null,
            "flex_flow": null,
            "grid_area": null,
            "grid_auto_columns": null,
            "grid_auto_flow": null,
            "grid_auto_rows": null,
            "grid_column": null,
            "grid_gap": null,
            "grid_row": null,
            "grid_template_areas": null,
            "grid_template_columns": null,
            "grid_template_rows": null,
            "height": null,
            "justify_content": null,
            "justify_items": null,
            "left": null,
            "margin": null,
            "max_height": null,
            "max_width": null,
            "min_height": null,
            "min_width": null,
            "object_fit": null,
            "object_position": null,
            "order": null,
            "overflow": null,
            "overflow_x": null,
            "overflow_y": null,
            "padding": null,
            "right": null,
            "top": null,
            "visibility": null,
            "width": null
          }
        },
        "62c67d9c70db46c49c23b19fbb74de9f": {
          "model_module": "@jupyter-widgets/controls",
          "model_name": "DescriptionStyleModel",
          "model_module_version": "1.5.0",
          "state": {
            "_model_module": "@jupyter-widgets/controls",
            "_model_module_version": "1.5.0",
            "_model_name": "DescriptionStyleModel",
            "_view_count": null,
            "_view_module": "@jupyter-widgets/base",
            "_view_module_version": "1.2.0",
            "_view_name": "StyleView",
            "description_width": ""
          }
        }
      }
    },
    "kaggle": {
      "accelerator": "gpu",
      "dataSources": [],
      "dockerImageVersionId": 30674,
      "isInternetEnabled": true,
      "language": "python",
      "sourceType": "notebook",
      "isGpuEnabled": true
    }
  },
  "nbformat_minor": 0,
  "nbformat": 4,
  "cells": [
    {
      "cell_type": "markdown",
      "source": [
        "# Decoder-Only Transformer Language Model Implementation"
      ],
      "metadata": {
        "id": "hCxmtVah6yhW"
      }
    },
    {
      "cell_type": "markdown",
      "source": [
        "Inspired by the exercise from https://github.com/jacobhilton/deep_learning_curriculum/blob/master/1-Transformers.md"
      ],
      "metadata": {
        "id": "d_D_Dstu7HA2"
      }
    },
    {
      "cell_type": "code",
      "source": [
        "import torch\n",
        "import torch.nn as nn"
      ],
      "metadata": {
        "id": "XMX8RCugKNZk",
        "execution": {
          "iopub.status.busy": "2024-03-25T00:51:21.480160Z",
          "iopub.execute_input": "2024-03-25T00:51:21.480472Z",
          "iopub.status.idle": "2024-03-25T00:51:25.063413Z",
          "shell.execute_reply.started": "2024-03-25T00:51:21.480446Z",
          "shell.execute_reply": "2024-03-25T00:51:25.062446Z"
        },
        "trusted": true
      },
      "execution_count": null,
      "outputs": []
    },
    {
      "cell_type": "code",
      "source": [
        "!pip install einops\n",
        "import einops"
      ],
      "metadata": {
        "colab": {
          "base_uri": "https://localhost:8080/"
        },
        "id": "7buC_XrJKeCY",
        "outputId": "bb71fad5-1fa3-4704-8b13-7488d2812548",
        "execution": {
          "iopub.status.busy": "2024-03-25T00:51:25.065133Z",
          "iopub.execute_input": "2024-03-25T00:51:25.065495Z",
          "iopub.status.idle": "2024-03-25T00:51:37.982801Z",
          "shell.execute_reply.started": "2024-03-25T00:51:25.065471Z",
          "shell.execute_reply": "2024-03-25T00:51:37.981924Z"
        },
        "trusted": true
      },
      "execution_count": null,
      "outputs": [
        {
          "name": "stdout",
          "text": "Collecting einops\n  Downloading einops-0.7.0-py3-none-any.whl.metadata (13 kB)\nDownloading einops-0.7.0-py3-none-any.whl (44 kB)\n\u001b[2K   \u001b[90m━━━━━━━━━━━━━━━━━━━━━━━━━━━━━━━━━━━━━━━━\u001b[0m \u001b[32m44.6/44.6 kB\u001b[0m \u001b[31m2.0 MB/s\u001b[0m eta \u001b[36m0:00:00\u001b[0m\n\u001b[?25hInstalling collected packages: einops\nSuccessfully installed einops-0.7.0\n",
          "output_type": "stream"
        }
      ]
    },
    {
      "cell_type": "code",
      "source": [
        "device = torch.device(\"cuda\" if torch.cuda.is_available() else \"cpu\")"
      ],
      "metadata": {
        "id": "w6ka3-UTPqMK",
        "execution": {
          "iopub.status.busy": "2024-03-25T00:51:37.984102Z",
          "iopub.execute_input": "2024-03-25T00:51:37.984394Z",
          "iopub.status.idle": "2024-03-25T00:51:38.020809Z",
          "shell.execute_reply.started": "2024-03-25T00:51:37.984367Z",
          "shell.execute_reply": "2024-03-25T00:51:38.019621Z"
        },
        "trusted": true
      },
      "execution_count": null,
      "outputs": []
    },
    {
      "cell_type": "markdown",
      "source": [
        "## Masked Self-Attention"
      ],
      "metadata": {
        "id": "k_cje6tx9bQi"
      }
    },
    {
      "cell_type": "markdown",
      "source": [
        "We move on to implementing the attention mechanism: $softmax(\\frac{QK}{\\sqrt(d_k)})V$ and mask such that a token cannot attend to future tokens.\n",
        "\n",
        "Note in the tensors Q, K, and V, we order the dimensions 'batch pos n_heads d_head' instead of the more intuitive 'batch n_heads pos d_head' in order to take advantage of broadcasting rules for the bias terms."
      ],
      "metadata": {
        "id": "OQzlgg4C9098"
      }
    },
    {
      "cell_type": "code",
      "source": [
        "class Attention(nn.Module):\n",
        "  def __init__(self, cfg):\n",
        "    super().__init__()\n",
        "    self.cfg = cfg\n",
        "    self.W_Q = nn.Parameter(torch.empty(cfg.n_heads, cfg.d_model, cfg.d_head))\n",
        "    self.W_K = nn.Parameter(torch.empty(cfg.n_heads, cfg.d_model, cfg.d_head))\n",
        "    self.W_V = nn.Parameter(torch.empty(cfg.n_heads, cfg.d_model, cfg.d_head))\n",
        "    self.W_O = nn.Parameter(torch.empty(cfg.n_heads, cfg.d_head, cfg.d_model))\n",
        "    self.b_Q = nn.Parameter(torch.zeros(cfg.n_heads, cfg.d_head))\n",
        "    self.b_K = nn.Parameter(torch.zeros(cfg.n_heads, cfg.d_head))\n",
        "    self.b_V = nn.Parameter(torch.zeros(cfg.n_heads, cfg.d_head))\n",
        "    self.b_O = nn.Parameter(torch.zeros(cfg.d_model))\n",
        "    self.register_buffer(\"IGNORE\", torch.tensor(-1e5, dtype=torch.float32, device=device))\n",
        "\n",
        "  def forward(self, x):\n",
        "    Q = einops.einsum(x, self.W_Q,\n",
        "                      'batch pos d_model, n_heads d_model d_head -> \\\n",
        "                      batch pos n_heads d_head') + self.b_Q\n",
        "    K = einops.einsum(x, self.W_K,\n",
        "                      'batch pos d_model, n_heads d_model d_head -> \\\n",
        "                      batch pos n_heads d_head') + self.b_K\n",
        "    V = einops.einsum(x, self.W_V,\n",
        "                      'batch pos d_model, n_heads d_model d_head -> \\\n",
        "                      batch pos n_heads d_head') + self.b_V\n",
        "\n",
        "    # Calculate attention scores, then scale and mask\n",
        "    attn_scores = einops.einsum(Q, K,\n",
        "                                'batch pos_Q n_heads d_head, \\\n",
        "                                batch pos_K n_heads d_head -> \\\n",
        "                                batch n_heads pos_Q pos_K')\n",
        "\n",
        "    attn_scores_masked = self.apply_causal_mask(attn_scores / self.cfg.d_head ** 0.5)\n",
        "\n",
        "    attn_pattern = attn_scores_masked.softmax(-1)\n",
        "\n",
        "    # Take weighted sum of values based on attention pattern\n",
        "    v_sum = einops.einsum(attn_pattern, V,\n",
        "                          'batch n_heads pos_Q pos_K, \\\n",
        "                          batch pos_K n_heads d_head -> \\\n",
        "                          batch pos_Q n_heads d_head')\n",
        "\n",
        "    # Calculate output\n",
        "    return einops.einsum(v_sum, self.W_O,\n",
        "                         'batch pos_Q n_heads d_head, \\\n",
        "                         n_heads d_head d_model -> \\\n",
        "                         batch pos_Q d_model') + self.b_O\n",
        "\n",
        "  def apply_causal_mask(self, attention_scores):\n",
        "    ones = torch.ones(attention_scores.shape[-2], attention_scores.shape[-1], device=attention_scores.device)\n",
        "    mask = torch.triu(ones, diagonal=1).bool()\n",
        "\n",
        "    return attention_scores.masked_fill_(mask, self.IGNORE)"
      ],
      "metadata": {
        "id": "G1eZbJF4ZUQT",
        "execution": {
          "iopub.status.busy": "2024-03-25T00:51:38.023512Z",
          "iopub.execute_input": "2024-03-25T00:51:38.023826Z",
          "iopub.status.idle": "2024-03-25T00:51:38.037027Z",
          "shell.execute_reply.started": "2024-03-25T00:51:38.023803Z",
          "shell.execute_reply": "2024-03-25T00:51:38.036361Z"
        },
        "trusted": true
      },
      "execution_count": null,
      "outputs": []
    },
    {
      "cell_type": "markdown",
      "source": [
        "## MLP"
      ],
      "metadata": {
        "id": "uSUo528N9zbI"
      }
    },
    {
      "cell_type": "markdown",
      "source": [
        "Next we implement a MLP class that first projects the input to a higher dimension, applies a nonlinearity, and then reprojects it back down to the model dimension."
      ],
      "metadata": {
        "id": "WK60KuQ6rwd8"
      }
    },
    {
      "cell_type": "code",
      "source": [
        "class MLP(nn.Module):\n",
        "  def __init__(self, cfg):\n",
        "    super().__init__()\n",
        "    self.cfg = cfg\n",
        "    self.W1 = nn.Parameter(torch.empty(cfg.d_model, cfg.d_mlp))\n",
        "    self.W2 = nn.Parameter(torch.empty(cfg.d_mlp, cfg.d_model))\n",
        "    self.b1 = nn.Parameter(torch.zeros(cfg.d_mlp))\n",
        "    self.b2 = nn.Parameter(torch.zeros(cfg.d_model))\n",
        "    self.activation_fn = cfg.activation_fn\n",
        "\n",
        "  def forward(self, x):\n",
        "    x = einops.einsum(x, self.W1,\n",
        "                      'batch pos d_model, d_model d_mlp -> batch pos d_mlp') + self.b1\n",
        "    x = self.activation_fn(x)\n",
        "    x = einops.einsum(x, self.W2,\n",
        "                      'batch pos d_mlp, d_mlp d_model -> batch pos d_model') + self.b2\n",
        "    return x"
      ],
      "metadata": {
        "id": "v88RTNKirp2D",
        "execution": {
          "iopub.status.busy": "2024-03-25T00:51:38.037972Z",
          "iopub.execute_input": "2024-03-25T00:51:38.038208Z",
          "iopub.status.idle": "2024-03-25T00:51:38.050581Z",
          "shell.execute_reply.started": "2024-03-25T00:51:38.038182Z",
          "shell.execute_reply": "2024-03-25T00:51:38.049800Z"
        },
        "trusted": true
      },
      "execution_count": null,
      "outputs": []
    },
    {
      "cell_type": "markdown",
      "source": [
        "## LayerNorm"
      ],
      "metadata": {
        "id": "Kjf-1V-89_Fm"
      }
    },
    {
      "cell_type": "markdown",
      "source": [
        "While we could simply use PyTorch's implementation of [LayerNorm](https://pytorch.org/docs/stable/generated/torch.nn.LayerNorm.html), let's implement it from scratch to get a deeper understanding of it."
      ],
      "metadata": {
        "id": "F4p51aRQwkIq"
      }
    },
    {
      "cell_type": "code",
      "source": [
        "class LayerNorm(nn.Module):\n",
        "  def __init__(self, cfg):\n",
        "    super().__init__()\n",
        "    self.cfg = cfg\n",
        "    self.gamma = nn.Parameter(torch.ones(cfg.d_model))\n",
        "    self.beta = nn.Parameter(torch.zeros(cfg.d_model))\n",
        "\n",
        "  def forward(self, x): # [batch, pos, d_model]\n",
        "    mean = x.mean(dim=-1, keepdims=True)\n",
        "    var = x.var(dim=-1, keepdims=True, unbiased=False)\n",
        "    eps = torch.tensor(1e-5)\n",
        "    return (x - mean) / (var + eps).sqrt() * self.gamma + self.beta"
      ],
      "metadata": {
        "id": "0kZWVlM3vFUB",
        "execution": {
          "iopub.status.busy": "2024-03-25T00:51:38.051657Z",
          "iopub.execute_input": "2024-03-25T00:51:38.052170Z",
          "iopub.status.idle": "2024-03-25T00:51:38.061375Z",
          "shell.execute_reply.started": "2024-03-25T00:51:38.052147Z",
          "shell.execute_reply": "2024-03-25T00:51:38.060464Z"
        },
        "trusted": true
      },
      "execution_count": null,
      "outputs": []
    },
    {
      "cell_type": "markdown",
      "source": [
        "## Transformer Block"
      ],
      "metadata": {
        "id": "NQzq5oeOwH4m"
      }
    },
    {
      "cell_type": "code",
      "source": [
        "class TransformerBlock(nn.Module):\n",
        "  def __init__(self, cfg):\n",
        "    super().__init__()\n",
        "    self.attention_heads = Attention(cfg)\n",
        "    self.mlp = MLP(cfg)\n",
        "    self.ln1 = LayerNorm(cfg)\n",
        "    self.ln2 = LayerNorm(cfg)\n",
        "\n",
        "  def forward(self, x):\n",
        "    x_mid = self.attention_heads(self.ln1(x)) + x\n",
        "    x_post = self.mlp(self.ln2(x)) + x_mid\n",
        "    return x_post"
      ],
      "metadata": {
        "id": "Ho5dwbaHPXxQ",
        "execution": {
          "iopub.status.busy": "2024-03-25T00:51:38.062454Z",
          "iopub.execute_input": "2024-03-25T00:51:38.063072Z",
          "iopub.status.idle": "2024-03-25T00:51:38.071553Z",
          "shell.execute_reply.started": "2024-03-25T00:51:38.063039Z",
          "shell.execute_reply": "2024-03-25T00:51:38.070741Z"
        },
        "trusted": true
      },
      "execution_count": null,
      "outputs": []
    },
    {
      "cell_type": "markdown",
      "source": [
        "## Positional Embedding"
      ],
      "metadata": {
        "id": "lyu1OsJe8o6z"
      }
    },
    {
      "cell_type": "markdown",
      "source": [
        "We implement the sinusoidal positional embeddings described in the original Vaswani et al. paper, although learned embeddings can also be used."
      ],
      "metadata": {
        "id": "B_Enya2LBhvS"
      }
    },
    {
      "cell_type": "markdown",
      "source": [
        "$P(k,2i)=sin(\\frac{k}{n^{2i/d}}​)$\n",
        "\n",
        "$P(k,2i+1)=cos⁡(\\frac{k}{n^{2i/d}})$\n",
        "\n",
        "- k: Position of an object in the input sequence\n",
        "- d: Dimension of the output embedding space\n",
        "- P(k,j): Position function for mapping a position k in the input sequence to index (k,j) of the positional matrix\n",
        "- n: User-defined scalar (e.g., set to 10,000 by the authors)\n",
        "- i: Used for mapping to column indices\n",
        "\n",
        "where $n = 10000$"
      ],
      "metadata": {
        "id": "xNndKdbXCWT6"
      }
    },
    {
      "cell_type": "code",
      "source": [
        "class PosEmbed(nn.Module):\n",
        "  def __init__(self, cfg):\n",
        "    super().__init__()\n",
        "    self.cfg = cfg\n",
        "\n",
        "  def forward(self, seq_len):\n",
        "    assert(seq_len <= self.cfg.d_seq)\n",
        "    input_positions = einops.rearrange(torch.arange(seq_len), 'd_seq -> d_seq 1')\n",
        "    embedded_positions = einops.rearrange(torch.arange(self.cfg.d_model), 'd_model -> 1 d_model')\n",
        "    angles = self.get_angles(input_positions, embedded_positions, self.cfg.d_model)\n",
        "    angles[:, 0::2] = torch.sin(angles[:, 0::2])\n",
        "    angles[:, 1::2] = torch.cos(angles[:, 1::2])\n",
        "    embedding = einops.rearrange(angles, 'd_seq d_model -> 1 d_seq d_model') # for broadcasting\n",
        "    return embedding.to(device)\n",
        "\n",
        "  def get_angles(self, input_pos, output_pos, d_model):\n",
        "    return input_pos / torch.pow(1e5, 2*(output_pos // 2) / float(d_model))"
      ],
      "metadata": {
        "id": "3QK34GL3SqW_",
        "execution": {
          "iopub.status.busy": "2024-03-25T00:51:38.072657Z",
          "iopub.execute_input": "2024-03-25T00:51:38.072998Z",
          "iopub.status.idle": "2024-03-25T00:51:38.086207Z",
          "shell.execute_reply.started": "2024-03-25T00:51:38.072969Z",
          "shell.execute_reply": "2024-03-25T00:51:38.085293Z"
        },
        "trusted": true
      },
      "execution_count": null,
      "outputs": []
    },
    {
      "cell_type": "markdown",
      "source": [
        "### Visualizing the position embedding"
      ],
      "metadata": {
        "id": "2y_FC1SJ9XQG"
      }
    },
    {
      "cell_type": "code",
      "source": [
        "# mostly from https://github.com/jalammar/jalammar.github.io/blob/master/notebookes/transformer/transformer_positional_encoding_graph.ipynb\n",
        "import numpy as np\n",
        "import matplotlib.pyplot as plt\n",
        "\n",
        "def positional_embedding(d_seq, d_model):\n",
        "  def get_angles(k, i, d_model):\n",
        "    return k / np.power(10000, (2*(i // 2) / float(d_model)))\n",
        "\n",
        "  angles = get_angles(np.arange(d_seq)[:, np.newaxis],\n",
        "                      np.arange(d_model)[np.newaxis, :],\n",
        "                      d_model)\n",
        "\n",
        "  angles[:, 0::2] = np.sin(angles[:, 0::2])\n",
        "  angles[:, 1::2] = np.cos(angles[:, 1::2])\n",
        "\n",
        "  return angles[np.newaxis, :]\n",
        "\n",
        "tokens = 32\n",
        "dimensions = 128\n",
        "\n",
        "pos_embedding = positional_embedding(tokens, dimensions)\n",
        "print (pos_embedding.shape)\n",
        "\n",
        "plt.figure(figsize=(12,8))\n",
        "plt.pcolormesh(pos_embedding[0], cmap='viridis')\n",
        "plt.xlabel('Embedding Dimensions')\n",
        "plt.xlim((0, dimensions))\n",
        "plt.ylim((tokens,0))\n",
        "plt.ylabel('Token Position')\n",
        "plt.colorbar()\n",
        "plt.show()"
      ],
      "metadata": {
        "id": "AsKIcP0PBic4",
        "colab": {
          "base_uri": "https://localhost:8080/",
          "height": 73
        },
        "outputId": "4508c484-6593-4981-bb91-560b02ecd99f",
        "execution": {
          "iopub.status.busy": "2024-03-25T00:51:38.087298Z",
          "iopub.execute_input": "2024-03-25T00:51:38.087564Z",
          "iopub.status.idle": "2024-03-25T00:51:38.463402Z",
          "shell.execute_reply.started": "2024-03-25T00:51:38.087537Z",
          "shell.execute_reply": "2024-03-25T00:51:38.462524Z"
        },
        "trusted": true
      },
      "execution_count": null,
      "outputs": [
        {
          "name": "stdout",
          "text": "(1, 32, 128)\n",
          "output_type": "stream"
        },
        {
          "output_type": "display_data",
          "data": {
            "text/plain": "<Figure size 1200x800 with 2 Axes>",
            "image/png": "[encoded data removed]"
          },
          "metadata": {}
        }
      ]
    },
    {
      "cell_type": "markdown",
      "source": [
        "## Embedding and Unembedding"
      ],
      "metadata": {
        "id": "7LOkCzD5Zstp"
      }
    },
    {
      "cell_type": "markdown",
      "source": [
        "The embedding module is basically a lookup table from tokens (each represented as an integer) to embeddings to start the residual stream."
      ],
      "metadata": {
        "id": "3VY4GgRpbEAR"
      }
    },
    {
      "cell_type": "code",
      "source": [
        "class Embed(nn.Module):\n",
        "  def __init__(self, cfg):\n",
        "    super().__init__()\n",
        "    self.W = nn.Parameter(torch.empty(cfg.d_vocab, cfg.d_model))\n",
        "\n",
        "  def forward(self, tokens):\n",
        "    return self.W[tokens]"
      ],
      "metadata": {
        "id": "Bpi1n5DLZqOw",
        "execution": {
          "iopub.status.busy": "2024-03-25T00:51:38.466535Z",
          "iopub.execute_input": "2024-03-25T00:51:38.466824Z",
          "iopub.status.idle": "2024-03-25T00:51:38.472469Z",
          "shell.execute_reply.started": "2024-03-25T00:51:38.466799Z",
          "shell.execute_reply": "2024-03-25T00:51:38.471642Z"
        },
        "trusted": true
      },
      "execution_count": null,
      "outputs": []
    },
    {
      "cell_type": "code",
      "source": [
        "class Unembed(nn.Module):\n",
        "  def __init__(self, cfg):\n",
        "    super().__init__()\n",
        "    self.W = nn.Parameter(torch.empty(cfg.d_model, cfg.d_vocab))\n",
        "    self.b = nn.Parameter(torch.zeros(cfg.d_vocab))\n",
        "\n",
        "  def forward(self, x): # [batch, pos, d_model] -> [batch, pos, d_vocab]\n",
        "    x = einops.einsum(x, self.W,\n",
        "                      'batch pos d_model, d_model d_vocab -> batch pos d_vocab') + self.b\n",
        "    return x"
      ],
      "metadata": {
        "id": "XvSKWL_5bZyz",
        "execution": {
          "iopub.status.busy": "2024-03-25T00:51:38.473553Z",
          "iopub.execute_input": "2024-03-25T00:51:38.473901Z",
          "iopub.status.idle": "2024-03-25T00:51:38.481779Z",
          "shell.execute_reply.started": "2024-03-25T00:51:38.473867Z",
          "shell.execute_reply": "2024-03-25T00:51:38.480963Z"
        },
        "trusted": true
      },
      "execution_count": null,
      "outputs": []
    },
    {
      "cell_type": "markdown",
      "source": [
        "## Putting It All Together"
      ],
      "metadata": {
        "id": "8AjvaaJp-DC7"
      }
    },
    {
      "cell_type": "markdown",
      "source": [
        "Let's now put together a complete transformer architecture, although in order to actually use it for a concrete task we'll also need a tokenizer."
      ],
      "metadata": {
        "id": "57e-Gms5d2r6"
      }
    },
    {
      "cell_type": "code",
      "source": [
        "class Transformer(nn.Module):\n",
        "  def __init__(self, cfg):\n",
        "    super().__init__()\n",
        "    self.cfg = cfg\n",
        "    self.embed = Embed(cfg)\n",
        "    self.pos_embed = PosEmbed(cfg)\n",
        "    self.blocks = nn.ModuleList(TransformerBlock(cfg) for _ in range(cfg.n_layers))\n",
        "    self.final_ln = LayerNorm(cfg)\n",
        "    self.unembed = Unembed(cfg)\n",
        "\n",
        "  def forward(self, tokens): # [batch, pos] -> [batch, pos, d_model]\n",
        "    x = self.embed(tokens) + self.pos_embed(tokens.size(1)) # [batch, pos, d_model]\n",
        "    for block in self.blocks:\n",
        "      x = block(x)                            # [batch, pos, d_model]\n",
        "    x = self.final_ln(x)                      # [batch, pos, d_model]\n",
        "    logits = self.unembed(x)                  # [batch, pos, d_vocab]\n",
        "    return logits"
      ],
      "metadata": {
        "id": "ZemzS15FRV4Q",
        "execution": {
          "iopub.status.busy": "2024-03-25T00:51:38.482848Z",
          "iopub.execute_input": "2024-03-25T00:51:38.483345Z",
          "iopub.status.idle": "2024-03-25T00:51:38.491789Z",
          "shell.execute_reply.started": "2024-03-25T00:51:38.483322Z",
          "shell.execute_reply": "2024-03-25T00:51:38.491014Z"
        },
        "trusted": true
      },
      "execution_count": null,
      "outputs": []
    },
    {
      "cell_type": "markdown",
      "source": [
        "# Attention Mask Validation: Reversing a Random Sequence of Tokens"
      ],
      "metadata": {
        "id": "E0gI4F498sWS"
      }
    },
    {
      "cell_type": "markdown",
      "source": [
        "To check that the attention mask is set up correctly, we train the model on a toy task, such as reversing a random sequence of tokens. The model should be able to predict the second half of the sequence, but not the first.\n"
      ],
      "metadata": {
        "id": "3uRmUKi98Y7g"
      }
    },
    {
      "cell_type": "markdown",
      "source": [
        "Let the tokens be random integers from 0 to 99 such that the vocab size is 100. Let's also set the other necessary configuration parameters:"
      ],
      "metadata": {
        "id": "igZoz7A_lvhx"
      }
    },
    {
      "cell_type": "markdown",
      "source": [
        "### Generate a dataset"
      ],
      "metadata": {
        "id": "_zbezt1551Lx"
      }
    },
    {
      "cell_type": "markdown",
      "source": [
        "Now lets generate some training data. We want sequences of random integers of length 16, with the second half mirroring the first half. Here we generate 1000 sequences."
      ],
      "metadata": {
        "id": "3eENi_ivqJus"
      }
    },
    {
      "cell_type": "code",
      "source": [
        "from torch.utils.data import Dataset, DataLoader\n",
        "\n",
        "class RandomIntSeqDataset(Dataset):\n",
        "  def __init__(self):\n",
        "    rng = torch.Generator()\n",
        "    rng.manual_seed(42)\n",
        "    self.data = torch.randint(0, 100, (100000, 8), generator=rng)\n",
        "\n",
        "  def __len__(self):\n",
        "    return self.data.size(0)\n",
        "\n",
        "  def __getitem__(self, idx):\n",
        "    item = self.data[idx, :]\n",
        "    return torch.hstack((item, torch.flip(item, [1])))\n",
        "\n",
        "dataset = RandomIntSeqDataset()"
      ],
      "metadata": {
        "id": "0LCahjZyrlZ_",
        "execution": {
          "iopub.status.busy": "2024-03-25T00:51:38.492784Z",
          "iopub.execute_input": "2024-03-25T00:51:38.493045Z",
          "iopub.status.idle": "2024-03-25T00:51:38.534980Z",
          "shell.execute_reply.started": "2024-03-25T00:51:38.493022Z",
          "shell.execute_reply": "2024-03-25T00:51:38.534135Z"
        },
        "trusted": true
      },
      "execution_count": null,
      "outputs": []
    },
    {
      "cell_type": "code",
      "source": [
        "train_size = int(len(dataset) * 0.8)\n",
        "train_dl = DataLoader(dataset[:train_size], batch_size=64, shuffle=True, drop_last=True)\n",
        "valid_dl = DataLoader(dataset[train_size:], batch_size=64, drop_last=True)"
      ],
      "metadata": {
        "id": "eehlR0xkvj6l",
        "execution": {
          "iopub.status.busy": "2024-03-25T00:51:38.535903Z",
          "iopub.execute_input": "2024-03-25T00:51:38.536139Z",
          "iopub.status.idle": "2024-03-25T00:51:38.579524Z",
          "shell.execute_reply.started": "2024-03-25T00:51:38.536118Z",
          "shell.execute_reply": "2024-03-25T00:51:38.578721Z"
        },
        "trusted": true
      },
      "execution_count": null,
      "outputs": []
    },
    {
      "cell_type": "markdown",
      "source": [
        "### Loss Function"
      ],
      "metadata": {
        "id": "T6H9c9W45kKO"
      }
    },
    {
      "cell_type": "markdown",
      "source": [
        "Now lets define our loss function. In language models, we typically want to compare the predicted log-probabilities with the actual next token in the sequence. We exclude the log-probabilities for the last token in each sequence, as we don't have a \"next token\" to compare it with."
      ],
      "metadata": {
        "id": "G9VFGDJx-BPx"
      }
    },
    {
      "cell_type": "code",
      "source": [
        "def get_log_probs(logits, tokens): # [batch, pos, d_vocab], [batch, pos] -> [batch, pos-1]\n",
        "  log_probs = logits.log_softmax(dim=-1)\n",
        "\n",
        "  # Get logprobs the first seq_len-1 predictions (so we can compare them with the actual next tokens)\n",
        "  log_prob_correct = log_probs[:, :-1].gather(dim=-1, index=tokens[:, 1:].unsqueeze(-1)).squeeze(-1)\n",
        "\n",
        "  ### Same as the following\n",
        "  # actual = torch.nn.functional.one_hot(tokens[:, 1:].long(), num_classes=logits.size(-1))\n",
        "  # log_prob_correct = (log_probs[:, :-1] * actual).sum(-1)\n",
        "\n",
        "  return log_prob_correct\n",
        "\n",
        "\n",
        "def cross_entropy_loss(logits, tokens):\n",
        "  log_prob_correct = get_log_probs(logits, tokens)\n",
        "  return -log_prob_correct.mean()"
      ],
      "metadata": {
        "id": "qgQZPiCE36Qw",
        "execution": {
          "iopub.status.busy": "2024-03-25T00:51:38.580796Z",
          "iopub.execute_input": "2024-03-25T00:51:38.581054Z",
          "iopub.status.idle": "2024-03-25T00:51:38.586407Z",
          "shell.execute_reply.started": "2024-03-25T00:51:38.581032Z",
          "shell.execute_reply": "2024-03-25T00:51:38.585537Z"
        },
        "trusted": true
      },
      "execution_count": null,
      "outputs": []
    },
    {
      "cell_type": "markdown",
      "source": [
        "### Instantiate a model"
      ],
      "metadata": {
        "id": "2jGmMOP658Vy"
      }
    },
    {
      "cell_type": "code",
      "source": [
        "class Config:\n",
        "  def __init__(self):\n",
        "    self.n_heads = 6\n",
        "    self.d_head = 64\n",
        "    self.d_model = self.n_heads * self.d_head\n",
        "    self.n_layers = 6\n",
        "    self.d_mlp = self.d_model * 4\n",
        "    self.d_vocab = 100\n",
        "    self.d_seq = 16\n",
        "    self.activation_fn = torch.nn.ReLU()"
      ],
      "metadata": {
        "id": "F9KeLA35k7q0",
        "execution": {
          "iopub.status.busy": "2024-03-25T00:51:38.587519Z",
          "iopub.execute_input": "2024-03-25T00:51:38.587794Z",
          "iopub.status.idle": "2024-03-25T00:51:38.596682Z",
          "shell.execute_reply.started": "2024-03-25T00:51:38.587773Z",
          "shell.execute_reply": "2024-03-25T00:51:38.595799Z"
        },
        "trusted": true
      },
      "execution_count": null,
      "outputs": []
    },
    {
      "cell_type": "code",
      "source": [
        "cfg = Config()\n",
        "transformer = Transformer(cfg)\n",
        "\n",
        "def init_weights(m):\n",
        "  std = 0.02\n",
        "  if isinstance(m, Attention):\n",
        "    torch.nn.init.normal_(m.W_Q, std=std)\n",
        "    torch.nn.init.normal_(m.W_K, std=std)\n",
        "    torch.nn.init.normal_(m.W_V, std=std)\n",
        "    torch.nn.init.normal_(m.W_O, std=std)\n",
        "  if isinstance(m, MLP):\n",
        "    torch.nn.init.normal_(m.W1, std=std)\n",
        "    torch.nn.init.normal_(m.W2, std=std)\n",
        "  if isinstance(m, Embed):\n",
        "    torch.nn.init.normal_(m.W, std=std)\n",
        "  if isinstance(m, Unembed):\n",
        "    torch.nn.init.normal_(m.W, std=std)\n",
        "\n",
        "transformer.apply(init_weights)"
      ],
      "metadata": {
        "colab": {
          "base_uri": "https://localhost:8080/"
        },
        "id": "kNnozxS2nU6W",
        "outputId": "33323ee1-8121-4647-95f2-649efe4963bf",
        "execution": {
          "iopub.status.busy": "2024-03-25T00:51:38.597801Z",
          "iopub.execute_input": "2024-03-25T00:51:38.598036Z",
          "iopub.status.idle": "2024-03-25T00:51:38.878688Z",
          "shell.execute_reply.started": "2024-03-25T00:51:38.598016Z",
          "shell.execute_reply": "2024-03-25T00:51:38.877819Z"
        },
        "trusted": true
      },
      "execution_count": null,
      "outputs": [
        {
          "execution_count": 17,
          "output_type": "execute_result",
          "data": {
            "text/plain": "Transformer(\n  (embed): Embed()\n  (pos_embed): PosEmbed()\n  (blocks): ModuleList(\n    (0-5): 6 x TransformerBlock(\n      (attention_heads): Attention()\n      (mlp): MLP(\n        (activation_fn): ReLU()\n      )\n      (ln1): LayerNorm()\n      (ln2): LayerNorm()\n    )\n  )\n  (final_ln): LayerNorm()\n  (unembed): Unembed()\n)"
          },
          "metadata": {}
        }
      ]
    },
    {
      "cell_type": "markdown",
      "source": [
        "### Trainer"
      ],
      "metadata": {
        "id": "L8Hip_Lo5nvy"
      }
    },
    {
      "cell_type": "markdown",
      "source": [
        "Onto the training loop!"
      ],
      "metadata": {
        "id": "yAXxw-pwt_dZ"
      }
    },
    {
      "cell_type": "code",
      "source": [
        "from tqdm.notebook import tqdm"
      ],
      "metadata": {
        "id": "yRXrvB7_OBDU",
        "execution": {
          "iopub.status.busy": "2024-03-25T00:51:38.879914Z",
          "iopub.execute_input": "2024-03-25T00:51:38.880305Z",
          "iopub.status.idle": "2024-03-25T00:51:38.964073Z",
          "shell.execute_reply.started": "2024-03-25T00:51:38.880258Z",
          "shell.execute_reply": "2024-03-25T00:51:38.963331Z"
        },
        "trusted": true
      },
      "execution_count": null,
      "outputs": []
    },
    {
      "cell_type": "code",
      "source": [
        "class DataLoaders:\n",
        "  def __init__(self, train_dataloader, valid_dataloader):\n",
        "    self.train_dataloader = train_dataloader\n",
        "    self.valid_dataloader = valid_dataloader\n",
        "\n",
        "  def train_dl(self):\n",
        "    return self.train_dataloader\n",
        "\n",
        "  def valid_dl(self):\n",
        "    return self.valid_dataloader"
      ],
      "metadata": {
        "id": "IzVyq1tY-DbF",
        "execution": {
          "iopub.status.busy": "2024-03-25T00:51:38.965179Z",
          "iopub.execute_input": "2024-03-25T00:51:38.965522Z",
          "iopub.status.idle": "2024-03-25T00:51:38.970841Z",
          "shell.execute_reply.started": "2024-03-25T00:51:38.965491Z",
          "shell.execute_reply": "2024-03-25T00:51:38.969981Z"
        },
        "trusted": true
      },
      "execution_count": null,
      "outputs": []
    },
    {
      "cell_type": "code",
      "source": [
        "class Learner:\n",
        "  def __init__(self, dataloaders, model, optimizer, loss_func,\n",
        "               scheduler=None, gradient_accumulation_batch_size=64):\n",
        "    self.dataloaders = dataloaders\n",
        "    self.model = model.to(device)\n",
        "    self.optimizer = optimizer\n",
        "    for param_group in self.optimizer.param_groups:\n",
        "      for param in param_group['params']:\n",
        "          param.data = param.data.to(device)\n",
        "    self.loss_func = loss_func\n",
        "    self.scheduler = scheduler\n",
        "    self.val_losses = []\n",
        "    self.gradient_accumulation_bs = gradient_accumulation_batch_size\n",
        "    self.gradient_accumulation_count = 0\n",
        "\n",
        "  def fit(self, epochs):\n",
        "    for epoch in tqdm(range(epochs)):\n",
        "      self.model.train()\n",
        "      train_loss = 0.\n",
        "      for seqs in tqdm(self.dataloaders.train_dl()):\n",
        "        seqs = seqs.to(device)\n",
        "        preds = self.model(seqs)\n",
        "        loss = self.loss_func(preds, seqs)\n",
        "        train_loss += loss\n",
        "        loss.backward()\n",
        "        self.optimizer.step()\n",
        "        self.gradient_accumulation_count += len(seqs)\n",
        "        if self.gradient_accumulation_count - self.gradient_accumulation_bs > 0:\n",
        "          self.gradient_accumulation_count = 0\n",
        "          self.optimizer.zero_grad()\n",
        "        if self.scheduler:\n",
        "          self.scheduler.step()\n",
        "      print(\"avg training loss: \", train_loss / len(self.dataloaders.train_dl()))\n",
        "\n",
        "      self.model.eval()\n",
        "      with torch.no_grad():\n",
        "        val_losses = 0.\n",
        "        metric_results = []\n",
        "        for seqs in self.dataloaders.valid_dl():\n",
        "          seqs = seqs.to(device)\n",
        "          preds = self.model(seqs)\n",
        "          val_losses += self.loss_func(preds, seqs)\n",
        "        num_batches = len(self.dataloaders.valid_dl())\n",
        "        print(\"avg validation loss: \", val_losses / num_batches)"
      ],
      "metadata": {
        "id": "RydvXKaz9NAd",
        "execution": {
          "iopub.status.busy": "2024-03-25T00:51:38.971956Z",
          "iopub.execute_input": "2024-03-25T00:51:38.972205Z",
          "iopub.status.idle": "2024-03-25T00:51:38.984946Z",
          "shell.execute_reply.started": "2024-03-25T00:51:38.972184Z",
          "shell.execute_reply": "2024-03-25T00:51:38.984110Z"
        },
        "trusted": true
      },
      "execution_count": null,
      "outputs": []
    },
    {
      "cell_type": "markdown",
      "source": [
        "### Train the model"
      ],
      "metadata": {
        "id": "c5uXUJngBJQS"
      }
    },
    {
      "cell_type": "markdown",
      "source": [
        "Since we start with randomized weights and randomly generated data, we should expect the loss to start at a particular value, and be lower bounded by another value.\n",
        "\n",
        "Since the integers in the sequence can take on any value from 0 to 99, an untrained model should have average loss around $-ln(\\frac{1}{100}) ≈ 4.6$.\n",
        "\n",
        "A trained model should be able to accurately predict the second half of each sequence, so the average loss for predicting a sequence of length $16$ should converge to $-ln(\\frac{1}{100}) * \\frac{7}{15} + -ln(\\frac{1}{1}) * \\frac{8}{15} \\approx 2.149$.\n",
        "\n",
        "The $15$ in the denominator comes from discarding the last prediction in the sequence since it has nothing to match with. The first $7$ elements of the sequence should not be predictable, but the 8th-15th prediction should match with the 1st-8th elements of the input."
      ],
      "metadata": {
        "id": "d5HQCIUmHiqg"
      }
    },
    {
      "cell_type": "code",
      "source": [
        "dls = DataLoaders(train_dl, valid_dl)\n",
        "epochs = 10\n",
        "optimizer = torch.optim.Adam(transformer.parameters(), lr=1e-4)\n",
        "loss_func = cross_entropy_loss\n",
        "scheduler = torch.optim.lr_scheduler.OneCycleLR(\n",
        "    optimizer, max_lr=1e-3, steps_per_epoch=len(train_dl), epochs=epochs)\n",
        "learner = Learner(\n",
        "    dls, transformer.to(device), optimizer, loss_func, scheduler,\n",
        "    gradient_accumulation_batch_size=64)\n",
        "learner.fit(epochs)"
      ],
      "metadata": {
        "colab": {
          "base_uri": "https://localhost:8080/",
          "height": 401,
          "referenced_widgets": [
            "1007671bd7534eea9a2b9c341541a005",
            "884efd19d142448d81b8a8d8bf7cd678",
            "f3b1eac3f9394e1990a6c548d8f21aba",
            "bb965430bbd4418aada217aadc03a001",
            "99fb9235faad47228c85a729e8fc9117",
            "29e9db85d8564094b79f98a65a397a61",
            "7988bc94b9ac43509b94c7f5ceb9263c",
            "4d86f438542b43c39f6d4af6633efc32",
            "60a3027edb6e405891628efa1a32048a",
            "9cb9f76a9b9e4e8197ecdeffc5dc5629",
            "3d3fe409fe544f55b65db7140d673798",
            "2820cee2b8504a5fa2c4b3937957286a",
            "d541c15aaa70432295a06105b8bfc705",
            "dbca2441cc694d89bb6cb1f3021eddd5",
            "7e52fe8de0c947a8953caf1757bdb901",
            "0b544333f3034374b0e04a992479a158",
            "ece5c55c38c242b2a094895100193141",
            "0c796b1084ee43f1ac0e3344444899a7",
            "206b15e7490d4e898e6337067cf750ac",
            "fbc6d7b499e245c58925c8886384b71c",
            "ef4c99668c184f6f982e701a4504b2aa",
            "4e5e13a1897d4a8783e55ebfe76de935",
            "302edd0a251c470eb3e56517ea2c1208",
            "e65be7a524194f06b96563f300d14a7f",
            "b2e18b27e98749498ab8ec7581df5a51",
            "d70ef25440dc49cdba88847123656bc0",
            "2e9bf6486e6c4c78a6a137b1c4a140d1",
            "dbb33a0c720142118ca3870f65abd139",
            "af983ec11c0846688e9f121c29c7e251",
            "b4fea0d500f2405c837caefd92b03d26",
            "c27c73300bfd415f9d28bd9115989f78",
            "2c74c33bbedf40c0a67d3e901b2b8f6e",
            "4e0737888f4e4eb0ae8713c88db86b59"
          ]
        },
        "id": "XzOFlYfW-U1d",
        "outputId": "589678d1-8539-493a-c0cc-94095bbe3b3c",
        "execution": {
          "iopub.status.busy": "2024-03-25T00:51:38.986069Z",
          "iopub.execute_input": "2024-03-25T00:51:38.986639Z",
          "iopub.status.idle": "2024-03-25T00:57:34.617054Z",
          "shell.execute_reply.started": "2024-03-25T00:51:38.986607Z",
          "shell.execute_reply": "2024-03-25T00:57:34.616196Z"
        },
        "trusted": true
      },
      "execution_count": null,
      "outputs": [
        {
          "output_type": "display_data",
          "data": {
            "text/plain": "  0%|          | 0/10 [00:00<?, ?it/s]",
            "application/vnd.jupyter.widget-view+json": {
              "version_major": 2,
              "version_minor": 0,
              "model_id": "302edd0a251c470eb3e56517ea2c1208"
            }
          },
          "metadata": {}
        },
        {
          "output_type": "display_data",
          "data": {
            "text/plain": "  0%|          | 0/1250 [00:00<?, ?it/s]",
            "application/vnd.jupyter.widget-view+json": {
              "version_major": 2,
              "version_minor": 0,
              "model_id": "e65be7a524194f06b96563f300d14a7f"
            }
          },
          "metadata": {}
        },
        {
          "name": "stdout",
          "text": "avg training loss:  tensor(4.6140, device='cuda:0', grad_fn=<DivBackward0>)\navg validation loss:  tensor(4.6149, device='cuda:0')\n",
          "output_type": "stream"
        },
        {
          "output_type": "display_data",
          "data": {
            "text/plain": "  0%|          | 0/1250 [00:00<?, ?it/s]",
            "application/vnd.jupyter.widget-view+json": {
              "version_major": 2,
              "version_minor": 0,
              "model_id": "b2e18b27e98749498ab8ec7581df5a51"
            }
          },
          "metadata": {}
        },
        {
          "name": "stdout",
          "text": "avg training loss:  tensor(2.5770, device='cuda:0', grad_fn=<DivBackward0>)\navg validation loss:  tensor(2.1577, device='cuda:0')\n",
          "output_type": "stream"
        },
        {
          "output_type": "display_data",
          "data": {
            "text/plain": "  0%|          | 0/1250 [00:00<?, ?it/s]",
            "application/vnd.jupyter.widget-view+json": {
              "version_major": 2,
              "version_minor": 0,
              "model_id": "d70ef25440dc49cdba88847123656bc0"
            }
          },
          "metadata": {}
        },
        {
          "name": "stdout",
          "text": "avg training loss:  tensor(2.1537, device='cuda:0', grad_fn=<DivBackward0>)\navg validation loss:  tensor(2.1527, device='cuda:0')\n",
          "output_type": "stream"
        },
        {
          "output_type": "display_data",
          "data": {
            "text/plain": "  0%|          | 0/1250 [00:00<?, ?it/s]",
            "application/vnd.jupyter.widget-view+json": {
              "version_major": 2,
              "version_minor": 0,
              "model_id": "2e9bf6486e6c4c78a6a137b1c4a140d1"
            }
          },
          "metadata": {}
        },
        {
          "name": "stdout",
          "text": "avg training loss:  tensor(2.1513, device='cuda:0', grad_fn=<DivBackward0>)\navg validation loss:  tensor(2.1503, device='cuda:0')\n",
          "output_type": "stream"
        },
        {
          "output_type": "display_data",
          "data": {
            "text/plain": "  0%|          | 0/1250 [00:00<?, ?it/s]",
            "application/vnd.jupyter.widget-view+json": {
              "version_major": 2,
              "version_minor": 0,
              "model_id": "dbb33a0c720142118ca3870f65abd139"
            }
          },
          "metadata": {}
        },
        {
          "name": "stdout",
          "text": "avg training loss:  tensor(2.2322, device='cuda:0', grad_fn=<DivBackward0>)\navg validation loss:  tensor(2.1529, device='cuda:0')\n",
          "output_type": "stream"
        },
        {
          "output_type": "display_data",
          "data": {
            "text/plain": "  0%|          | 0/1250 [00:00<?, ?it/s]",
            "application/vnd.jupyter.widget-view+json": {
              "version_major": 2,
              "version_minor": 0,
              "model_id": "af983ec11c0846688e9f121c29c7e251"
            }
          },
          "metadata": {}
        },
        {
          "name": "stdout",
          "text": "avg training loss:  tensor(2.1509, device='cuda:0', grad_fn=<DivBackward0>)\navg validation loss:  tensor(2.1508, device='cuda:0')\n",
          "output_type": "stream"
        },
        {
          "output_type": "display_data",
          "data": {
            "text/plain": "  0%|          | 0/1250 [00:00<?, ?it/s]",
            "application/vnd.jupyter.widget-view+json": {
              "version_major": 2,
              "version_minor": 0,
              "model_id": "b4fea0d500f2405c837caefd92b03d26"
            }
          },
          "metadata": {}
        },
        {
          "name": "stdout",
          "text": "avg training loss:  tensor(2.1500, device='cuda:0', grad_fn=<DivBackward0>)\navg validation loss:  tensor(2.1499, device='cuda:0')\n",
          "output_type": "stream"
        },
        {
          "output_type": "display_data",
          "data": {
            "text/plain": "  0%|          | 0/1250 [00:00<?, ?it/s]",
            "application/vnd.jupyter.widget-view+json": {
              "version_major": 2,
              "version_minor": 0,
              "model_id": "c27c73300bfd415f9d28bd9115989f78"
            }
          },
          "metadata": {}
        },
        {
          "name": "stdout",
          "text": "avg training loss:  tensor(2.1495, device='cuda:0', grad_fn=<DivBackward0>)\navg validation loss:  tensor(2.1497, device='cuda:0')\n",
          "output_type": "stream"
        },
        {
          "output_type": "display_data",
          "data": {
            "text/plain": "  0%|          | 0/1250 [00:00<?, ?it/s]",
            "application/vnd.jupyter.widget-view+json": {
              "version_major": 2,
              "version_minor": 0,
              "model_id": "2c74c33bbedf40c0a67d3e901b2b8f6e"
            }
          },
          "metadata": {}
        },
        {
          "name": "stdout",
          "text": "avg training loss:  tensor(2.1492, device='cuda:0', grad_fn=<DivBackward0>)\navg validation loss:  tensor(2.1494, device='cuda:0')\n",
          "output_type": "stream"
        },
        {
          "output_type": "display_data",
          "data": {
            "text/plain": "  0%|          | 0/1250 [00:00<?, ?it/s]",
            "application/vnd.jupyter.widget-view+json": {
              "version_major": 2,
              "version_minor": 0,
              "model_id": "4e0737888f4e4eb0ae8713c88db86b59"
            }
          },
          "metadata": {}
        },
        {
          "name": "stdout",
          "text": "avg training loss:  tensor(2.1489, device='cuda:0', grad_fn=<DivBackward0>)\navg validation loss:  tensor(2.1493, device='cuda:0')\n",
          "output_type": "stream"
        }
      ]
    },
    {
      "cell_type": "markdown",
      "source": [
        "After training for long enough, we see that both the training and validation loss indeed converge to $2.149$ as expected!\n",
        "\n",
        "Let's see an example."
      ],
      "metadata": {
        "id": "7irlNFG7UAue"
      }
    },
    {
      "cell_type": "code",
      "source": [
        "test_data = next(iter(valid_dl))[None, 0]\n",
        "test_data = test_data.to(device)\n",
        "transformer = transformer.to(device)\n",
        "\n",
        "logits = transformer(test_data)\n",
        "pred = torch.argmax(logits, dim=-1)"
      ],
      "metadata": {
        "id": "KwMb6e4VO8KD",
        "execution": {
          "iopub.status.busy": "2024-03-25T00:57:34.618615Z",
          "iopub.execute_input": "2024-03-25T00:57:34.619170Z",
          "iopub.status.idle": "2024-03-25T00:57:34.648157Z",
          "shell.execute_reply.started": "2024-03-25T00:57:34.619137Z",
          "shell.execute_reply": "2024-03-25T00:57:34.647468Z"
        },
        "trusted": true
      },
      "execution_count": null,
      "outputs": []
    },
    {
      "cell_type": "markdown",
      "source": [
        "Recall that a single integer is predicted to follow an input sequence and that we have input sequences of length 1-16. So the first prediction is for the integer in the second position and so on. To make comparison easy, we right-shift all predictions by one and add a dummy \"-1\" to the beginning. The last prediction is a garbage value since it is for a nonexistent 17th element of a sequence.\n",
        "\n",
        "Also recall the numbers in the sequence are random, and the second half of the sequence is the reverse of the first half. So we should find that the first half of the sequence cannot be predicted. However, we should expect that the model has learned to predict the second half since it has the first half in its context by the time it autoregressively predicts the tokens in the second half."
      ],
      "metadata": {
        "id": "mRN2Ys8EYu_l"
      }
    },
    {
      "cell_type": "code",
      "source": [
        "print(test_data.cpu()[0])\n",
        "\n",
        "pred = pred[0, :-1].cpu()\n",
        "print(torch.hstack((torch.tensor([-1]), pred))) # all predictions except the last one (which should be garbage)"
      ],
      "metadata": {
        "id": "VY5Riaz0Y8SZ",
        "execution": {
          "iopub.status.busy": "2024-03-25T00:57:34.649223Z",
          "iopub.execute_input": "2024-03-25T00:57:34.649570Z",
          "iopub.status.idle": "2024-03-25T00:57:34.656575Z",
          "shell.execute_reply.started": "2024-03-25T00:57:34.649536Z",
          "shell.execute_reply": "2024-03-25T00:57:34.655690Z"
        },
        "trusted": true,
        "outputId": "f6738373-3bfe-4c91-cd44-4c55bb461b1c"
      },
      "execution_count": null,
      "outputs": [
        {
          "name": "stdout",
          "text": "tensor([75, 43, 89, 64, 46, 17, 87, 28, 28, 87, 17, 46, 64, 89, 43, 75])\ntensor([-1,  2, 61, 61, 15, 13,  7, 55, 28, 87, 17, 46, 64, 89, 43, 75])\n",
          "output_type": "stream"
        }
      ]
    },
    {
      "cell_type": "markdown",
      "source": [
        "Notice that the second halves of the test data and prediction exactly match. Also note that the first halves do not match, indicating that our masking was applied correctly."
      ],
      "metadata": {
        "id": "PDi1VVKhapVR"
      }
    },
    {
      "cell_type": "markdown",
      "source": [
        "## Ablation Study: No Positional Embedding"
      ],
      "metadata": {
        "id": "XBQuDvMfVJJe"
      }
    },
    {
      "cell_type": "markdown",
      "source": [
        "What happens if we don't use position embedding? Is the model still able to learn?"
      ],
      "metadata": {
        "id": "XDwItwSbf8M4"
      }
    },
    {
      "cell_type": "code",
      "source": [
        "class TransformerNoPosEmbed(nn.Module):\n",
        "  def __init__(self, cfg):\n",
        "    super().__init__()\n",
        "    self.cfg = cfg\n",
        "    self.embed = Embed(cfg)\n",
        "    self.blocks = nn.ModuleList(TransformerBlock(cfg) for _ in range(cfg.n_layers))\n",
        "    self.final_ln = LayerNorm(cfg)\n",
        "    self.unembed = Unembed(cfg)\n",
        "\n",
        "  def forward(self, tokens): # [batch, pos] -> [batch, pos, d_model]\n",
        "    x = self.embed(tokens) # no pos embed     # [batch, pos, d_model]\n",
        "    for block in self.blocks:\n",
        "      x = block(x)                            # [batch, pos, d_model]\n",
        "    x = self.final_ln(x)                      # [batch, pos, d_model]\n",
        "    logits = self.unembed(x)                  # [batch, pos, d_vocab]\n",
        "    return logits"
      ],
      "metadata": {
        "id": "93MqPdp8VG_C",
        "execution": {
          "iopub.status.busy": "2024-03-25T01:07:28.066882Z",
          "iopub.execute_input": "2024-03-25T01:07:28.067199Z",
          "iopub.status.idle": "2024-03-25T01:07:28.074065Z",
          "shell.execute_reply.started": "2024-03-25T01:07:28.067175Z",
          "shell.execute_reply": "2024-03-25T01:07:28.073069Z"
        },
        "trusted": true
      },
      "execution_count": null,
      "outputs": []
    },
    {
      "cell_type": "code",
      "source": [
        "cfg = Config()\n",
        "transformer_no_pos = TransformerNoPosEmbed(cfg)\n",
        "\n",
        "transformer_no_pos.apply(init_weights)"
      ],
      "metadata": {
        "id": "Z4I_Oq1nU5Oz",
        "execution": {
          "iopub.status.busy": "2024-03-25T01:07:30.479604Z",
          "iopub.execute_input": "2024-03-25T01:07:30.480440Z",
          "iopub.status.idle": "2024-03-25T01:07:30.580787Z",
          "shell.execute_reply.started": "2024-03-25T01:07:30.480408Z",
          "shell.execute_reply": "2024-03-25T01:07:30.579839Z"
        },
        "trusted": true,
        "outputId": "5ac4ffeb-e6f4-457c-ab65-d0e2b29a2636"
      },
      "execution_count": null,
      "outputs": [
        {
          "execution_count": 32,
          "output_type": "execute_result",
          "data": {
            "text/plain": "TransformerNoPosEmbed(\n  (embed): Embed()\n  (blocks): ModuleList(\n    (0-5): 6 x TransformerBlock(\n      (attention_heads): Attention()\n      (mlp): MLP(\n        (activation_fn): ReLU()\n      )\n      (ln1): LayerNorm()\n      (ln2): LayerNorm()\n    )\n  )\n  (final_ln): LayerNorm()\n  (unembed): Unembed()\n)"
          },
          "metadata": {}
        }
      ]
    },
    {
      "cell_type": "code",
      "source": [
        "dls = DataLoaders(train_dl, valid_dl)\n",
        "epochs = 10\n",
        "optimizer = torch.optim.Adam(transformer_no_pos.parameters(), lr=1e-4)\n",
        "loss_func = cross_entropy_loss\n",
        "scheduler = torch.optim.lr_scheduler.OneCycleLR(\n",
        "    optimizer, max_lr=1e-3, steps_per_epoch=len(train_dl), epochs=epochs)\n",
        "learner = Learner(\n",
        "    dls, transformer_no_pos.to(device), optimizer, loss_func, scheduler,\n",
        "    gradient_accumulation_batch_size=64)\n",
        "learner.fit(epochs)"
      ],
      "metadata": {
        "id": "cqhmxPrYWLYR",
        "execution": {
          "iopub.status.busy": "2024-03-25T01:07:33.075461Z",
          "iopub.execute_input": "2024-03-25T01:07:33.075820Z",
          "iopub.status.idle": "2024-03-25T01:13:11.948625Z",
          "shell.execute_reply.started": "2024-03-25T01:07:33.075790Z",
          "shell.execute_reply": "2024-03-25T01:13:11.947832Z"
        },
        "trusted": true,
        "colab": {
          "referenced_widgets": [
            "c2ea12bb52bf46ee95a5f8b743dee52e",
            "a92baeea44854e2e9ad52f0978beaec6",
            "265f4a7f743e403cbaa4220b9b22c702",
            "3c056e202f2c480285901f935179188f",
            "97d94557027d4de0aa7c6d91de97d544",
            "2ea65b87512d4738831226c1515545e2",
            "dc81ab37e8ea462ebdea1501109c54d1",
            "b805bd71f4c24afe979d899867efc44b",
            "75426f2e0c884c00a1cd93f6752261d0",
            "8b140ee528444ccfb8996ea451cceba4",
            "d0142b1ce26347a6a34e5d2d6a07ccfd"
          ]
        },
        "outputId": "5824b507-b312-4e2d-8b3d-4b3009a6b2c1"
      },
      "execution_count": null,
      "outputs": [
        {
          "output_type": "display_data",
          "data": {
            "text/plain": "  0%|          | 0/10 [00:00<?, ?it/s]",
            "application/vnd.jupyter.widget-view+json": {
              "version_major": 2,
              "version_minor": 0,
              "model_id": "c2ea12bb52bf46ee95a5f8b743dee52e"
            }
          },
          "metadata": {}
        },
        {
          "output_type": "display_data",
          "data": {
            "text/plain": "  0%|          | 0/1250 [00:00<?, ?it/s]",
            "application/vnd.jupyter.widget-view+json": {
              "version_major": 2,
              "version_minor": 0,
              "model_id": "a92baeea44854e2e9ad52f0978beaec6"
            }
          },
          "metadata": {}
        },
        {
          "name": "stdout",
          "text": "avg training loss:  tensor(4.0032, device='cuda:0', grad_fn=<DivBackward0>)\navg validation loss:  tensor(3.5813, device='cuda:0')\n",
          "output_type": "stream"
        },
        {
          "output_type": "display_data",
          "data": {
            "text/plain": "  0%|          | 0/1250 [00:00<?, ?it/s]",
            "application/vnd.jupyter.widget-view+json": {
              "version_major": 2,
              "version_minor": 0,
              "model_id": "265f4a7f743e403cbaa4220b9b22c702"
            }
          },
          "metadata": {}
        },
        {
          "name": "stdout",
          "text": "avg training loss:  tensor(3.2334, device='cuda:0', grad_fn=<DivBackward0>)\navg validation loss:  tensor(3.0178, device='cuda:0')\n",
          "output_type": "stream"
        },
        {
          "output_type": "display_data",
          "data": {
            "text/plain": "  0%|          | 0/1250 [00:00<?, ?it/s]",
            "application/vnd.jupyter.widget-view+json": {
              "version_major": 2,
              "version_minor": 0,
              "model_id": "3c056e202f2c480285901f935179188f"
            }
          },
          "metadata": {}
        },
        {
          "name": "stdout",
          "text": "avg training loss:  tensor(3.0719, device='cuda:0', grad_fn=<DivBackward0>)\navg validation loss:  tensor(2.8616, device='cuda:0')\n",
          "output_type": "stream"
        },
        {
          "output_type": "display_data",
          "data": {
            "text/plain": "  0%|          | 0/1250 [00:00<?, ?it/s]",
            "application/vnd.jupyter.widget-view+json": {
              "version_major": 2,
              "version_minor": 0,
              "model_id": "97d94557027d4de0aa7c6d91de97d544"
            }
          },
          "metadata": {}
        },
        {
          "name": "stdout",
          "text": "avg training loss:  tensor(2.9531, device='cuda:0', grad_fn=<DivBackward0>)\navg validation loss:  tensor(2.8383, device='cuda:0')\n",
          "output_type": "stream"
        },
        {
          "output_type": "display_data",
          "data": {
            "text/plain": "  0%|          | 0/1250 [00:00<?, ?it/s]",
            "application/vnd.jupyter.widget-view+json": {
              "version_major": 2,
              "version_minor": 0,
              "model_id": "2ea65b87512d4738831226c1515545e2"
            }
          },
          "metadata": {}
        },
        {
          "name": "stdout",
          "text": "avg training loss:  tensor(2.8055, device='cuda:0', grad_fn=<DivBackward0>)\navg validation loss:  tensor(2.6753, device='cuda:0')\n",
          "output_type": "stream"
        },
        {
          "output_type": "display_data",
          "data": {
            "text/plain": "  0%|          | 0/1250 [00:00<?, ?it/s]",
            "application/vnd.jupyter.widget-view+json": {
              "version_major": 2,
              "version_minor": 0,
              "model_id": "dc81ab37e8ea462ebdea1501109c54d1"
            }
          },
          "metadata": {}
        },
        {
          "name": "stdout",
          "text": "avg training loss:  tensor(2.7045, device='cuda:0', grad_fn=<DivBackward0>)\navg validation loss:  tensor(2.5993, device='cuda:0')\n",
          "output_type": "stream"
        },
        {
          "output_type": "display_data",
          "data": {
            "text/plain": "  0%|          | 0/1250 [00:00<?, ?it/s]",
            "application/vnd.jupyter.widget-view+json": {
              "version_major": 2,
              "version_minor": 0,
              "model_id": "b805bd71f4c24afe979d899867efc44b"
            }
          },
          "metadata": {}
        },
        {
          "name": "stdout",
          "text": "avg training loss:  tensor(2.5535, device='cuda:0', grad_fn=<DivBackward0>)\navg validation loss:  tensor(2.5366, device='cuda:0')\n",
          "output_type": "stream"
        },
        {
          "output_type": "display_data",
          "data": {
            "text/plain": "  0%|          | 0/1250 [00:00<?, ?it/s]",
            "application/vnd.jupyter.widget-view+json": {
              "version_major": 2,
              "version_minor": 0,
              "model_id": "75426f2e0c884c00a1cd93f6752261d0"
            }
          },
          "metadata": {}
        },
        {
          "name": "stdout",
          "text": "avg training loss:  tensor(2.4931, device='cuda:0', grad_fn=<DivBackward0>)\navg validation loss:  tensor(2.4775, device='cuda:0')\n",
          "output_type": "stream"
        },
        {
          "output_type": "display_data",
          "data": {
            "text/plain": "  0%|          | 0/1250 [00:00<?, ?it/s]",
            "application/vnd.jupyter.widget-view+json": {
              "version_major": 2,
              "version_minor": 0,
              "model_id": "8b140ee528444ccfb8996ea451cceba4"
            }
          },
          "metadata": {}
        },
        {
          "name": "stdout",
          "text": "avg training loss:  tensor(2.4285, device='cuda:0', grad_fn=<DivBackward0>)\navg validation loss:  tensor(2.4140, device='cuda:0')\n",
          "output_type": "stream"
        },
        {
          "output_type": "display_data",
          "data": {
            "text/plain": "  0%|          | 0/1250 [00:00<?, ?it/s]",
            "application/vnd.jupyter.widget-view+json": {
              "version_major": 2,
              "version_minor": 0,
              "model_id": "d0142b1ce26347a6a34e5d2d6a07ccfd"
            }
          },
          "metadata": {}
        },
        {
          "name": "stdout",
          "text": "avg training loss:  tensor(2.3904, device='cuda:0', grad_fn=<DivBackward0>)\navg validation loss:  tensor(2.4021, device='cuda:0')\n",
          "output_type": "stream"
        }
      ]
    },
    {
      "cell_type": "markdown",
      "source": [
        "Surprisingly (or maybe not!) the model is able to mostly learn to predict the second half of the sequences! Without the positional embedding, the model takes much longer to learn the mirror pattern, but we see that it continues decreasing toward the minimum expected loss.\n",
        "\n",
        "Further interpretability study would be necessary to pinpoint what's happening at the circuits-level of the architecture to achieve this result. However, I suspect it's because this toy problem is primarily about doing lookups based on a single position and the residual stream has enough bandwidth to carry the learned position information without an explicit positional embedding.\n",
        "\n",
        "Let's look at an example prediction."
      ],
      "metadata": {
        "id": "8aqUQKbOaq1U"
      }
    },
    {
      "cell_type": "code",
      "source": [
        "test_data = next(iter(valid_dl))[:1]\n",
        "test_data = test_data.to(device)\n",
        "transformer_no_pos = transformer_no_pos.to(device)\n",
        "\n",
        "logits = transformer_no_pos(test_data)\n",
        "pred = torch.argmax(logits, dim=-1)\n",
        "\n",
        "print(test_data.squeeze(0).cpu())\n",
        "\n",
        "pred = pred[:, :-1].cpu()\n",
        "print(torch.hstack((torch.tensor([-1]), pred.squeeze(0)))) # all predictions except the last one (which should be garbage)"
      ],
      "metadata": {
        "id": "mGIObAc4aOKj",
        "execution": {
          "iopub.status.busy": "2024-03-25T01:13:38.582328Z",
          "iopub.execute_input": "2024-03-25T01:13:38.582713Z",
          "iopub.status.idle": "2024-03-25T01:13:38.605060Z",
          "shell.execute_reply.started": "2024-03-25T01:13:38.582668Z",
          "shell.execute_reply": "2024-03-25T01:13:38.604105Z"
        },
        "trusted": true,
        "outputId": "32036aef-9a42-4d1a-ab6e-3c10c2fe0903"
      },
      "execution_count": null,
      "outputs": [
        {
          "name": "stdout",
          "text": "tensor([75, 43, 89, 64, 46, 17, 87, 28, 28, 87, 17, 46, 64, 89, 43, 75])\ntensor([-1, 75, 13, 41, 64, 89, 17, 87, 28, 87, 17, 46, 64, 89, 43, 75])\n",
          "output_type": "stream"
        }
      ]
    },
    {
      "cell_type": "markdown",
      "source": [
        "We verify that the second half of the predicted sequence matches that of the input sequence. Interestingly, we also see that for the first half, the model also learned to predict the last integer it saw in its input sequence, even though there was no particular steering toward that."
      ],
      "metadata": {
        "id": "joCYUo_WgIAv"
      }
    },
    {
      "cell_type": "markdown",
      "source": [
        "# Shakespeare Language Model"
      ],
      "metadata": {
        "id": "xBYUQZTE81l0"
      }
    },
    {
      "cell_type": "markdown",
      "source": [
        "- Finally, train your model on the complete works of William Shakespeare. Tokenize the corpus by splitting at word boundaries (re.split(r\"\\b\", ...)). Make sure you don't use overlapping sequences as this can lead to overfitting."
      ],
      "metadata": {
        "id": "qgoQYGKG9LXC"
      }
    },
    {
      "cell_type": "markdown",
      "source": [
        "## Download data"
      ],
      "metadata": {
        "id": "CjV0e1JjVn9q"
      }
    },
    {
      "cell_type": "code",
      "source": [
        "!pip install tiktoken"
      ],
      "metadata": {
        "colab": {
          "base_uri": "https://localhost:8080/"
        },
        "id": "2V04D8mdi6v4",
        "outputId": "6b1c275d-d63d-47b8-9d21-021ee3cb619e",
        "execution": {
          "iopub.status.busy": "2024-03-25T00:23:09.842331Z",
          "iopub.execute_input": "2024-03-25T00:23:09.842608Z",
          "iopub.status.idle": "2024-03-25T00:23:22.570479Z",
          "shell.execute_reply.started": "2024-03-25T00:23:09.842585Z",
          "shell.execute_reply": "2024-03-25T00:23:22.569437Z"
        },
        "trusted": true
      },
      "execution_count": null,
      "outputs": [
        {
          "name": "stdout",
          "text": "Collecting tiktoken\n  Downloading tiktoken-0.6.0-cp310-cp310-manylinux_2_17_x86_64.manylinux2014_x86_64.whl.metadata (6.6 kB)\nRequirement already satisfied: regex>=2022.1.18 in /opt/conda/lib/python3.10/site-packages (from tiktoken) (2023.12.25)\nRequirement already satisfied: requests>=2.26.0 in /opt/conda/lib/python3.10/site-packages (from tiktoken) (2.31.0)\nRequirement already satisfied: charset-normalizer<4,>=2 in /opt/conda/lib/python3.10/site-packages (from requests>=2.26.0->tiktoken) (3.3.2)\nRequirement already satisfied: idna<4,>=2.5 in /opt/conda/lib/python3.10/site-packages (from requests>=2.26.0->tiktoken) (3.6)\nRequirement already satisfied: urllib3<3,>=1.21.1 in /opt/conda/lib/python3.10/site-packages (from requests>=2.26.0->tiktoken) (1.26.18)\nRequirement already satisfied: certifi>=2017.4.17 in /opt/conda/lib/python3.10/site-packages (from requests>=2.26.0->tiktoken) (2024.2.2)\nDownloading tiktoken-0.6.0-cp310-cp310-manylinux_2_17_x86_64.manylinux2014_x86_64.whl (1.8 MB)\n\u001b[2K   \u001b[90m━━━━━━━━━━━━━━━━━━━━━━━━━━━━━━━━━━━━━━━━\u001b[0m \u001b[32m1.8/1.8 MB\u001b[0m \u001b[31m35.1 MB/s\u001b[0m eta \u001b[36m0:00:00\u001b[0m00:01\u001b[0m\n\u001b[?25hInstalling collected packages: tiktoken\nSuccessfully installed tiktoken-0.6.0\n",
          "output_type": "stream"
        }
      ]
    },
    {
      "cell_type": "markdown",
      "source": [
        "We use the tokenizer corresponding to gpt2 to convert the Shakespeare data to tokens."
      ],
      "metadata": {
        "id": "Yf01dMfMoojb"
      }
    },
    {
      "cell_type": "code",
      "source": [
        "# Mostly copied from https://github.com/karpathy/nanoGPT/blob/master/data/shakespeare/prepare.py\n",
        "\n",
        "import os\n",
        "import requests\n",
        "import tiktoken\n",
        "import numpy as np\n",
        "\n",
        "# download the tiny shakespeare dataset\n",
        "curr_dir = os.getcwd()\n",
        "input_file_path = os.path.join(os.getcwd(), 'input.txt')\n",
        "if not os.path.exists(input_file_path):\n",
        "    ### Uncomment for tiny Shakespeare dataset\n",
        "    data_url = 'https://raw.githubusercontent.com/karpathy/char-rnn/master/data/tinyshakespeare/input.txt'\n",
        "    ### Uncomment for complete works\n",
        "    #data_url = 'https://ocw.mit.edu/ans7870/6/6.006/s08/lecturenotes/files/t8.shakespeare.txt'\n",
        "    with open(input_file_path, 'w', encoding='utf-8') as f:\n",
        "        f.write(requests.get(data_url).text)\n",
        "\n",
        "with open(input_file_path, 'r', encoding='utf-8') as f:\n",
        "    data = f.read()\n",
        "n = len(data)\n",
        "train_data = data[:int(n*0.9)]\n",
        "val_data = data[int(n*0.9):]\n",
        "\n",
        "# encode with tiktoken gpt2 bpe\n",
        "enc = tiktoken.get_encoding(\"gpt2\")\n",
        "train_ids = enc.encode_ordinary(train_data)\n",
        "val_ids = enc.encode_ordinary(val_data)\n",
        "print(f\"train has {len(train_ids):,} tokens\")\n",
        "print(f\"val has {len(val_ids):,} tokens\")\n",
        "\n",
        "# export to bin files\n",
        "train_ids = np.array(train_ids, dtype=np.uint16)\n",
        "val_ids = np.array(val_ids, dtype=np.uint16)\n",
        "train_ids.tofile(os.path.join(curr_dir, 'train.bin'))\n",
        "val_ids.tofile(os.path.join(curr_dir, 'val.bin'))"
      ],
      "metadata": {
        "id": "BWksob9X5A7v",
        "colab": {
          "base_uri": "https://localhost:8080/"
        },
        "outputId": "2eb101a4-89a4-4b15-e6bf-137d2ce8c619",
        "execution": {
          "iopub.status.busy": "2024-03-25T00:23:22.572025Z",
          "iopub.execute_input": "2024-03-25T00:23:22.572301Z",
          "iopub.status.idle": "2024-03-25T00:23:27.059230Z",
          "shell.execute_reply.started": "2024-03-25T00:23:22.572274Z",
          "shell.execute_reply": "2024-03-25T00:23:27.058235Z"
        },
        "trusted": true
      },
      "execution_count": null,
      "outputs": [
        {
          "name": "stdout",
          "text": "train has 301,966 tokens\nval has 36,059 tokens\n",
          "output_type": "stream"
        }
      ]
    },
    {
      "cell_type": "markdown",
      "source": [
        "## Specify transformer configuration and instantiate model"
      ],
      "metadata": {
        "id": "J48PbhqEV74N"
      }
    },
    {
      "cell_type": "code",
      "source": [
        "class ShakespeareTransformerConfig:\n",
        "  def __init__(self):\n",
        "    self.n_heads = 4\n",
        "    self.d_head = 64\n",
        "    self.d_model = self.n_heads * self.d_head\n",
        "    self.n_layers = 2\n",
        "    self.d_mlp = self.d_model * 4\n",
        "    self.d_vocab = 50257 # GPT2 vocab size\n",
        "    self.d_seq = 256\n",
        "    self.activation_fn = torch.nn.ReLU()"
      ],
      "metadata": {
        "id": "lSeQV3x4jyer",
        "execution": {
          "iopub.status.busy": "2024-03-25T00:23:27.060383Z",
          "iopub.execute_input": "2024-03-25T00:23:27.060676Z",
          "iopub.status.idle": "2024-03-25T00:23:27.065942Z",
          "shell.execute_reply.started": "2024-03-25T00:23:27.060650Z",
          "shell.execute_reply": "2024-03-25T00:23:27.065129Z"
        },
        "trusted": true
      },
      "execution_count": null,
      "outputs": []
    },
    {
      "cell_type": "code",
      "source": [
        "cfg = ShakespeareTransformerConfig()\n",
        "shakespeare_transformer = Transformer(cfg)\n",
        "\n",
        "shakespeare_transformer.apply(init_weights)"
      ],
      "metadata": {
        "colab": {
          "base_uri": "https://localhost:8080/"
        },
        "id": "KrBcaB0FpJic",
        "outputId": "fbc9c22a-132f-4d34-a4b0-49a3c89e20cc",
        "execution": {
          "iopub.status.busy": "2024-03-25T00:23:27.066998Z",
          "iopub.execute_input": "2024-03-25T00:23:27.067249Z",
          "iopub.status.idle": "2024-03-25T00:23:27.362997Z",
          "shell.execute_reply.started": "2024-03-25T00:23:27.067228Z",
          "shell.execute_reply": "2024-03-25T00:23:27.362044Z"
        },
        "trusted": true
      },
      "execution_count": null,
      "outputs": [
        {
          "execution_count": 31,
          "output_type": "execute_result",
          "data": {
            "text/plain": "Transformer(\n  (embed): Embed()\n  (pos_embed): PosEmbed()\n  (blocks): ModuleList(\n    (0-1): 2 x TransformerBlock(\n      (attention_heads): Attention()\n      (mlp): MLP(\n        (activation_fn): ReLU()\n      )\n      (ln1): LayerNorm()\n      (ln2): LayerNorm()\n    )\n  )\n  (final_ln): LayerNorm()\n  (unembed): Unembed()\n)"
          },
          "metadata": {}
        }
      ]
    },
    {
      "cell_type": "markdown",
      "source": [
        "## Preprocess data according to config"
      ],
      "metadata": {
        "id": "k7sSqmY5WFHm"
      }
    },
    {
      "cell_type": "code",
      "source": [
        "# reference for other ideas: https://github.com/karpathy/nanoGPT/blob/master/train.py\n",
        "\n",
        "class ShakespeareDataset(Dataset):\n",
        "  def __init__(self, path, seq_len, num_samples):\n",
        "    self.path = path\n",
        "    self.seq_len = seq_len\n",
        "    self.num_samples = int(num_samples)\n",
        "\n",
        "\n",
        "  def __len__(self):\n",
        "    return self.num_samples # arbitrary since data is randomly sampled\n",
        "\n",
        "  def __getitem__(self, idx):\n",
        "    data = np.memmap(self.path, dtype=np.uint16, mode='r')\n",
        "    i = torch.randint(len(data) - self.seq_len, (1,))\n",
        "    x = torch.from_numpy((data[i:i+self.seq_len]).astype(np.int64))\n",
        "    #y = torch.from_numpy((data[i+1:i+1+self.seq_len]).astype(np.int64))\n",
        "    return x\n",
        "\n",
        "train_path = os.path.join(curr_dir, 'train.bin')\n",
        "train_dataset = ShakespeareDataset(train_path, cfg.d_seq, 1e4)\n",
        "\n",
        "val_path = os.path.join(curr_dir, 'val.bin')\n",
        "val_dataset = ShakespeareDataset(val_path, cfg.d_seq, 1e3)"
      ],
      "metadata": {
        "id": "MQposve1qux1",
        "execution": {
          "iopub.status.busy": "2024-03-25T00:23:27.364199Z",
          "iopub.execute_input": "2024-03-25T00:23:27.364579Z",
          "iopub.status.idle": "2024-03-25T00:23:27.372613Z",
          "shell.execute_reply.started": "2024-03-25T00:23:27.364554Z",
          "shell.execute_reply": "2024-03-25T00:23:27.371686Z"
        },
        "trusted": true
      },
      "execution_count": null,
      "outputs": []
    },
    {
      "cell_type": "markdown",
      "source": [
        "## Train"
      ],
      "metadata": {
        "id": "yu3IZvDVWI59"
      }
    },
    {
      "cell_type": "code",
      "source": [
        "!pip install wandb\n",
        "import wandb"
      ],
      "metadata": {
        "colab": {
          "base_uri": "https://localhost:8080/"
        },
        "id": "kTl8CU6xTtzV",
        "outputId": "f31a8239-58d1-481b-a50c-1923cfa200a8",
        "execution": {
          "iopub.status.busy": "2024-03-25T00:23:27.373786Z",
          "iopub.execute_input": "2024-03-25T00:23:27.374084Z",
          "iopub.status.idle": "2024-03-25T00:23:40.426373Z",
          "shell.execute_reply.started": "2024-03-25T00:23:27.374060Z",
          "shell.execute_reply": "2024-03-25T00:23:40.425543Z"
        },
        "trusted": true
      },
      "execution_count": null,
      "outputs": [
        {
          "name": "stdout",
          "text": "Requirement already satisfied: wandb in /opt/conda/lib/python3.10/site-packages (0.16.4)\nRequirement already satisfied: Click!=8.0.0,>=7.1 in /opt/conda/lib/python3.10/site-packages (from wandb) (8.1.7)\nRequirement already satisfied: GitPython!=3.1.29,>=1.0.0 in /opt/conda/lib/python3.10/site-packages (from wandb) (3.1.41)\nRequirement already satisfied: requests<3,>=2.0.0 in /opt/conda/lib/python3.10/site-packages (from wandb) (2.31.0)\nRequirement already satisfied: psutil>=5.0.0 in /opt/conda/lib/python3.10/site-packages (from wandb) (5.9.3)\nRequirement already satisfied: sentry-sdk>=1.0.0 in /opt/conda/lib/python3.10/site-packages (from wandb) (1.42.0)\nRequirement already satisfied: docker-pycreds>=0.4.0 in /opt/conda/lib/python3.10/site-packages (from wandb) (0.4.0)\nRequirement already satisfied: PyYAML in /opt/conda/lib/python3.10/site-packages (from wandb) (6.0.1)\nRequirement already satisfied: setproctitle in /opt/conda/lib/python3.10/site-packages (from wandb) (1.3.3)\nRequirement already satisfied: setuptools in /opt/conda/lib/python3.10/site-packages (from wandb) (69.0.3)\nRequirement already satisfied: appdirs>=1.4.3 in /opt/conda/lib/python3.10/site-packages (from wandb) (1.4.4)\nRequirement already satisfied: protobuf!=4.21.0,<5,>=3.19.0 in /opt/conda/lib/python3.10/site-packages (from wandb) (3.20.3)\nRequirement already satisfied: six>=1.4.0 in /opt/conda/lib/python3.10/site-packages (from docker-pycreds>=0.4.0->wandb) (1.16.0)\nRequirement already satisfied: gitdb<5,>=4.0.1 in /opt/conda/lib/python3.10/site-packages (from GitPython!=3.1.29,>=1.0.0->wandb) (4.0.11)\nRequirement already satisfied: charset-normalizer<4,>=2 in /opt/conda/lib/python3.10/site-packages (from requests<3,>=2.0.0->wandb) (3.3.2)\nRequirement already satisfied: idna<4,>=2.5 in /opt/conda/lib/python3.10/site-packages (from requests<3,>=2.0.0->wandb) (3.6)\nRequirement already satisfied: urllib3<3,>=1.21.1 in /opt/conda/lib/python3.10/site-packages (from requests<3,>=2.0.0->wandb) (1.26.18)\nRequirement already satisfied: certifi>=2017.4.17 in /opt/conda/lib/python3.10/site-packages (from requests<3,>=2.0.0->wandb) (2024.2.2)\nRequirement already satisfied: smmap<6,>=3.0.1 in /opt/conda/lib/python3.10/site-packages (from gitdb<5,>=4.0.1->GitPython!=3.1.29,>=1.0.0->wandb) (5.0.1)\n",
          "output_type": "stream"
        }
      ]
    },
    {
      "cell_type": "code",
      "source": [
        "!pip install dataclasses\n",
        "from dataclasses import dataclass"
      ],
      "metadata": {
        "colab": {
          "base_uri": "https://localhost:8080/"
        },
        "id": "f0bQJZa5eZH3",
        "outputId": "94338caf-d7b7-4367-c296-8eacd37e20ed",
        "execution": {
          "iopub.status.busy": "2024-03-25T00:23:40.427750Z",
          "iopub.execute_input": "2024-03-25T00:23:40.428110Z",
          "iopub.status.idle": "2024-03-25T00:23:53.030903Z",
          "shell.execute_reply.started": "2024-03-25T00:23:40.428072Z",
          "shell.execute_reply": "2024-03-25T00:23:53.029894Z"
        },
        "trusted": true
      },
      "execution_count": null,
      "outputs": [
        {
          "name": "stdout",
          "text": "Collecting dataclasses\n  Downloading dataclasses-0.6-py3-none-any.whl.metadata (3.0 kB)\nDownloading dataclasses-0.6-py3-none-any.whl (14 kB)\nInstalling collected packages: dataclasses\nSuccessfully installed dataclasses-0.6\n",
          "output_type": "stream"
        }
      ]
    },
    {
      "cell_type": "code",
      "source": [
        "@dataclass\n",
        "class TransformerTrainingArgs():\n",
        "\tbatch_size = 16\n",
        "\tepochs = 20\n",
        "\tmax_steps_per_epoch = 200\n",
        "\tlr = 1e-3\n",
        "\twandb_project = \"transformer-from-scratch\"\n",
        "\twandb_name = None\n",
        "\n",
        "args = TransformerTrainingArgs()"
      ],
      "metadata": {
        "id": "5a2fNhLZSDdA",
        "execution": {
          "iopub.status.busy": "2024-03-25T00:23:53.032713Z",
          "iopub.execute_input": "2024-03-25T00:23:53.033696Z",
          "iopub.status.idle": "2024-03-25T00:23:53.039928Z",
          "shell.execute_reply.started": "2024-03-25T00:23:53.033653Z",
          "shell.execute_reply": "2024-03-25T00:23:53.038734Z"
        },
        "trusted": true
      },
      "execution_count": null,
      "outputs": []
    },
    {
      "cell_type": "code",
      "source": [
        "class TransformerTrainer:\n",
        "  def __init__(self, dataloaders, model, optimizer, loss_func, args):\n",
        "    self.dataloaders = dataloaders\n",
        "    self.model = model.to(device)\n",
        "    self.optimizer = optimizer\n",
        "    self.loss_func = loss_func\n",
        "    self.args = args\n",
        "    self.step = 0\n",
        "\n",
        "  def train(self):\n",
        "    wandb.init(project=self.args.wandb_project, name=self.args.wandb_name, config=self.args)\n",
        "    accuracy = np.nan\n",
        "\n",
        "    progress_bar = tqdm(total = self.args.max_steps_per_epoch * self.args.epochs)\n",
        "\n",
        "    for epoch in range(self.args.epochs):\n",
        "      for i, batch in enumerate(self.dataloaders.train_dl()):\n",
        "        loss = self.training_step(batch)\n",
        "        progress_bar.update()\n",
        "        progress_bar.set_description(f\"Epoch {epoch+1}, loss: {loss:.3f}, accuracy: {accuracy:.3f}\")\n",
        "        if i >= self.args.max_steps_per_epoch:\n",
        "          break\n",
        "\n",
        "      correct_predictions = torch.concat([self.validation_step(batch) for batch in self.dataloaders.valid_dl()])\n",
        "      accuracy = correct_predictions.float().mean().item()\n",
        "      wandb.log({\"accuracy\": accuracy}, step=self.step)\n",
        "\n",
        "    wandb.finish()\n",
        "\n",
        "  def training_step(self, batch):\n",
        "    self.model.train()\n",
        "    tokens = batch.to(device)\n",
        "    logits = self.model(tokens)\n",
        "    loss = self.loss_func(logits, tokens)\n",
        "    loss.backward()\n",
        "    self.optimizer.step()\n",
        "    self.optimizer.zero_grad()\n",
        "    self.step += 1\n",
        "    wandb.log({\"train_loss\": loss}, step=self.step)\n",
        "    return loss\n",
        "\n",
        "  def validation_step(self, batch):\n",
        "    self.model.eval()\n",
        "    tokens = batch.to(device)\n",
        "    logits = self.model(tokens)[:, :-1]\n",
        "    predicted_tokens = logits.argmax(dim=-1)\n",
        "    correct_predictions = (predicted_tokens == tokens[:, 1:]).flatten()\n",
        "    return correct_predictions"
      ],
      "metadata": {
        "id": "JsN32gapXpEm",
        "execution": {
          "iopub.status.busy": "2024-03-25T00:23:53.041221Z",
          "iopub.execute_input": "2024-03-25T00:23:53.041511Z",
          "iopub.status.idle": "2024-03-25T00:23:53.055118Z",
          "shell.execute_reply.started": "2024-03-25T00:23:53.041488Z",
          "shell.execute_reply": "2024-03-25T00:23:53.054090Z"
        },
        "trusted": true
      },
      "execution_count": null,
      "outputs": []
    },
    {
      "cell_type": "code",
      "source": [
        "train_dl = DataLoader(train_dataset, args.batch_size, shuffle=True, num_workers=2, pin_memory=True)\n",
        "val_dl = DataLoader(val_dataset, args.batch_size, shuffle=False, num_workers=2, pin_memory=True)\n",
        "dls = DataLoaders(train_dl, val_dl)\n",
        "\n",
        "optimizer = torch.optim.Adam(shakespeare_transformer.parameters(), lr=args.lr)\n",
        "loss_func = cross_entropy_loss\n",
        "trainer = TransformerTrainer(\n",
        "    dls, shakespeare_transformer.to(device), optimizer, loss_func, args)\n",
        "trainer.train()"
      ],
      "metadata": {
        "colab": {
          "base_uri": "https://localhost:8080/",
          "height": 547,
          "referenced_widgets": [
            "66bd3f37a69e4f708bf8ae6770f2bc64",
            "e13e647f513442bcb14c6e8f123a83ba",
            "68ca7fe4a0ee468eb5a85bd5fa9968f5",
            "df842a2c4aba4c2e8960bd94015a9a3a",
            "6b377a1613634415a1ac0366fe8d3c7b",
            "15f84a1f04dc409b8b795567010b780c",
            "835aed7fa3d44e0da18196d51b0e2f54",
            "b6ab999ee5804865b90e312ac52c4950",
            "c9feb4db8ac94cff90d5b5331df59ed7",
            "a320154c35c54432928b15027363482f",
            "62c67d9c70db46c49c23b19fbb74de9f"
          ]
        },
        "id": "HnbFRQTfpb3J",
        "outputId": "47d9d9e0-0deb-4091-f94b-244d3b42d029",
        "execution": {
          "iopub.status.busy": "2024-03-25T00:23:53.056189Z",
          "iopub.execute_input": "2024-03-25T00:23:53.056439Z",
          "iopub.status.idle": "2024-03-25T00:32:06.136318Z",
          "shell.execute_reply.started": "2024-03-25T00:23:53.056418Z",
          "shell.execute_reply": "2024-03-25T00:32:06.135360Z"
        },
        "trusted": true
      },
      "execution_count": null,
      "outputs": [
        {
          "name": "stderr",
          "text": "\u001b[34m\u001b[1mwandb\u001b[0m: Logging into wandb.ai. (Learn how to deploy a W&B server locally: https://wandb.me/wandb-server)\n\u001b[34m\u001b[1mwandb\u001b[0m: You can find your API key in your browser here: https://wandb.ai/authorize\n\u001b[34m\u001b[1mwandb\u001b[0m: Paste an API key from your profile and hit enter, or press ctrl+c to quit:",
          "output_type": "stream"
        },
        {
          "output_type": "stream",
          "name": "stdin",
          "text": "  ········································\n"
        },
        {
          "name": "stderr",
          "text": "\u001b[34m\u001b[1mwandb\u001b[0m: Appending key for api.wandb.ai to your netrc file: /root/.netrc\n",
          "output_type": "stream"
        },
        {
          "output_type": "display_data",
          "data": {
            "text/plain": "<IPython.core.display.HTML object>",
            "text/html": "Tracking run with wandb version 0.16.4"
          },
          "metadata": {}
        },
        {
          "output_type": "display_data",
          "data": {
            "text/plain": "<IPython.core.display.HTML object>",
            "text/html": "Run data is saved locally in <code>/kaggle/working/wandb/run-20240325_002411-67l6s8ie</code>"
          },
          "metadata": {}
        },
        {
          "output_type": "display_data",
          "data": {
            "text/plain": "<IPython.core.display.HTML object>",
            "text/html": "Syncing run <strong><a href='https://wandb.ai/henryjchang/transformer-from-scratch/runs/67l6s8ie' target=\"_blank\">brisk-galaxy-15</a></strong> to <a href='https://wandb.ai/henryjchang/transformer-from-scratch' target=\"_blank\">Weights & Biases</a> (<a href='https://wandb.me/run' target=\"_blank\">docs</a>)<br/>"
          },
          "metadata": {}
        },
        {
          "output_type": "display_data",
          "data": {
            "text/plain": "<IPython.core.display.HTML object>",
            "text/html": " View project at <a href='https://wandb.ai/henryjchang/transformer-from-scratch' target=\"_blank\">https://wandb.ai/henryjchang/transformer-from-scratch</a>"
          },
          "metadata": {}
        },
        {
          "output_type": "display_data",
          "data": {
            "text/plain": "<IPython.core.display.HTML object>",
            "text/html": " View run at <a href='https://wandb.ai/henryjchang/transformer-from-scratch/runs/67l6s8ie' target=\"_blank\">https://wandb.ai/henryjchang/transformer-from-scratch/runs/67l6s8ie</a>"
          },
          "metadata": {}
        },
        {
          "output_type": "display_data",
          "data": {
            "text/plain": "  0%|          | 0/4000 [00:00<?, ?it/s]",
            "application/vnd.jupyter.widget-view+json": {
              "version_major": 2,
              "version_minor": 0,
              "model_id": "038c41fa37054f4bad895b6b62089a07"
            }
          },
          "metadata": {}
        },
        {
          "output_type": "display_data",
          "data": {
            "text/plain": "VBox(children=(Label(value='0.047 MB of 0.047 MB uploaded\\r'), FloatProgress(value=1.0, max=1.0)))",
            "application/vnd.jupyter.widget-view+json": {
              "version_major": 2,
              "version_minor": 0,
              "model_id": ""
            }
          },
          "metadata": {}
        },
        {
          "output_type": "display_data",
          "data": {
            "text/plain": "<IPython.core.display.HTML object>",
            "text/html": "<style>\n    table.wandb td:nth-child(1) { padding: 0 10px; text-align: left ; width: auto;} td:nth-child(2) {text-align: left ; width: 100%}\n    .wandb-row { display: flex; flex-direction: row; flex-wrap: wrap; justify-content: flex-start; width: 100% }\n    .wandb-col { display: flex; flex-direction: column; flex-basis: 100%; flex: 1; padding: 10px; }\n    </style>\n<div class=\"wandb-row\"><div class=\"wandb-col\"><h3>Run history:</h3><br/><table class=\"wandb\"><tr><td>accuracy</td><td>▁▃▅▆▇▇▇████████▇█▇▇▇</td></tr><tr><td>train_loss</td><td>██▇▆▅▅▅▄▄▄▄▄▃▄▃▃▃▃▃▃▃▃▂▂▂▂▂▂▂▂▂▂▂▁▁▁▂▁▁▁</td></tr></table><br/></div><div class=\"wandb-col\"><h3>Run summary:</h3><br/><table class=\"wandb\"><tr><td>accuracy</td><td>0.26571</td></tr><tr><td>train_loss</td><td>1.91862</td></tr></table><br/></div></div>"
          },
          "metadata": {}
        },
        {
          "output_type": "display_data",
          "data": {
            "text/plain": "<IPython.core.display.HTML object>",
            "text/html": " View run <strong style=\"color:#cdcd00\">brisk-galaxy-15</strong> at: <a href='https://wandb.ai/henryjchang/transformer-from-scratch/runs/67l6s8ie' target=\"_blank\">https://wandb.ai/henryjchang/transformer-from-scratch/runs/67l6s8ie</a><br/>Synced 5 W&B file(s), 0 media file(s), 0 artifact file(s) and 0 other file(s)"
          },
          "metadata": {}
        },
        {
          "output_type": "display_data",
          "data": {
            "text/plain": "<IPython.core.display.HTML object>",
            "text/html": "Find logs at: <code>./wandb/run-20240325_002411-67l6s8ie/logs</code>"
          },
          "metadata": {}
        }
      ]
    },
    {
      "cell_type": "markdown",
      "source": [
        "## Sampling output"
      ],
      "metadata": {
        "id": "wGWIKpny3N-1"
      }
    },
    {
      "cell_type": "markdown",
      "source": [
        "### Transformer sampler"
      ],
      "metadata": {
        "id": "CwUtz7QE3XEr"
      }
    },
    {
      "cell_type": "code",
      "source": [
        "class TransformerSampler:\n",
        "\n",
        "    def __init__(self, model, tokenizer):\n",
        "        self.model = model\n",
        "        self.cfg = model.cfg\n",
        "        self.tokenizer = tokenizer\n",
        "\n",
        "    @torch.inference_mode()\n",
        "    def sample(self, prompt: str, max_tokens_generated=100, verbose=False, **kwargs):\n",
        "        '''\n",
        "        Returns a string of autoregressively generated text, starting from the prompt.\n",
        "\n",
        "        Sampling terminates at max_tokens_generated, or when the model generates an\n",
        "        end-of-sequence token.\n",
        "\n",
        "        kwargs are passed to sample_next_token, to give detailed instructions on how\n",
        "        new tokens are chosen.\n",
        "        '''\n",
        "        self.model.eval()\n",
        "        input_ids = torch.tensor(self.tokenizer.encode(prompt))\n",
        "\n",
        "        input_ids = input_ids.to(device)\n",
        "\n",
        "        for i in range(max_tokens_generated):\n",
        "            # Get new logits (make sure we don't pass in more tokens than the model's context length)\n",
        "            logits = self.model(input_ids[None, -self.cfg.d_seq:])\n",
        "            # We only take logits for the last token, because this is what we're sampling\n",
        "            logits = logits[0, -1]\n",
        "            # Get next token (as a tensor of size (1, 1) so we can concat it to input_ids)\n",
        "            next_token = torch.tensor([TransformerSampler.sample_next_token(input_ids, logits, **kwargs)], device=device)\n",
        "            # Create new input ids string, with shape (1, old_seq_len + 1)\n",
        "            input_ids = torch.cat([input_ids, next_token], dim=-1)\n",
        "            # If our new token was the end-of-text token, stop\n",
        "            if next_token == getattr(self.tokenizer, \"eos_token_id\", None):\n",
        "                break\n",
        "\n",
        "        return self.tokenizer.decode(input_ids.cpu().numpy())\n",
        "\n",
        "    @staticmethod\n",
        "    def sample_next_token(input_ids, logits, temperature=1.0, top_k=0):\n",
        "        assert input_ids.ndim == 1, \"input_ids should be a 1D sequence of token ids\"\n",
        "        assert temperature >= 0, \"Temperature should be non-negative\"\n",
        "        assert 0 <= top_k, \"Top-k must be non-negative\"\n",
        "\n",
        "        # Apply all the specialized sampling methods\n",
        "        if temperature == 0:\n",
        "            return TransformerSampler.greedy_search(logits)\n",
        "        elif temperature != 1.0:\n",
        "            logits = TransformerSampler.apply_temperature(logits, temperature)\n",
        "        if top_k > 0:\n",
        "            return TransformerSampler.sample_top_k(logits, top_k)\n",
        "        return TransformerSampler.sample_basic(logits)\n",
        "\n",
        "    @staticmethod\n",
        "    def greedy_search(logits):\n",
        "        '''\n",
        "        Returns the most likely token (as an int).\n",
        "        '''\n",
        "        out = logits.argmax().item()\n",
        "        return out\n",
        "\n",
        "    @staticmethod\n",
        "    def apply_temperature(logits, temperature):\n",
        "        '''\n",
        "        Applies temperature scaling to the logits.\n",
        "        '''\n",
        "        return logits / temperature\n",
        "\n",
        "    @staticmethod\n",
        "    def sample_basic(logits):\n",
        "        '''\n",
        "        Samples from the distribution defined by the logits.\n",
        "        '''\n",
        "        sampled_token = torch.distributions.categorical.Categorical(logits=logits).sample()\n",
        "        return sampled_token.item()\n",
        "\n",
        "    @staticmethod\n",
        "    def sample_top_k(logits, k):\n",
        "        '''\n",
        "        Samples from the top k most likely tokens.\n",
        "        '''\n",
        "        top_k_logits, top_k_token_ids = logits.topk(k)\n",
        "        # Get sampled token (which is an index corresponding to the list of top-k tokens)\n",
        "        sampled_token_idx = torch.distributions.categorical.Categorical(logits=top_k_logits).sample()\n",
        "        # Get the actual token id, as an int\n",
        "        return top_k_token_ids[sampled_token_idx].item()"
      ],
      "metadata": {
        "id": "ziVtiMJ7eFKe",
        "execution": {
          "iopub.status.busy": "2024-03-25T00:32:06.138262Z",
          "iopub.execute_input": "2024-03-25T00:32:06.138692Z",
          "iopub.status.idle": "2024-03-25T00:32:06.156090Z",
          "shell.execute_reply.started": "2024-03-25T00:32:06.138663Z",
          "shell.execute_reply": "2024-03-25T00:32:06.155031Z"
        },
        "trusted": true
      },
      "execution_count": null,
      "outputs": []
    },
    {
      "cell_type": "markdown",
      "source": [
        "### Instantiate sampler and create a prompt"
      ],
      "metadata": {
        "id": "CTcO5ZAW3eCJ"
      }
    },
    {
      "cell_type": "code",
      "source": [
        "sampler = TransformerSampler(shakespeare_transformer, tiktoken.get_encoding(\"gpt2\"))\n",
        "\n",
        "prompt = \"O Romeo, Romeo, wherefore art thou Romeo?\"\n",
        "print(\"Prompt:\\n\", prompt)"
      ],
      "metadata": {
        "colab": {
          "base_uri": "https://localhost:8080/"
        },
        "id": "XRq7LVZH3kwr",
        "outputId": "ac82ff53-c4ca-4f36-b0d6-a7279d5231e7",
        "execution": {
          "iopub.status.busy": "2024-03-25T00:37:07.091541Z",
          "iopub.execute_input": "2024-03-25T00:37:07.092317Z",
          "iopub.status.idle": "2024-03-25T00:37:07.097322Z",
          "shell.execute_reply.started": "2024-03-25T00:37:07.092285Z",
          "shell.execute_reply": "2024-03-25T00:37:07.096350Z"
        },
        "trusted": true
      },
      "execution_count": null,
      "outputs": [
        {
          "name": "stdout",
          "text": "Prompt:\n O Romeo, Romeo, wherefore art thou Romeo?\n",
          "output_type": "stream"
        }
      ]
    },
    {
      "cell_type": "markdown",
      "source": [
        "### Sample with greedy search"
      ],
      "metadata": {
        "id": "7Xf32EL32yNL"
      }
    },
    {
      "cell_type": "code",
      "source": [
        "output = sampler.sample(prompt, max_tokens_generated=200, temperature=0)\n",
        "print(\"Greedy search output:\\n\", output)"
      ],
      "metadata": {
        "colab": {
          "base_uri": "https://localhost:8080/"
        },
        "id": "-ZwrW6oIoTo5",
        "outputId": "66d56b85-c47f-497d-8218-78afbe0311fd",
        "execution": {
          "iopub.status.busy": "2024-03-25T00:39:49.922875Z",
          "iopub.execute_input": "2024-03-25T00:39:49.923622Z",
          "iopub.status.idle": "2024-03-25T00:39:50.674848Z",
          "shell.execute_reply.started": "2024-03-25T00:39:49.923592Z",
          "shell.execute_reply": "2024-03-25T00:39:50.673883Z"
        },
        "trusted": true
      },
      "execution_count": null,
      "outputs": [
        {
          "name": "stdout",
          "text": "Greedy search output:\n O Romeo, Romeo, wherefore art thou Romeo?\n\nCLIFFORD:\nAy, ay, and therefore, friends.\n\nWARWICK:\nWilt thou not bandy?\n\nWARWICK:\nNeither, my lord, and I will stay.\n\nKING HENRY VI:\n\nMy Lord Henry, Henry, Henry, and tell thee Lancaster.\n\nEXETER:\nMy lord, I will not be so.\n\nKING HENRY VI:\n\nYORK:\nMy lord, I will not be crown to resign.\n\nKING HENRY VI:\n\nYORK:\nMy lord, I will not be crown to resign.\n\nKING HENRY VI:\nMy lord, I will not fear to resign.\n\nKING HENRY VI:\nMy lords, forbear, to your name the crown,\nNor I resign unto your crown, and presently.\n\nCLARENCE:\nMy Lord of Clarence, I\n",
          "output_type": "stream"
        }
      ]
    },
    {
      "cell_type": "markdown",
      "source": [
        "### Sample from the distribution defined by the logits"
      ],
      "metadata": {
        "id": "jYkfViUo22mY"
      }
    },
    {
      "cell_type": "code",
      "source": [
        "output = sampler.sample(prompt, max_tokens_generated=200, temperature=0.7)\n",
        "print(\"Basic sampler output:\\n\", output)"
      ],
      "metadata": {
        "colab": {
          "base_uri": "https://localhost:8080/"
        },
        "id": "Le5XTr_P3G-p",
        "outputId": "254e5265-1de4-4c0a-85d7-6f857676e2ad",
        "execution": {
          "iopub.status.busy": "2024-03-25T00:39:31.922566Z",
          "iopub.execute_input": "2024-03-25T00:39:31.923455Z",
          "iopub.status.idle": "2024-03-25T00:39:32.778357Z",
          "shell.execute_reply.started": "2024-03-25T00:39:31.923420Z",
          "shell.execute_reply": "2024-03-25T00:39:32.776377Z"
        },
        "trusted": true
      },
      "execution_count": null,
      "outputs": [
        {
          "name": "stdout",
          "text": "Basic sampler output:\n O Romeo, Romeo, wherefore art thou Romeo?\n\nPAULINA:\nThe statue is the year and newly fix'd the colour's Not dry.\n\nLEONTES:\nYou are gone:\nLook, Emilia.\n\nANTIGONUS:\nSo, I am not to't.\n\nPAULINA:\nThe keeper of the old tale, my lord;\nI'll follow her.\n\nLEONTES:\nI'll well, Paulina,\nI'll draw. But, stir! honour you not,\nYou have a creature died at all: I do't,\nYou will not pass on't.\n\nLEONTES:\nI'll that she were well-fond hence.\n\nPAULINA:\nAnd thus he did't; and, I'll be more.\n\nLEONTES:\nNot a strange friendly, unnatural,\nConduct me to your petition\nThe chapel where I am sure of my\nWith some honour.\n\n",
          "output_type": "stream"
        }
      ]
    },
    {
      "cell_type": "markdown",
      "source": [
        "### Sample from the top k logits"
      ],
      "metadata": {
        "id": "mWvMKIZL2_nv"
      }
    },
    {
      "cell_type": "code",
      "source": [
        "output = sampler.sample(prompt, max_tokens_generated=200, temperature=0.7, top_k=200)\n",
        "print(\"Top-k sample output:\\n\", output)"
      ],
      "metadata": {
        "colab": {
          "base_uri": "https://localhost:8080/"
        },
        "id": "sGGqpZYB3O21",
        "outputId": "c3cdde3c-2d86-43b8-efa9-9af81a4b36ff",
        "execution": {
          "iopub.status.busy": "2024-03-25T00:39:13.387503Z",
          "iopub.execute_input": "2024-03-25T00:39:13.388528Z",
          "iopub.status.idle": "2024-03-25T00:39:14.284427Z",
          "shell.execute_reply.started": "2024-03-25T00:39:13.388493Z",
          "shell.execute_reply": "2024-03-25T00:39:14.283466Z"
        },
        "trusted": true
      },
      "execution_count": null,
      "outputs": [
        {
          "name": "stdout",
          "text": "Top-k sample output:\n O Romeo, Romeo, wherefore art thou Romeo?\n\nOXFORD:\nKing Edward's name;\n\n'Twixt thy head and clas in the viewless dasticite,\nFrom thy foul mouth the world: I hadst not what they\nThat thou seest it pass'd, but only I\nWherein thy suffering thus blest to heaven.\nMy revenge it in the female seas:\nThou art a mother of thy mother's face,\nOr thou hast not but thy brother's son,\nAnd heap thyself old grandsire's eye\nThan curse thy valourers breast.\n\nKING LEWIS XI:\nWarwick, the king, or thou art the post that word.\n\nWARWICK:\nNay, York will to Coventry.\n\nNay, wilt thou not?\nThou wast thou in likeness, thou shalt come about thy horse.\n\nEXETER:\nI shall not go so, as thou\n",
          "output_type": "stream"
        }
      ]
    }
  ]
}