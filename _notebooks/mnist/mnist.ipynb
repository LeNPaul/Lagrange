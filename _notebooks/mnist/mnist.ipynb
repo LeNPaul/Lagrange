{
 "cells": [
  {
   "cell_type": "markdown",
   "metadata": {
    "id": "vbsTkCrdYAyo"
   },
   "source": [
    "One of the most commonly used datasets in ML research has been the MNIST dataset. It's a small dataset containing 60,000 28x28 greyscale images of handwritten digits and their labels, with 10 distinct classes for the digits from 0-9. It's often used as a \"Hello World\" example for machine learning. In this notebook, we'll use it as such.\n",
    "\n",
    "We go from doing some exploratory data analysis, through fully-connected models, up to training our first CNN model and achieving >99% classification accuracy on the dataset. Along the way, we write our own Learner class from scratch and use it to group together model, loss, optimizer, training and validation datasets.\n",
    "\n",
    "This work was inspired by [this notebook](https://github.com/fastai/fastbook/blob/master/04_mnist_basics.ipynb) from the Fast.ai course, Practical Deep Learning for Coders."
   ]
  },
  {
   "cell_type": "markdown",
   "metadata": {
    "id": "pUMQ1fOhs5sq"
   },
   "source": [
    "### Import torchvision MNIST"
   ]
  },
  {
   "cell_type": "markdown",
   "metadata": {
    "id": "eJgyXonkgBhD"
   },
   "source": [
    "We download the MNIST dataset from torchvision. As part of the download, we can specify any transformations to make to the data inputs or to the data labels. Here, we only transform the data inputs. To be able to properly do machine learning with images, we need to turn them from PIL images to PyTorch Tensors. We download two copies of the dataset, one with 2D tensors, and one with each image flattened into 1D tensors. We also leave the test set alone and split a validation set out of the training set for evaluation during training."
   ]
  },
  {
   "cell_type": "code",
   "execution_count": 1,
   "metadata": {
    "id": "9Zs-vvaziJs7"
   },
   "outputs": [
    {
     "name": "stdout",
     "output_type": "stream",
     "text": [
      "Downloading http://yann.lecun.com/exdb/mnist/train-images-idx3-ubyte.gz\n",
      "Downloading http://yann.lecun.com/exdb/mnist/train-images-idx3-ubyte.gz to mnist/MNIST/raw/train-images-idx3-ubyte.gz\n"
     ]
    },
    {
     "name": "stderr",
     "output_type": "stream",
     "text": [
      "100%|█████████████████████████████████████████████████████████████████████████████████| 9912422/9912422 [00:00<00:00, 25632184.75it/s]\n"
     ]
    },
    {
     "name": "stdout",
     "output_type": "stream",
     "text": [
      "Extracting mnist/MNIST/raw/train-images-idx3-ubyte.gz to mnist/MNIST/raw\n",
      "\n",
      "Downloading http://yann.lecun.com/exdb/mnist/train-labels-idx1-ubyte.gz\n",
      "Downloading http://yann.lecun.com/exdb/mnist/train-labels-idx1-ubyte.gz to mnist/MNIST/raw/train-labels-idx1-ubyte.gz\n"
     ]
    },
    {
     "name": "stderr",
     "output_type": "stream",
     "text": [
      "100%|██████████████████████████████████████████████████████████████████████████████████████| 28881/28881 [00:00<00:00, 6581673.12it/s]"
     ]
    },
    {
     "name": "stdout",
     "output_type": "stream",
     "text": [
      "Extracting mnist/MNIST/raw/train-labels-idx1-ubyte.gz to mnist/MNIST/raw\n",
      "\n",
      "Downloading http://yann.lecun.com/exdb/mnist/t10k-images-idx3-ubyte.gz\n",
      "Downloading http://yann.lecun.com/exdb/mnist/t10k-images-idx3-ubyte.gz to mnist/MNIST/raw/t10k-images-idx3-ubyte.gz\n"
     ]
    },
    {
     "name": "stderr",
     "output_type": "stream",
     "text": [
      "\n",
      "100%|█████████████████████████████████████████████████████████████████████████████████| 1648877/1648877 [00:00<00:00, 18821466.49it/s]\n"
     ]
    },
    {
     "name": "stdout",
     "output_type": "stream",
     "text": [
      "Extracting mnist/MNIST/raw/t10k-images-idx3-ubyte.gz to mnist/MNIST/raw\n",
      "\n",
      "Downloading http://yann.lecun.com/exdb/mnist/t10k-labels-idx1-ubyte.gz\n",
      "Downloading http://yann.lecun.com/exdb/mnist/t10k-labels-idx1-ubyte.gz to mnist/MNIST/raw/t10k-labels-idx1-ubyte.gz\n"
     ]
    },
    {
     "name": "stderr",
     "output_type": "stream",
     "text": [
      "100%|████████████████████████████████████████████████████████████████████████████████████████| 4542/4542 [00:00<00:00, 4522917.56it/s]\n"
     ]
    },
    {
     "name": "stdout",
     "output_type": "stream",
     "text": [
      "Extracting mnist/MNIST/raw/t10k-labels-idx1-ubyte.gz to mnist/MNIST/raw\n",
      "\n",
      "Downloading http://yann.lecun.com/exdb/mnist/train-images-idx3-ubyte.gz\n",
      "Downloading http://yann.lecun.com/exdb/mnist/train-images-idx3-ubyte.gz to mnist/flattened/MNIST/raw/train-images-idx3-ubyte.gz\n"
     ]
    },
    {
     "name": "stderr",
     "output_type": "stream",
     "text": [
      "100%|█████████████████████████████████████████████████████████████████████████████████| 9912422/9912422 [00:00<00:00, 22345901.24it/s]\n"
     ]
    },
    {
     "name": "stdout",
     "output_type": "stream",
     "text": [
      "Extracting mnist/flattened/MNIST/raw/train-images-idx3-ubyte.gz to mnist/flattened/MNIST/raw\n",
      "\n",
      "Downloading http://yann.lecun.com/exdb/mnist/train-labels-idx1-ubyte.gz\n",
      "Downloading http://yann.lecun.com/exdb/mnist/train-labels-idx1-ubyte.gz to mnist/flattened/MNIST/raw/train-labels-idx1-ubyte.gz\n"
     ]
    },
    {
     "name": "stderr",
     "output_type": "stream",
     "text": [
      "100%|█████████████████████████████████████████████████████████████████████████████████████| 28881/28881 [00:00<00:00, 11176941.67it/s]\n"
     ]
    },
    {
     "name": "stdout",
     "output_type": "stream",
     "text": [
      "Extracting mnist/flattened/MNIST/raw/train-labels-idx1-ubyte.gz to mnist/flattened/MNIST/raw\n",
      "\n",
      "Downloading http://yann.lecun.com/exdb/mnist/t10k-images-idx3-ubyte.gz\n",
      "Downloading http://yann.lecun.com/exdb/mnist/t10k-images-idx3-ubyte.gz to mnist/flattened/MNIST/raw/t10k-images-idx3-ubyte.gz\n"
     ]
    },
    {
     "name": "stderr",
     "output_type": "stream",
     "text": [
      "100%|█████████████████████████████████████████████████████████████████████████████████| 1648877/1648877 [00:00<00:00, 21217189.37it/s]\n"
     ]
    },
    {
     "name": "stdout",
     "output_type": "stream",
     "text": [
      "Extracting mnist/flattened/MNIST/raw/t10k-images-idx3-ubyte.gz to mnist/flattened/MNIST/raw\n",
      "\n",
      "Downloading http://yann.lecun.com/exdb/mnist/t10k-labels-idx1-ubyte.gz\n",
      "Downloading http://yann.lecun.com/exdb/mnist/t10k-labels-idx1-ubyte.gz to mnist/flattened/MNIST/raw/t10k-labels-idx1-ubyte.gz\n"
     ]
    },
    {
     "name": "stderr",
     "output_type": "stream",
     "text": [
      "100%|████████████████████████████████████████████████████████████████████████████████████████| 4542/4542 [00:00<00:00, 6022930.37it/s]\n"
     ]
    },
    {
     "name": "stdout",
     "output_type": "stream",
     "text": [
      "Extracting mnist/flattened/MNIST/raw/t10k-labels-idx1-ubyte.gz to mnist/flattened/MNIST/raw\n",
      "\n"
     ]
    }
   ],
   "source": [
    "import torchvision.transforms as T\n",
    "from torchvision.datasets import MNIST\n",
    "from torch.utils.data import Subset, DataLoader\n",
    "import torch\n",
    "\n",
    "train_dataset = MNIST(root='mnist', train=True, download=True, transform=T.ToTensor())\n",
    "test_dataset = MNIST(root='mnist', train=False, download=True, transform=T.ToTensor())\n",
    "\n",
    "train_dataset_flattened = MNIST(root='mnist/flattened/', train=True, download=True,\n",
    "    transform=T.Compose([T.ToTensor(), T.Lambda(torch.flatten)]))\n",
    "test_dataset_flattened = MNIST(root='mnist/flattened/', train=False, download=True,\n",
    "    transform=T.Compose([T.ToTensor(), T.Lambda(torch.flatten)]))"
   ]
  },
  {
   "cell_type": "markdown",
   "metadata": {
    "id": "qoyM34OBRW1t"
   },
   "source": [
    "### A first look at the data"
   ]
  },
  {
   "cell_type": "code",
   "execution_count": 2,
   "metadata": {
    "colab": {
     "base_uri": "https://localhost:8080/"
    },
    "id": "j5v6jWVdOYdx",
    "outputId": "a5c2c3c1-d8bc-429a-a4d0-d9c3691d964f"
   },
   "outputs": [
    {
     "data": {
      "text/plain": [
       "60000"
      ]
     },
     "execution_count": 2,
     "metadata": {},
     "output_type": "execute_result"
    }
   ],
   "source": [
    "len(train_dataset)"
   ]
  },
  {
   "cell_type": "code",
   "execution_count": 3,
   "metadata": {
    "colab": {
     "base_uri": "https://localhost:8080/"
    },
    "id": "4R79ZGt7OqhK",
    "outputId": "90e04cbe-b293-4fb4-e735-953a891a0b1d"
   },
   "outputs": [
    {
     "data": {
      "text/plain": [
       "10000"
      ]
     },
     "execution_count": 3,
     "metadata": {},
     "output_type": "execute_result"
    }
   ],
   "source": [
    "len(test_dataset)"
   ]
  },
  {
   "cell_type": "markdown",
   "metadata": {
    "id": "o9ooh6KUQNo6"
   },
   "source": [
    "We can get information about the *i*th element of the dataset like so:"
   ]
  },
  {
   "cell_type": "code",
   "execution_count": 4,
   "metadata": {
    "id": "j4_LFOqGQvmk"
   },
   "outputs": [],
   "source": [
    "i = 0"
   ]
  },
  {
   "cell_type": "markdown",
   "metadata": {
    "id": "aeNiwH0pREil"
   },
   "source": [
    "Each image is a 3D tensor with a single channel (first dimension) and height and width of 28."
   ]
  },
  {
   "cell_type": "code",
   "execution_count": 5,
   "metadata": {
    "colab": {
     "base_uri": "https://localhost:8080/"
    },
    "id": "SHs0yhK3OsgG",
    "outputId": "a6aceaab-64a7-4824-e6b7-07a55697f8c8"
   },
   "outputs": [
    {
     "data": {
      "text/plain": [
       "torch.Size([1, 28, 28])"
      ]
     },
     "execution_count": 5,
     "metadata": {},
     "output_type": "execute_result"
    }
   ],
   "source": [
    "train_dataset[i][0].shape"
   ]
  },
  {
   "cell_type": "markdown",
   "metadata": {
    "id": "6tif9Y8TQUBg"
   },
   "source": [
    "We can get the label of the *i*th image of the training dataset like so:"
   ]
  },
  {
   "cell_type": "code",
   "execution_count": 6,
   "metadata": {
    "colab": {
     "base_uri": "https://localhost:8080/"
    },
    "id": "IqUM-A9bPToD",
    "outputId": "fe0b7d2d-3b7b-452d-e0d4-e39988cf8477"
   },
   "outputs": [
    {
     "data": {
      "text/plain": [
       "5"
      ]
     },
     "execution_count": 6,
     "metadata": {},
     "output_type": "execute_result"
    }
   ],
   "source": [
    "train_dataset[i][1]"
   ]
  },
  {
   "cell_type": "markdown",
   "metadata": {
    "id": "KqHbjfSdQdkL"
   },
   "source": [
    "Similarly, we can get the label of the *i*th image of the test dataset:"
   ]
  },
  {
   "cell_type": "code",
   "execution_count": 7,
   "metadata": {
    "colab": {
     "base_uri": "https://localhost:8080/"
    },
    "id": "eflGAHYCPl24",
    "outputId": "ba846cdb-94f9-4634-c8d1-65cb802ac847"
   },
   "outputs": [
    {
     "data": {
      "text/plain": [
       "7"
      ]
     },
     "execution_count": 7,
     "metadata": {},
     "output_type": "execute_result"
    }
   ],
   "source": [
    "test_dataset[i][1]"
   ]
  },
  {
   "cell_type": "markdown",
   "metadata": {
    "id": "PRbotlwGR3--"
   },
   "source": [
    "In our flattened version of the dataset, each image has been flattened to be a 1D tensor."
   ]
  },
  {
   "cell_type": "code",
   "execution_count": 8,
   "metadata": {
    "colab": {
     "base_uri": "https://localhost:8080/"
    },
    "id": "1q5iEOmvPvWf",
    "outputId": "b2286059-d68b-41b2-e4b6-d28fa5f2f165"
   },
   "outputs": [
    {
     "data": {
      "text/plain": [
       "torch.Size([784])"
      ]
     },
     "execution_count": 8,
     "metadata": {},
     "output_type": "execute_result"
    }
   ],
   "source": [
    "train_dataset_flattened[i][0].shape"
   ]
  },
  {
   "cell_type": "markdown",
   "metadata": {
    "id": "V5mJfj0ETmEV"
   },
   "source": [
    "Let's take a look at the pixel values of the first training example. It's good practice to normalize input data to make the optimization landscape smoother so that it takes fewer iterations to converge to a good minimum. Notice all the values have already been normalized to be between 0 and 1, with 1 corresponding with \"black\" and 0 with \"white.\""
   ]
  },
  {
   "cell_type": "code",
   "execution_count": 9,
   "metadata": {
    "colab": {
     "base_uri": "https://localhost:8080/"
    },
    "id": "Ny1o281t4XUS",
    "outputId": "24f16426-a1ea-42d3-f6cf-7e1f6c7d588e"
   },
   "outputs": [
    {
     "data": {
      "text/html": [
       "<style type=\"text/css\">\n",
       "#T_54f1f_row0_col0, #T_54f1f_row0_col1, #T_54f1f_row0_col2, #T_54f1f_row0_col3, #T_54f1f_row0_col4, #T_54f1f_row0_col5, #T_54f1f_row0_col6, #T_54f1f_row0_col7, #T_54f1f_row0_col8, #T_54f1f_row0_col9, #T_54f1f_row0_col10, #T_54f1f_row0_col11, #T_54f1f_row0_col12, #T_54f1f_row0_col13, #T_54f1f_row0_col14, #T_54f1f_row0_col15, #T_54f1f_row0_col16, #T_54f1f_row0_col17, #T_54f1f_row0_col18, #T_54f1f_row0_col19, #T_54f1f_row0_col20, #T_54f1f_row0_col21, #T_54f1f_row0_col22, #T_54f1f_row0_col23, #T_54f1f_row0_col24, #T_54f1f_row0_col25, #T_54f1f_row0_col26, #T_54f1f_row0_col27, #T_54f1f_row1_col0, #T_54f1f_row1_col1, #T_54f1f_row1_col2, #T_54f1f_row1_col3, #T_54f1f_row1_col4, #T_54f1f_row1_col5, #T_54f1f_row1_col6, #T_54f1f_row1_col7, #T_54f1f_row1_col8, #T_54f1f_row1_col9, #T_54f1f_row1_col10, #T_54f1f_row1_col11, #T_54f1f_row1_col12, #T_54f1f_row1_col13, #T_54f1f_row1_col14, #T_54f1f_row1_col15, #T_54f1f_row1_col16, #T_54f1f_row1_col17, #T_54f1f_row1_col18, #T_54f1f_row1_col19, #T_54f1f_row1_col20, #T_54f1f_row1_col21, #T_54f1f_row1_col22, #T_54f1f_row1_col23, #T_54f1f_row1_col24, #T_54f1f_row1_col25, #T_54f1f_row1_col26, #T_54f1f_row1_col27, #T_54f1f_row2_col0, #T_54f1f_row2_col1, #T_54f1f_row2_col2, #T_54f1f_row2_col3, #T_54f1f_row2_col4, #T_54f1f_row2_col5, #T_54f1f_row2_col6, #T_54f1f_row2_col7, #T_54f1f_row2_col8, #T_54f1f_row2_col9, #T_54f1f_row2_col10, #T_54f1f_row2_col11, #T_54f1f_row2_col12, #T_54f1f_row2_col13, #T_54f1f_row2_col14, #T_54f1f_row2_col15, #T_54f1f_row2_col16, #T_54f1f_row2_col17, #T_54f1f_row2_col18, #T_54f1f_row2_col19, #T_54f1f_row2_col20, #T_54f1f_row2_col21, #T_54f1f_row2_col22, #T_54f1f_row2_col23, #T_54f1f_row2_col24, #T_54f1f_row2_col25, #T_54f1f_row2_col26, #T_54f1f_row2_col27, #T_54f1f_row3_col0, #T_54f1f_row3_col1, #T_54f1f_row3_col2, #T_54f1f_row3_col3, #T_54f1f_row3_col4, #T_54f1f_row3_col5, #T_54f1f_row3_col6, #T_54f1f_row3_col7, #T_54f1f_row3_col8, #T_54f1f_row3_col9, #T_54f1f_row3_col10, #T_54f1f_row3_col11, #T_54f1f_row3_col12, #T_54f1f_row3_col13, #T_54f1f_row3_col14, #T_54f1f_row3_col15, #T_54f1f_row3_col16, #T_54f1f_row3_col17, #T_54f1f_row3_col18, #T_54f1f_row3_col19, #T_54f1f_row3_col20, #T_54f1f_row3_col21, #T_54f1f_row3_col22, #T_54f1f_row3_col23, #T_54f1f_row3_col24, #T_54f1f_row3_col25, #T_54f1f_row3_col26, #T_54f1f_row3_col27, #T_54f1f_row4_col0, #T_54f1f_row4_col1, #T_54f1f_row4_col2, #T_54f1f_row4_col3, #T_54f1f_row4_col4, #T_54f1f_row4_col5, #T_54f1f_row4_col6, #T_54f1f_row4_col7, #T_54f1f_row4_col8, #T_54f1f_row4_col9, #T_54f1f_row4_col10, #T_54f1f_row4_col11, #T_54f1f_row4_col12, #T_54f1f_row4_col13, #T_54f1f_row4_col14, #T_54f1f_row4_col15, #T_54f1f_row4_col16, #T_54f1f_row4_col17, #T_54f1f_row4_col18, #T_54f1f_row4_col19, #T_54f1f_row4_col20, #T_54f1f_row4_col21, #T_54f1f_row4_col22, #T_54f1f_row4_col23, #T_54f1f_row4_col24, #T_54f1f_row4_col25, #T_54f1f_row4_col26, #T_54f1f_row4_col27, #T_54f1f_row5_col0, #T_54f1f_row5_col1, #T_54f1f_row5_col2, #T_54f1f_row5_col3, #T_54f1f_row5_col4, #T_54f1f_row5_col5, #T_54f1f_row5_col6, #T_54f1f_row5_col7, #T_54f1f_row5_col8, #T_54f1f_row5_col9, #T_54f1f_row5_col10, #T_54f1f_row5_col11, #T_54f1f_row5_col24, #T_54f1f_row5_col25, #T_54f1f_row5_col26, #T_54f1f_row5_col27, #T_54f1f_row6_col0, #T_54f1f_row6_col1, #T_54f1f_row6_col2, #T_54f1f_row6_col3, #T_54f1f_row6_col4, #T_54f1f_row6_col5, #T_54f1f_row6_col6, #T_54f1f_row6_col7, #T_54f1f_row6_col24, #T_54f1f_row6_col25, #T_54f1f_row6_col26, #T_54f1f_row6_col27, #T_54f1f_row7_col0, #T_54f1f_row7_col1, #T_54f1f_row7_col2, #T_54f1f_row7_col3, #T_54f1f_row7_col4, #T_54f1f_row7_col5, #T_54f1f_row7_col6, #T_54f1f_row7_col23, #T_54f1f_row7_col24, #T_54f1f_row7_col25, #T_54f1f_row7_col26, #T_54f1f_row7_col27, #T_54f1f_row8_col0, #T_54f1f_row8_col1, #T_54f1f_row8_col2, #T_54f1f_row8_col3, #T_54f1f_row8_col4, #T_54f1f_row8_col5, #T_54f1f_row8_col6, #T_54f1f_row8_col18, #T_54f1f_row8_col19, #T_54f1f_row8_col20, #T_54f1f_row8_col21, #T_54f1f_row8_col22, #T_54f1f_row8_col23, #T_54f1f_row8_col24, #T_54f1f_row8_col25, #T_54f1f_row8_col26, #T_54f1f_row8_col27, #T_54f1f_row9_col0, #T_54f1f_row9_col1, #T_54f1f_row9_col2, #T_54f1f_row9_col3, #T_54f1f_row9_col4, #T_54f1f_row9_col5, #T_54f1f_row9_col6, #T_54f1f_row9_col7, #T_54f1f_row9_col15, #T_54f1f_row9_col18, #T_54f1f_row9_col19, #T_54f1f_row9_col20, #T_54f1f_row9_col21, #T_54f1f_row9_col22, #T_54f1f_row9_col23, #T_54f1f_row9_col24, #T_54f1f_row9_col25, #T_54f1f_row9_col26, #T_54f1f_row9_col27, #T_54f1f_row10_col0, #T_54f1f_row10_col1, #T_54f1f_row10_col2, #T_54f1f_row10_col3, #T_54f1f_row10_col4, #T_54f1f_row10_col5, #T_54f1f_row10_col6, #T_54f1f_row10_col7, #T_54f1f_row10_col8, #T_54f1f_row10_col10, #T_54f1f_row10_col14, #T_54f1f_row10_col15, #T_54f1f_row10_col16, #T_54f1f_row10_col17, #T_54f1f_row10_col18, #T_54f1f_row10_col19, #T_54f1f_row10_col20, #T_54f1f_row10_col21, #T_54f1f_row10_col22, #T_54f1f_row10_col23, #T_54f1f_row10_col24, #T_54f1f_row10_col25, #T_54f1f_row10_col26, #T_54f1f_row10_col27, #T_54f1f_row11_col0, #T_54f1f_row11_col1, #T_54f1f_row11_col2, #T_54f1f_row11_col3, #T_54f1f_row11_col4, #T_54f1f_row11_col5, #T_54f1f_row11_col6, #T_54f1f_row11_col7, #T_54f1f_row11_col8, #T_54f1f_row11_col9, #T_54f1f_row11_col10, #T_54f1f_row11_col15, #T_54f1f_row11_col16, #T_54f1f_row11_col17, #T_54f1f_row11_col18, #T_54f1f_row11_col19, #T_54f1f_row11_col20, #T_54f1f_row11_col21, #T_54f1f_row11_col22, #T_54f1f_row11_col23, #T_54f1f_row11_col24, #T_54f1f_row11_col25, #T_54f1f_row11_col26, #T_54f1f_row11_col27, #T_54f1f_row12_col0, #T_54f1f_row12_col1, #T_54f1f_row12_col2, #T_54f1f_row12_col3, #T_54f1f_row12_col4, #T_54f1f_row12_col5, #T_54f1f_row12_col6, #T_54f1f_row12_col7, #T_54f1f_row12_col8, #T_54f1f_row12_col9, #T_54f1f_row12_col10, #T_54f1f_row12_col15, #T_54f1f_row12_col16, #T_54f1f_row12_col17, #T_54f1f_row12_col18, #T_54f1f_row12_col19, #T_54f1f_row12_col20, #T_54f1f_row12_col21, #T_54f1f_row12_col22, #T_54f1f_row12_col23, #T_54f1f_row12_col24, #T_54f1f_row12_col25, #T_54f1f_row12_col26, #T_54f1f_row12_col27, #T_54f1f_row13_col0, #T_54f1f_row13_col1, #T_54f1f_row13_col2, #T_54f1f_row13_col3, #T_54f1f_row13_col4, #T_54f1f_row13_col5, #T_54f1f_row13_col6, #T_54f1f_row13_col7, #T_54f1f_row13_col8, #T_54f1f_row13_col9, #T_54f1f_row13_col10, #T_54f1f_row13_col11, #T_54f1f_row13_col17, #T_54f1f_row13_col18, #T_54f1f_row13_col19, #T_54f1f_row13_col20, #T_54f1f_row13_col21, #T_54f1f_row13_col22, #T_54f1f_row13_col23, #T_54f1f_row13_col24, #T_54f1f_row13_col25, #T_54f1f_row13_col26, #T_54f1f_row13_col27, #T_54f1f_row14_col0, #T_54f1f_row14_col1, #T_54f1f_row14_col2, #T_54f1f_row14_col3, #T_54f1f_row14_col4, #T_54f1f_row14_col5, #T_54f1f_row14_col6, #T_54f1f_row14_col7, #T_54f1f_row14_col8, #T_54f1f_row14_col9, #T_54f1f_row14_col10, #T_54f1f_row14_col11, #T_54f1f_row14_col12, #T_54f1f_row14_col19, #T_54f1f_row14_col20, #T_54f1f_row14_col21, #T_54f1f_row14_col22, #T_54f1f_row14_col23, #T_54f1f_row14_col24, #T_54f1f_row14_col25, #T_54f1f_row14_col26, #T_54f1f_row14_col27, #T_54f1f_row15_col0, #T_54f1f_row15_col1, #T_54f1f_row15_col2, #T_54f1f_row15_col3, #T_54f1f_row15_col4, #T_54f1f_row15_col5, #T_54f1f_row15_col6, #T_54f1f_row15_col7, #T_54f1f_row15_col8, #T_54f1f_row15_col9, #T_54f1f_row15_col10, #T_54f1f_row15_col11, #T_54f1f_row15_col12, #T_54f1f_row15_col13, #T_54f1f_row15_col20, #T_54f1f_row15_col21, #T_54f1f_row15_col22, #T_54f1f_row15_col23, #T_54f1f_row15_col24, #T_54f1f_row15_col25, #T_54f1f_row15_col26, #T_54f1f_row15_col27, #T_54f1f_row16_col0, #T_54f1f_row16_col1, #T_54f1f_row16_col2, #T_54f1f_row16_col3, #T_54f1f_row16_col4, #T_54f1f_row16_col5, #T_54f1f_row16_col6, #T_54f1f_row16_col7, #T_54f1f_row16_col8, #T_54f1f_row16_col9, #T_54f1f_row16_col10, #T_54f1f_row16_col11, #T_54f1f_row16_col12, #T_54f1f_row16_col13, #T_54f1f_row16_col14, #T_54f1f_row16_col20, #T_54f1f_row16_col21, #T_54f1f_row16_col22, #T_54f1f_row16_col23, #T_54f1f_row16_col24, #T_54f1f_row16_col25, #T_54f1f_row16_col26, #T_54f1f_row16_col27, #T_54f1f_row17_col0, #T_54f1f_row17_col1, #T_54f1f_row17_col2, #T_54f1f_row17_col3, #T_54f1f_row17_col4, #T_54f1f_row17_col5, #T_54f1f_row17_col6, #T_54f1f_row17_col7, #T_54f1f_row17_col8, #T_54f1f_row17_col9, #T_54f1f_row17_col10, #T_54f1f_row17_col11, #T_54f1f_row17_col12, #T_54f1f_row17_col13, #T_54f1f_row17_col14, #T_54f1f_row17_col15, #T_54f1f_row17_col16, #T_54f1f_row17_col21, #T_54f1f_row17_col22, #T_54f1f_row17_col23, #T_54f1f_row17_col24, #T_54f1f_row17_col25, #T_54f1f_row17_col26, #T_54f1f_row17_col27, #T_54f1f_row18_col0, #T_54f1f_row18_col1, #T_54f1f_row18_col2, #T_54f1f_row18_col3, #T_54f1f_row18_col4, #T_54f1f_row18_col5, #T_54f1f_row18_col6, #T_54f1f_row18_col7, #T_54f1f_row18_col8, #T_54f1f_row18_col9, #T_54f1f_row18_col10, #T_54f1f_row18_col11, #T_54f1f_row18_col12, #T_54f1f_row18_col13, #T_54f1f_row18_col21, #T_54f1f_row18_col22, #T_54f1f_row18_col23, #T_54f1f_row18_col24, #T_54f1f_row18_col25, #T_54f1f_row18_col26, #T_54f1f_row18_col27, #T_54f1f_row19_col0, #T_54f1f_row19_col1, #T_54f1f_row19_col2, #T_54f1f_row19_col3, #T_54f1f_row19_col4, #T_54f1f_row19_col5, #T_54f1f_row19_col6, #T_54f1f_row19_col7, #T_54f1f_row19_col8, #T_54f1f_row19_col9, #T_54f1f_row19_col10, #T_54f1f_row19_col11, #T_54f1f_row19_col20, #T_54f1f_row19_col21, #T_54f1f_row19_col22, #T_54f1f_row19_col23, #T_54f1f_row19_col24, #T_54f1f_row19_col25, #T_54f1f_row19_col26, #T_54f1f_row19_col27, #T_54f1f_row20_col0, #T_54f1f_row20_col1, #T_54f1f_row20_col2, #T_54f1f_row20_col3, #T_54f1f_row20_col4, #T_54f1f_row20_col5, #T_54f1f_row20_col6, #T_54f1f_row20_col7, #T_54f1f_row20_col8, #T_54f1f_row20_col9, #T_54f1f_row20_col19, #T_54f1f_row20_col20, #T_54f1f_row20_col21, #T_54f1f_row20_col22, #T_54f1f_row20_col23, #T_54f1f_row20_col24, #T_54f1f_row20_col25, #T_54f1f_row20_col26, #T_54f1f_row20_col27, #T_54f1f_row21_col0, #T_54f1f_row21_col1, #T_54f1f_row21_col2, #T_54f1f_row21_col3, #T_54f1f_row21_col4, #T_54f1f_row21_col5, #T_54f1f_row21_col6, #T_54f1f_row21_col7, #T_54f1f_row21_col18, #T_54f1f_row21_col19, #T_54f1f_row21_col20, #T_54f1f_row21_col21, #T_54f1f_row21_col22, #T_54f1f_row21_col23, #T_54f1f_row21_col24, #T_54f1f_row21_col25, #T_54f1f_row21_col26, #T_54f1f_row21_col27, #T_54f1f_row22_col0, #T_54f1f_row22_col1, #T_54f1f_row22_col2, #T_54f1f_row22_col3, #T_54f1f_row22_col4, #T_54f1f_row22_col5, #T_54f1f_row22_col16, #T_54f1f_row22_col17, #T_54f1f_row22_col18, #T_54f1f_row22_col19, #T_54f1f_row22_col20, #T_54f1f_row22_col21, #T_54f1f_row22_col22, #T_54f1f_row22_col23, #T_54f1f_row22_col24, #T_54f1f_row22_col25, #T_54f1f_row22_col26, #T_54f1f_row22_col27, #T_54f1f_row23_col0, #T_54f1f_row23_col1, #T_54f1f_row23_col2, #T_54f1f_row23_col3, #T_54f1f_row23_col14, #T_54f1f_row23_col15, #T_54f1f_row23_col16, #T_54f1f_row23_col17, #T_54f1f_row23_col18, #T_54f1f_row23_col19, #T_54f1f_row23_col20, #T_54f1f_row23_col21, #T_54f1f_row23_col22, #T_54f1f_row23_col23, #T_54f1f_row23_col24, #T_54f1f_row23_col25, #T_54f1f_row23_col26, #T_54f1f_row23_col27, #T_54f1f_row24_col0, #T_54f1f_row24_col1, #T_54f1f_row24_col2, #T_54f1f_row24_col3, #T_54f1f_row24_col12, #T_54f1f_row24_col13, #T_54f1f_row24_col14, #T_54f1f_row24_col15, #T_54f1f_row24_col16, #T_54f1f_row24_col17, #T_54f1f_row24_col18, #T_54f1f_row24_col19, #T_54f1f_row24_col20, #T_54f1f_row24_col21, #T_54f1f_row24_col22, #T_54f1f_row24_col23, #T_54f1f_row24_col24, #T_54f1f_row24_col25, #T_54f1f_row24_col26, #T_54f1f_row24_col27, #T_54f1f_row25_col0, #T_54f1f_row25_col1, #T_54f1f_row25_col2, #T_54f1f_row25_col3, #T_54f1f_row25_col4, #T_54f1f_row25_col5, #T_54f1f_row25_col6, #T_54f1f_row25_col7, #T_54f1f_row25_col8, #T_54f1f_row25_col9, #T_54f1f_row25_col10, #T_54f1f_row25_col11, #T_54f1f_row25_col12, #T_54f1f_row25_col13, #T_54f1f_row25_col14, #T_54f1f_row25_col15, #T_54f1f_row25_col16, #T_54f1f_row25_col17, #T_54f1f_row25_col18, #T_54f1f_row25_col19, #T_54f1f_row25_col20, #T_54f1f_row25_col21, #T_54f1f_row25_col22, #T_54f1f_row25_col23, #T_54f1f_row25_col24, #T_54f1f_row25_col25, #T_54f1f_row25_col26, #T_54f1f_row25_col27, #T_54f1f_row26_col0, #T_54f1f_row26_col1, #T_54f1f_row26_col2, #T_54f1f_row26_col3, #T_54f1f_row26_col4, #T_54f1f_row26_col5, #T_54f1f_row26_col6, #T_54f1f_row26_col7, #T_54f1f_row26_col8, #T_54f1f_row26_col9, #T_54f1f_row26_col10, #T_54f1f_row26_col11, #T_54f1f_row26_col12, #T_54f1f_row26_col13, #T_54f1f_row26_col14, #T_54f1f_row26_col15, #T_54f1f_row26_col16, #T_54f1f_row26_col17, #T_54f1f_row26_col18, #T_54f1f_row26_col19, #T_54f1f_row26_col20, #T_54f1f_row26_col21, #T_54f1f_row26_col22, #T_54f1f_row26_col23, #T_54f1f_row26_col24, #T_54f1f_row26_col25, #T_54f1f_row26_col26, #T_54f1f_row26_col27, #T_54f1f_row27_col0, #T_54f1f_row27_col1, #T_54f1f_row27_col2, #T_54f1f_row27_col3, #T_54f1f_row27_col4, #T_54f1f_row27_col5, #T_54f1f_row27_col6, #T_54f1f_row27_col7, #T_54f1f_row27_col8, #T_54f1f_row27_col9, #T_54f1f_row27_col10, #T_54f1f_row27_col11, #T_54f1f_row27_col12, #T_54f1f_row27_col13, #T_54f1f_row27_col14, #T_54f1f_row27_col15, #T_54f1f_row27_col16, #T_54f1f_row27_col17, #T_54f1f_row27_col18, #T_54f1f_row27_col19, #T_54f1f_row27_col20, #T_54f1f_row27_col21, #T_54f1f_row27_col22, #T_54f1f_row27_col23, #T_54f1f_row27_col24, #T_54f1f_row27_col25, #T_54f1f_row27_col26, #T_54f1f_row27_col27 {\n",
       "  font-size: 6-pt;\n",
       "  background-color: #ffffff;\n",
       "  color: #000000;\n",
       "}\n",
       "#T_54f1f_row5_col12, #T_54f1f_row11_col14, #T_54f1f_row18_col20, #T_54f1f_row21_col17 {\n",
       "  font-size: 6-pt;\n",
       "  background-color: #fefefe;\n",
       "  color: #000000;\n",
       "}\n",
       "#T_54f1f_row5_col13, #T_54f1f_row5_col14, #T_54f1f_row5_col15, #T_54f1f_row8_col7, #T_54f1f_row16_col15, #T_54f1f_row22_col6, #T_54f1f_row24_col11 {\n",
       "  font-size: 6-pt;\n",
       "  background-color: #f7f7f7;\n",
       "  color: #000000;\n",
       "}\n",
       "#T_54f1f_row5_col16 {\n",
       "  font-size: 6-pt;\n",
       "  background-color: #979797;\n",
       "  color: #f1f1f1;\n",
       "}\n",
       "#T_54f1f_row5_col17 {\n",
       "  font-size: 6-pt;\n",
       "  background-color: #8c8c8c;\n",
       "  color: #f1f1f1;\n",
       "}\n",
       "#T_54f1f_row5_col18 {\n",
       "  font-size: 6-pt;\n",
       "  background-color: #616161;\n",
       "  color: #f1f1f1;\n",
       "}\n",
       "#T_54f1f_row5_col19, #T_54f1f_row14_col18 {\n",
       "  font-size: 6-pt;\n",
       "  background-color: #f3f3f3;\n",
       "  color: #000000;\n",
       "}\n",
       "#T_54f1f_row5_col20 {\n",
       "  font-size: 6-pt;\n",
       "  background-color: #6b6b6b;\n",
       "  color: #f1f1f1;\n",
       "}\n",
       "#T_54f1f_row5_col21, #T_54f1f_row5_col22, #T_54f1f_row5_col23, #T_54f1f_row6_col13, #T_54f1f_row6_col14, #T_54f1f_row6_col15, #T_54f1f_row6_col16, #T_54f1f_row6_col17, #T_54f1f_row6_col20, #T_54f1f_row7_col9, #T_54f1f_row7_col10, #T_54f1f_row7_col11, #T_54f1f_row7_col12, #T_54f1f_row7_col13, #T_54f1f_row7_col14, #T_54f1f_row7_col15, #T_54f1f_row7_col16, #T_54f1f_row8_col9, #T_54f1f_row8_col10, #T_54f1f_row8_col11, #T_54f1f_row8_col12, #T_54f1f_row8_col13, #T_54f1f_row9_col11, #T_54f1f_row9_col12, #T_54f1f_row10_col12, #T_54f1f_row11_col12, #T_54f1f_row12_col13, #T_54f1f_row14_col15, #T_54f1f_row14_col16, #T_54f1f_row15_col16, #T_54f1f_row15_col17, #T_54f1f_row16_col18, #T_54f1f_row17_col18, #T_54f1f_row17_col19, #T_54f1f_row18_col17, #T_54f1f_row18_col18, #T_54f1f_row19_col15, #T_54f1f_row19_col16, #T_54f1f_row19_col17, #T_54f1f_row20_col13, #T_54f1f_row20_col14, #T_54f1f_row20_col15, #T_54f1f_row20_col16, #T_54f1f_row21_col11, #T_54f1f_row21_col12, #T_54f1f_row21_col13, #T_54f1f_row21_col14, #T_54f1f_row22_col9, #T_54f1f_row22_col10, #T_54f1f_row22_col11, #T_54f1f_row22_col12, #T_54f1f_row23_col7, #T_54f1f_row23_col8, #T_54f1f_row23_col9, #T_54f1f_row23_col10, #T_54f1f_row24_col4, #T_54f1f_row24_col5, #T_54f1f_row24_col6, #T_54f1f_row24_col7 {\n",
       "  font-size: 6-pt;\n",
       "  background-color: #000000;\n",
       "  color: #f1f1f1;\n",
       "}\n",
       "#T_54f1f_row6_col8 {\n",
       "  font-size: 6-pt;\n",
       "  background-color: #f1f1f1;\n",
       "  color: #000000;\n",
       "}\n",
       "#T_54f1f_row6_col9 {\n",
       "  font-size: 6-pt;\n",
       "  background-color: #ededed;\n",
       "  color: #000000;\n",
       "}\n",
       "#T_54f1f_row6_col10, #T_54f1f_row7_col18, #T_54f1f_row16_col16 {\n",
       "  font-size: 6-pt;\n",
       "  background-color: #bebebe;\n",
       "  color: #000000;\n",
       "}\n",
       "#T_54f1f_row6_col11, #T_54f1f_row9_col17, #T_54f1f_row10_col11 {\n",
       "  font-size: 6-pt;\n",
       "  background-color: #787878;\n",
       "  color: #f1f1f1;\n",
       "}\n",
       "#T_54f1f_row6_col12 {\n",
       "  font-size: 6-pt;\n",
       "  background-color: #666666;\n",
       "  color: #f1f1f1;\n",
       "}\n",
       "#T_54f1f_row6_col18, #T_54f1f_row13_col14 {\n",
       "  font-size: 6-pt;\n",
       "  background-color: #212121;\n",
       "  color: #f1f1f1;\n",
       "}\n",
       "#T_54f1f_row6_col19 {\n",
       "  font-size: 6-pt;\n",
       "  background-color: #626262;\n",
       "  color: #f1f1f1;\n",
       "}\n",
       "#T_54f1f_row6_col21, #T_54f1f_row14_col14 {\n",
       "  font-size: 6-pt;\n",
       "  background-color: #0f0f0f;\n",
       "  color: #f1f1f1;\n",
       "}\n",
       "#T_54f1f_row6_col22 {\n",
       "  font-size: 6-pt;\n",
       "  background-color: #434343;\n",
       "  color: #f1f1f1;\n",
       "}\n",
       "#T_54f1f_row6_col23 {\n",
       "  font-size: 6-pt;\n",
       "  background-color: #949494;\n",
       "  color: #f1f1f1;\n",
       "}\n",
       "#T_54f1f_row7_col7 {\n",
       "  font-size: 6-pt;\n",
       "  background-color: #e4e4e4;\n",
       "  color: #000000;\n",
       "}\n",
       "#T_54f1f_row7_col8 {\n",
       "  font-size: 6-pt;\n",
       "  background-color: #111111;\n",
       "  color: #f1f1f1;\n",
       "}\n",
       "#T_54f1f_row7_col17 {\n",
       "  font-size: 6-pt;\n",
       "  background-color: #020202;\n",
       "  color: #f1f1f1;\n",
       "}\n",
       "#T_54f1f_row7_col19 {\n",
       "  font-size: 6-pt;\n",
       "  background-color: #c7c7c7;\n",
       "  color: #000000;\n",
       "}\n",
       "#T_54f1f_row7_col20 {\n",
       "  font-size: 6-pt;\n",
       "  background-color: #c9c9c9;\n",
       "  color: #000000;\n",
       "}\n",
       "#T_54f1f_row7_col21 {\n",
       "  font-size: 6-pt;\n",
       "  background-color: #dfdfdf;\n",
       "  color: #000000;\n",
       "}\n",
       "#T_54f1f_row7_col22 {\n",
       "  font-size: 6-pt;\n",
       "  background-color: #eaeaea;\n",
       "  color: #000000;\n",
       "}\n",
       "#T_54f1f_row8_col8, #T_54f1f_row22_col8 {\n",
       "  font-size: 6-pt;\n",
       "  background-color: #282828;\n",
       "  color: #f1f1f1;\n",
       "}\n",
       "#T_54f1f_row8_col14, #T_54f1f_row21_col15 {\n",
       "  font-size: 6-pt;\n",
       "  background-color: #464646;\n",
       "  color: #f1f1f1;\n",
       "}\n",
       "#T_54f1f_row8_col15 {\n",
       "  font-size: 6-pt;\n",
       "  background-color: #5a5a5a;\n",
       "  color: #f1f1f1;\n",
       "}\n",
       "#T_54f1f_row8_col16 {\n",
       "  font-size: 6-pt;\n",
       "  background-color: #070707;\n",
       "  color: #f1f1f1;\n",
       "}\n",
       "#T_54f1f_row8_col17, #T_54f1f_row13_col13 {\n",
       "  font-size: 6-pt;\n",
       "  background-color: #0e0e0e;\n",
       "  color: #f1f1f1;\n",
       "}\n",
       "#T_54f1f_row9_col8, #T_54f1f_row22_col14 {\n",
       "  font-size: 6-pt;\n",
       "  background-color: #cbcbcb;\n",
       "  color: #000000;\n",
       "}\n",
       "#T_54f1f_row9_col9 {\n",
       "  font-size: 6-pt;\n",
       "  background-color: #767676;\n",
       "  color: #f1f1f1;\n",
       "}\n",
       "#T_54f1f_row9_col10 {\n",
       "  font-size: 6-pt;\n",
       "  background-color: #aeaeae;\n",
       "  color: #000000;\n",
       "}\n",
       "#T_54f1f_row9_col13 {\n",
       "  font-size: 6-pt;\n",
       "  background-color: #3c3c3c;\n",
       "  color: #f1f1f1;\n",
       "}\n",
       "#T_54f1f_row9_col14, #T_54f1f_row12_col11, #T_54f1f_row23_col13 {\n",
       "  font-size: 6-pt;\n",
       "  background-color: #fafafa;\n",
       "  color: #000000;\n",
       "}\n",
       "#T_54f1f_row9_col16 {\n",
       "  font-size: 6-pt;\n",
       "  background-color: #e8e8e8;\n",
       "  color: #000000;\n",
       "}\n",
       "#T_54f1f_row10_col9 {\n",
       "  font-size: 6-pt;\n",
       "  background-color: #f8f8f8;\n",
       "  color: #000000;\n",
       "}\n",
       "#T_54f1f_row10_col13 {\n",
       "  font-size: 6-pt;\n",
       "  background-color: #c1c1c1;\n",
       "  color: #000000;\n",
       "}\n",
       "#T_54f1f_row11_col11 {\n",
       "  font-size: 6-pt;\n",
       "  background-color: #888888;\n",
       "  color: #f1f1f1;\n",
       "}\n",
       "#T_54f1f_row11_col13, #T_54f1f_row12_col12, #T_54f1f_row16_col19 {\n",
       "  font-size: 6-pt;\n",
       "  background-color: #515151;\n",
       "  color: #f1f1f1;\n",
       "}\n",
       "#T_54f1f_row12_col14 {\n",
       "  font-size: 6-pt;\n",
       "  background-color: #d4d4d4;\n",
       "  color: #000000;\n",
       "}\n",
       "#T_54f1f_row13_col12 {\n",
       "  font-size: 6-pt;\n",
       "  background-color: #eeeeee;\n",
       "  color: #000000;\n",
       "}\n",
       "#T_54f1f_row13_col15 {\n",
       "  font-size: 6-pt;\n",
       "  background-color: #717171;\n",
       "  color: #f1f1f1;\n",
       "}\n",
       "#T_54f1f_row13_col16 {\n",
       "  font-size: 6-pt;\n",
       "  background-color: #adadad;\n",
       "  color: #000000;\n",
       "}\n",
       "#T_54f1f_row14_col13, #T_54f1f_row21_col16 {\n",
       "  font-size: 6-pt;\n",
       "  background-color: #cacaca;\n",
       "  color: #000000;\n",
       "}\n",
       "#T_54f1f_row14_col17 {\n",
       "  font-size: 6-pt;\n",
       "  background-color: #9f9f9f;\n",
       "  color: #f1f1f1;\n",
       "}\n",
       "#T_54f1f_row15_col14 {\n",
       "  font-size: 6-pt;\n",
       "  background-color: #e7e7e7;\n",
       "  color: #000000;\n",
       "}\n",
       "#T_54f1f_row15_col15 {\n",
       "  font-size: 6-pt;\n",
       "  background-color: #555555;\n",
       "  color: #f1f1f1;\n",
       "}\n",
       "#T_54f1f_row15_col18 {\n",
       "  font-size: 6-pt;\n",
       "  background-color: #7c7c7c;\n",
       "  color: #f1f1f1;\n",
       "}\n",
       "#T_54f1f_row15_col19 {\n",
       "  font-size: 6-pt;\n",
       "  background-color: #f2f2f2;\n",
       "  color: #000000;\n",
       "}\n",
       "#T_54f1f_row16_col17 {\n",
       "  font-size: 6-pt;\n",
       "  background-color: #010101;\n",
       "  color: #f1f1f1;\n",
       "}\n",
       "#T_54f1f_row17_col17 {\n",
       "  font-size: 6-pt;\n",
       "  background-color: #050505;\n",
       "  color: #f1f1f1;\n",
       "}\n",
       "#T_54f1f_row17_col20 {\n",
       "  font-size: 6-pt;\n",
       "  background-color: #d9d9d9;\n",
       "  color: #000000;\n",
       "}\n",
       "#T_54f1f_row18_col14 {\n",
       "  font-size: 6-pt;\n",
       "  background-color: #e6e6e6;\n",
       "  color: #000000;\n",
       "}\n",
       "#T_54f1f_row18_col15 {\n",
       "  font-size: 6-pt;\n",
       "  background-color: #929292;\n",
       "  color: #f1f1f1;\n",
       "}\n",
       "#T_54f1f_row18_col16 {\n",
       "  font-size: 6-pt;\n",
       "  background-color: #585858;\n",
       "  color: #f1f1f1;\n",
       "}\n",
       "#T_54f1f_row18_col19 {\n",
       "  font-size: 6-pt;\n",
       "  background-color: #353535;\n",
       "  color: #f1f1f1;\n",
       "}\n",
       "#T_54f1f_row19_col12 {\n",
       "  font-size: 6-pt;\n",
       "  background-color: #ebebeb;\n",
       "  color: #000000;\n",
       "}\n",
       "#T_54f1f_row19_col13 {\n",
       "  font-size: 6-pt;\n",
       "  background-color: #7e7e7e;\n",
       "  color: #f1f1f1;\n",
       "}\n",
       "#T_54f1f_row19_col14 {\n",
       "  font-size: 6-pt;\n",
       "  background-color: #1c1c1c;\n",
       "  color: #f1f1f1;\n",
       "}\n",
       "#T_54f1f_row19_col18 {\n",
       "  font-size: 6-pt;\n",
       "  background-color: #030303;\n",
       "  color: #f1f1f1;\n",
       "}\n",
       "#T_54f1f_row19_col19 {\n",
       "  font-size: 6-pt;\n",
       "  background-color: #565656;\n",
       "  color: #f1f1f1;\n",
       "}\n",
       "#T_54f1f_row20_col10, #T_54f1f_row21_col8 {\n",
       "  font-size: 6-pt;\n",
       "  background-color: #f4f4f4;\n",
       "  color: #000000;\n",
       "}\n",
       "#T_54f1f_row20_col11 {\n",
       "  font-size: 6-pt;\n",
       "  background-color: #a5a5a5;\n",
       "  color: #f1f1f1;\n",
       "}\n",
       "#T_54f1f_row20_col12 {\n",
       "  font-size: 6-pt;\n",
       "  background-color: #252525;\n",
       "  color: #f1f1f1;\n",
       "}\n",
       "#T_54f1f_row20_col17 {\n",
       "  font-size: 6-pt;\n",
       "  background-color: #414141;\n",
       "  color: #f1f1f1;\n",
       "}\n",
       "#T_54f1f_row20_col18 {\n",
       "  font-size: 6-pt;\n",
       "  background-color: #cccccc;\n",
       "  color: #000000;\n",
       "}\n",
       "#T_54f1f_row21_col9 {\n",
       "  font-size: 6-pt;\n",
       "  background-color: #d7d7d7;\n",
       "  color: #000000;\n",
       "}\n",
       "#T_54f1f_row21_col10 {\n",
       "  font-size: 6-pt;\n",
       "  background-color: #303030;\n",
       "  color: #f1f1f1;\n",
       "}\n",
       "#T_54f1f_row22_col7 {\n",
       "  font-size: 6-pt;\n",
       "  background-color: #656565;\n",
       "  color: #f1f1f1;\n",
       "}\n",
       "#T_54f1f_row22_col13 {\n",
       "  font-size: 6-pt;\n",
       "  background-color: #4a4a4a;\n",
       "  color: #f1f1f1;\n",
       "}\n",
       "#T_54f1f_row22_col15 {\n",
       "  font-size: 6-pt;\n",
       "  background-color: #fbfbfb;\n",
       "  color: #000000;\n",
       "}\n",
       "#T_54f1f_row23_col4 {\n",
       "  font-size: 6-pt;\n",
       "  background-color: #b4b4b4;\n",
       "  color: #000000;\n",
       "}\n",
       "#T_54f1f_row23_col5 {\n",
       "  font-size: 6-pt;\n",
       "  background-color: #646464;\n",
       "  color: #f1f1f1;\n",
       "}\n",
       "#T_54f1f_row23_col6 {\n",
       "  font-size: 6-pt;\n",
       "  background-color: #1f1f1f;\n",
       "  color: #f1f1f1;\n",
       "}\n",
       "#T_54f1f_row23_col11 {\n",
       "  font-size: 6-pt;\n",
       "  background-color: #0a0a0a;\n",
       "  color: #f1f1f1;\n",
       "}\n",
       "#T_54f1f_row23_col12 {\n",
       "  font-size: 6-pt;\n",
       "  background-color: #8f8f8f;\n",
       "  color: #f1f1f1;\n",
       "}\n",
       "#T_54f1f_row24_col8 {\n",
       "  font-size: 6-pt;\n",
       "  background-color: #323232;\n",
       "  color: #f1f1f1;\n",
       "}\n",
       "#T_54f1f_row24_col9 {\n",
       "  font-size: 6-pt;\n",
       "  background-color: #8d8d8d;\n",
       "  color: #f1f1f1;\n",
       "}\n",
       "#T_54f1f_row24_col10 {\n",
       "  font-size: 6-pt;\n",
       "  background-color: #909090;\n",
       "  color: #f1f1f1;\n",
       "}\n",
       "</style>\n",
       "<table id=\"T_54f1f\">\n",
       "  <thead>\n",
       "    <tr>\n",
       "      <th class=\"blank level0\" >&nbsp;</th>\n",
       "      <th id=\"T_54f1f_level0_col0\" class=\"col_heading level0 col0\" >0</th>\n",
       "      <th id=\"T_54f1f_level0_col1\" class=\"col_heading level0 col1\" >1</th>\n",
       "      <th id=\"T_54f1f_level0_col2\" class=\"col_heading level0 col2\" >2</th>\n",
       "      <th id=\"T_54f1f_level0_col3\" class=\"col_heading level0 col3\" >3</th>\n",
       "      <th id=\"T_54f1f_level0_col4\" class=\"col_heading level0 col4\" >4</th>\n",
       "      <th id=\"T_54f1f_level0_col5\" class=\"col_heading level0 col5\" >5</th>\n",
       "      <th id=\"T_54f1f_level0_col6\" class=\"col_heading level0 col6\" >6</th>\n",
       "      <th id=\"T_54f1f_level0_col7\" class=\"col_heading level0 col7\" >7</th>\n",
       "      <th id=\"T_54f1f_level0_col8\" class=\"col_heading level0 col8\" >8</th>\n",
       "      <th id=\"T_54f1f_level0_col9\" class=\"col_heading level0 col9\" >9</th>\n",
       "      <th id=\"T_54f1f_level0_col10\" class=\"col_heading level0 col10\" >10</th>\n",
       "      <th id=\"T_54f1f_level0_col11\" class=\"col_heading level0 col11\" >11</th>\n",
       "      <th id=\"T_54f1f_level0_col12\" class=\"col_heading level0 col12\" >12</th>\n",
       "      <th id=\"T_54f1f_level0_col13\" class=\"col_heading level0 col13\" >13</th>\n",
       "      <th id=\"T_54f1f_level0_col14\" class=\"col_heading level0 col14\" >14</th>\n",
       "      <th id=\"T_54f1f_level0_col15\" class=\"col_heading level0 col15\" >15</th>\n",
       "      <th id=\"T_54f1f_level0_col16\" class=\"col_heading level0 col16\" >16</th>\n",
       "      <th id=\"T_54f1f_level0_col17\" class=\"col_heading level0 col17\" >17</th>\n",
       "      <th id=\"T_54f1f_level0_col18\" class=\"col_heading level0 col18\" >18</th>\n",
       "      <th id=\"T_54f1f_level0_col19\" class=\"col_heading level0 col19\" >19</th>\n",
       "      <th id=\"T_54f1f_level0_col20\" class=\"col_heading level0 col20\" >20</th>\n",
       "      <th id=\"T_54f1f_level0_col21\" class=\"col_heading level0 col21\" >21</th>\n",
       "      <th id=\"T_54f1f_level0_col22\" class=\"col_heading level0 col22\" >22</th>\n",
       "      <th id=\"T_54f1f_level0_col23\" class=\"col_heading level0 col23\" >23</th>\n",
       "      <th id=\"T_54f1f_level0_col24\" class=\"col_heading level0 col24\" >24</th>\n",
       "      <th id=\"T_54f1f_level0_col25\" class=\"col_heading level0 col25\" >25</th>\n",
       "      <th id=\"T_54f1f_level0_col26\" class=\"col_heading level0 col26\" >26</th>\n",
       "      <th id=\"T_54f1f_level0_col27\" class=\"col_heading level0 col27\" >27</th>\n",
       "    </tr>\n",
       "  </thead>\n",
       "  <tbody>\n",
       "    <tr>\n",
       "      <th id=\"T_54f1f_level0_row0\" class=\"row_heading level0 row0\" >0</th>\n",
       "      <td id=\"T_54f1f_row0_col0\" class=\"data row0 col0\" >0.000000</td>\n",
       "      <td id=\"T_54f1f_row0_col1\" class=\"data row0 col1\" >0.000000</td>\n",
       "      <td id=\"T_54f1f_row0_col2\" class=\"data row0 col2\" >0.000000</td>\n",
       "      <td id=\"T_54f1f_row0_col3\" class=\"data row0 col3\" >0.000000</td>\n",
       "      <td id=\"T_54f1f_row0_col4\" class=\"data row0 col4\" >0.000000</td>\n",
       "      <td id=\"T_54f1f_row0_col5\" class=\"data row0 col5\" >0.000000</td>\n",
       "      <td id=\"T_54f1f_row0_col6\" class=\"data row0 col6\" >0.000000</td>\n",
       "      <td id=\"T_54f1f_row0_col7\" class=\"data row0 col7\" >0.000000</td>\n",
       "      <td id=\"T_54f1f_row0_col8\" class=\"data row0 col8\" >0.000000</td>\n",
       "      <td id=\"T_54f1f_row0_col9\" class=\"data row0 col9\" >0.000000</td>\n",
       "      <td id=\"T_54f1f_row0_col10\" class=\"data row0 col10\" >0.000000</td>\n",
       "      <td id=\"T_54f1f_row0_col11\" class=\"data row0 col11\" >0.000000</td>\n",
       "      <td id=\"T_54f1f_row0_col12\" class=\"data row0 col12\" >0.000000</td>\n",
       "      <td id=\"T_54f1f_row0_col13\" class=\"data row0 col13\" >0.000000</td>\n",
       "      <td id=\"T_54f1f_row0_col14\" class=\"data row0 col14\" >0.000000</td>\n",
       "      <td id=\"T_54f1f_row0_col15\" class=\"data row0 col15\" >0.000000</td>\n",
       "      <td id=\"T_54f1f_row0_col16\" class=\"data row0 col16\" >0.000000</td>\n",
       "      <td id=\"T_54f1f_row0_col17\" class=\"data row0 col17\" >0.000000</td>\n",
       "      <td id=\"T_54f1f_row0_col18\" class=\"data row0 col18\" >0.000000</td>\n",
       "      <td id=\"T_54f1f_row0_col19\" class=\"data row0 col19\" >0.000000</td>\n",
       "      <td id=\"T_54f1f_row0_col20\" class=\"data row0 col20\" >0.000000</td>\n",
       "      <td id=\"T_54f1f_row0_col21\" class=\"data row0 col21\" >0.000000</td>\n",
       "      <td id=\"T_54f1f_row0_col22\" class=\"data row0 col22\" >0.000000</td>\n",
       "      <td id=\"T_54f1f_row0_col23\" class=\"data row0 col23\" >0.000000</td>\n",
       "      <td id=\"T_54f1f_row0_col24\" class=\"data row0 col24\" >0.000000</td>\n",
       "      <td id=\"T_54f1f_row0_col25\" class=\"data row0 col25\" >0.000000</td>\n",
       "      <td id=\"T_54f1f_row0_col26\" class=\"data row0 col26\" >0.000000</td>\n",
       "      <td id=\"T_54f1f_row0_col27\" class=\"data row0 col27\" >0.000000</td>\n",
       "    </tr>\n",
       "    <tr>\n",
       "      <th id=\"T_54f1f_level0_row1\" class=\"row_heading level0 row1\" >1</th>\n",
       "      <td id=\"T_54f1f_row1_col0\" class=\"data row1 col0\" >0.000000</td>\n",
       "      <td id=\"T_54f1f_row1_col1\" class=\"data row1 col1\" >0.000000</td>\n",
       "      <td id=\"T_54f1f_row1_col2\" class=\"data row1 col2\" >0.000000</td>\n",
       "      <td id=\"T_54f1f_row1_col3\" class=\"data row1 col3\" >0.000000</td>\n",
       "      <td id=\"T_54f1f_row1_col4\" class=\"data row1 col4\" >0.000000</td>\n",
       "      <td id=\"T_54f1f_row1_col5\" class=\"data row1 col5\" >0.000000</td>\n",
       "      <td id=\"T_54f1f_row1_col6\" class=\"data row1 col6\" >0.000000</td>\n",
       "      <td id=\"T_54f1f_row1_col7\" class=\"data row1 col7\" >0.000000</td>\n",
       "      <td id=\"T_54f1f_row1_col8\" class=\"data row1 col8\" >0.000000</td>\n",
       "      <td id=\"T_54f1f_row1_col9\" class=\"data row1 col9\" >0.000000</td>\n",
       "      <td id=\"T_54f1f_row1_col10\" class=\"data row1 col10\" >0.000000</td>\n",
       "      <td id=\"T_54f1f_row1_col11\" class=\"data row1 col11\" >0.000000</td>\n",
       "      <td id=\"T_54f1f_row1_col12\" class=\"data row1 col12\" >0.000000</td>\n",
       "      <td id=\"T_54f1f_row1_col13\" class=\"data row1 col13\" >0.000000</td>\n",
       "      <td id=\"T_54f1f_row1_col14\" class=\"data row1 col14\" >0.000000</td>\n",
       "      <td id=\"T_54f1f_row1_col15\" class=\"data row1 col15\" >0.000000</td>\n",
       "      <td id=\"T_54f1f_row1_col16\" class=\"data row1 col16\" >0.000000</td>\n",
       "      <td id=\"T_54f1f_row1_col17\" class=\"data row1 col17\" >0.000000</td>\n",
       "      <td id=\"T_54f1f_row1_col18\" class=\"data row1 col18\" >0.000000</td>\n",
       "      <td id=\"T_54f1f_row1_col19\" class=\"data row1 col19\" >0.000000</td>\n",
       "      <td id=\"T_54f1f_row1_col20\" class=\"data row1 col20\" >0.000000</td>\n",
       "      <td id=\"T_54f1f_row1_col21\" class=\"data row1 col21\" >0.000000</td>\n",
       "      <td id=\"T_54f1f_row1_col22\" class=\"data row1 col22\" >0.000000</td>\n",
       "      <td id=\"T_54f1f_row1_col23\" class=\"data row1 col23\" >0.000000</td>\n",
       "      <td id=\"T_54f1f_row1_col24\" class=\"data row1 col24\" >0.000000</td>\n",
       "      <td id=\"T_54f1f_row1_col25\" class=\"data row1 col25\" >0.000000</td>\n",
       "      <td id=\"T_54f1f_row1_col26\" class=\"data row1 col26\" >0.000000</td>\n",
       "      <td id=\"T_54f1f_row1_col27\" class=\"data row1 col27\" >0.000000</td>\n",
       "    </tr>\n",
       "    <tr>\n",
       "      <th id=\"T_54f1f_level0_row2\" class=\"row_heading level0 row2\" >2</th>\n",
       "      <td id=\"T_54f1f_row2_col0\" class=\"data row2 col0\" >0.000000</td>\n",
       "      <td id=\"T_54f1f_row2_col1\" class=\"data row2 col1\" >0.000000</td>\n",
       "      <td id=\"T_54f1f_row2_col2\" class=\"data row2 col2\" >0.000000</td>\n",
       "      <td id=\"T_54f1f_row2_col3\" class=\"data row2 col3\" >0.000000</td>\n",
       "      <td id=\"T_54f1f_row2_col4\" class=\"data row2 col4\" >0.000000</td>\n",
       "      <td id=\"T_54f1f_row2_col5\" class=\"data row2 col5\" >0.000000</td>\n",
       "      <td id=\"T_54f1f_row2_col6\" class=\"data row2 col6\" >0.000000</td>\n",
       "      <td id=\"T_54f1f_row2_col7\" class=\"data row2 col7\" >0.000000</td>\n",
       "      <td id=\"T_54f1f_row2_col8\" class=\"data row2 col8\" >0.000000</td>\n",
       "      <td id=\"T_54f1f_row2_col9\" class=\"data row2 col9\" >0.000000</td>\n",
       "      <td id=\"T_54f1f_row2_col10\" class=\"data row2 col10\" >0.000000</td>\n",
       "      <td id=\"T_54f1f_row2_col11\" class=\"data row2 col11\" >0.000000</td>\n",
       "      <td id=\"T_54f1f_row2_col12\" class=\"data row2 col12\" >0.000000</td>\n",
       "      <td id=\"T_54f1f_row2_col13\" class=\"data row2 col13\" >0.000000</td>\n",
       "      <td id=\"T_54f1f_row2_col14\" class=\"data row2 col14\" >0.000000</td>\n",
       "      <td id=\"T_54f1f_row2_col15\" class=\"data row2 col15\" >0.000000</td>\n",
       "      <td id=\"T_54f1f_row2_col16\" class=\"data row2 col16\" >0.000000</td>\n",
       "      <td id=\"T_54f1f_row2_col17\" class=\"data row2 col17\" >0.000000</td>\n",
       "      <td id=\"T_54f1f_row2_col18\" class=\"data row2 col18\" >0.000000</td>\n",
       "      <td id=\"T_54f1f_row2_col19\" class=\"data row2 col19\" >0.000000</td>\n",
       "      <td id=\"T_54f1f_row2_col20\" class=\"data row2 col20\" >0.000000</td>\n",
       "      <td id=\"T_54f1f_row2_col21\" class=\"data row2 col21\" >0.000000</td>\n",
       "      <td id=\"T_54f1f_row2_col22\" class=\"data row2 col22\" >0.000000</td>\n",
       "      <td id=\"T_54f1f_row2_col23\" class=\"data row2 col23\" >0.000000</td>\n",
       "      <td id=\"T_54f1f_row2_col24\" class=\"data row2 col24\" >0.000000</td>\n",
       "      <td id=\"T_54f1f_row2_col25\" class=\"data row2 col25\" >0.000000</td>\n",
       "      <td id=\"T_54f1f_row2_col26\" class=\"data row2 col26\" >0.000000</td>\n",
       "      <td id=\"T_54f1f_row2_col27\" class=\"data row2 col27\" >0.000000</td>\n",
       "    </tr>\n",
       "    <tr>\n",
       "      <th id=\"T_54f1f_level0_row3\" class=\"row_heading level0 row3\" >3</th>\n",
       "      <td id=\"T_54f1f_row3_col0\" class=\"data row3 col0\" >0.000000</td>\n",
       "      <td id=\"T_54f1f_row3_col1\" class=\"data row3 col1\" >0.000000</td>\n",
       "      <td id=\"T_54f1f_row3_col2\" class=\"data row3 col2\" >0.000000</td>\n",
       "      <td id=\"T_54f1f_row3_col3\" class=\"data row3 col3\" >0.000000</td>\n",
       "      <td id=\"T_54f1f_row3_col4\" class=\"data row3 col4\" >0.000000</td>\n",
       "      <td id=\"T_54f1f_row3_col5\" class=\"data row3 col5\" >0.000000</td>\n",
       "      <td id=\"T_54f1f_row3_col6\" class=\"data row3 col6\" >0.000000</td>\n",
       "      <td id=\"T_54f1f_row3_col7\" class=\"data row3 col7\" >0.000000</td>\n",
       "      <td id=\"T_54f1f_row3_col8\" class=\"data row3 col8\" >0.000000</td>\n",
       "      <td id=\"T_54f1f_row3_col9\" class=\"data row3 col9\" >0.000000</td>\n",
       "      <td id=\"T_54f1f_row3_col10\" class=\"data row3 col10\" >0.000000</td>\n",
       "      <td id=\"T_54f1f_row3_col11\" class=\"data row3 col11\" >0.000000</td>\n",
       "      <td id=\"T_54f1f_row3_col12\" class=\"data row3 col12\" >0.000000</td>\n",
       "      <td id=\"T_54f1f_row3_col13\" class=\"data row3 col13\" >0.000000</td>\n",
       "      <td id=\"T_54f1f_row3_col14\" class=\"data row3 col14\" >0.000000</td>\n",
       "      <td id=\"T_54f1f_row3_col15\" class=\"data row3 col15\" >0.000000</td>\n",
       "      <td id=\"T_54f1f_row3_col16\" class=\"data row3 col16\" >0.000000</td>\n",
       "      <td id=\"T_54f1f_row3_col17\" class=\"data row3 col17\" >0.000000</td>\n",
       "      <td id=\"T_54f1f_row3_col18\" class=\"data row3 col18\" >0.000000</td>\n",
       "      <td id=\"T_54f1f_row3_col19\" class=\"data row3 col19\" >0.000000</td>\n",
       "      <td id=\"T_54f1f_row3_col20\" class=\"data row3 col20\" >0.000000</td>\n",
       "      <td id=\"T_54f1f_row3_col21\" class=\"data row3 col21\" >0.000000</td>\n",
       "      <td id=\"T_54f1f_row3_col22\" class=\"data row3 col22\" >0.000000</td>\n",
       "      <td id=\"T_54f1f_row3_col23\" class=\"data row3 col23\" >0.000000</td>\n",
       "      <td id=\"T_54f1f_row3_col24\" class=\"data row3 col24\" >0.000000</td>\n",
       "      <td id=\"T_54f1f_row3_col25\" class=\"data row3 col25\" >0.000000</td>\n",
       "      <td id=\"T_54f1f_row3_col26\" class=\"data row3 col26\" >0.000000</td>\n",
       "      <td id=\"T_54f1f_row3_col27\" class=\"data row3 col27\" >0.000000</td>\n",
       "    </tr>\n",
       "    <tr>\n",
       "      <th id=\"T_54f1f_level0_row4\" class=\"row_heading level0 row4\" >4</th>\n",
       "      <td id=\"T_54f1f_row4_col0\" class=\"data row4 col0\" >0.000000</td>\n",
       "      <td id=\"T_54f1f_row4_col1\" class=\"data row4 col1\" >0.000000</td>\n",
       "      <td id=\"T_54f1f_row4_col2\" class=\"data row4 col2\" >0.000000</td>\n",
       "      <td id=\"T_54f1f_row4_col3\" class=\"data row4 col3\" >0.000000</td>\n",
       "      <td id=\"T_54f1f_row4_col4\" class=\"data row4 col4\" >0.000000</td>\n",
       "      <td id=\"T_54f1f_row4_col5\" class=\"data row4 col5\" >0.000000</td>\n",
       "      <td id=\"T_54f1f_row4_col6\" class=\"data row4 col6\" >0.000000</td>\n",
       "      <td id=\"T_54f1f_row4_col7\" class=\"data row4 col7\" >0.000000</td>\n",
       "      <td id=\"T_54f1f_row4_col8\" class=\"data row4 col8\" >0.000000</td>\n",
       "      <td id=\"T_54f1f_row4_col9\" class=\"data row4 col9\" >0.000000</td>\n",
       "      <td id=\"T_54f1f_row4_col10\" class=\"data row4 col10\" >0.000000</td>\n",
       "      <td id=\"T_54f1f_row4_col11\" class=\"data row4 col11\" >0.000000</td>\n",
       "      <td id=\"T_54f1f_row4_col12\" class=\"data row4 col12\" >0.000000</td>\n",
       "      <td id=\"T_54f1f_row4_col13\" class=\"data row4 col13\" >0.000000</td>\n",
       "      <td id=\"T_54f1f_row4_col14\" class=\"data row4 col14\" >0.000000</td>\n",
       "      <td id=\"T_54f1f_row4_col15\" class=\"data row4 col15\" >0.000000</td>\n",
       "      <td id=\"T_54f1f_row4_col16\" class=\"data row4 col16\" >0.000000</td>\n",
       "      <td id=\"T_54f1f_row4_col17\" class=\"data row4 col17\" >0.000000</td>\n",
       "      <td id=\"T_54f1f_row4_col18\" class=\"data row4 col18\" >0.000000</td>\n",
       "      <td id=\"T_54f1f_row4_col19\" class=\"data row4 col19\" >0.000000</td>\n",
       "      <td id=\"T_54f1f_row4_col20\" class=\"data row4 col20\" >0.000000</td>\n",
       "      <td id=\"T_54f1f_row4_col21\" class=\"data row4 col21\" >0.000000</td>\n",
       "      <td id=\"T_54f1f_row4_col22\" class=\"data row4 col22\" >0.000000</td>\n",
       "      <td id=\"T_54f1f_row4_col23\" class=\"data row4 col23\" >0.000000</td>\n",
       "      <td id=\"T_54f1f_row4_col24\" class=\"data row4 col24\" >0.000000</td>\n",
       "      <td id=\"T_54f1f_row4_col25\" class=\"data row4 col25\" >0.000000</td>\n",
       "      <td id=\"T_54f1f_row4_col26\" class=\"data row4 col26\" >0.000000</td>\n",
       "      <td id=\"T_54f1f_row4_col27\" class=\"data row4 col27\" >0.000000</td>\n",
       "    </tr>\n",
       "    <tr>\n",
       "      <th id=\"T_54f1f_level0_row5\" class=\"row_heading level0 row5\" >5</th>\n",
       "      <td id=\"T_54f1f_row5_col0\" class=\"data row5 col0\" >0.000000</td>\n",
       "      <td id=\"T_54f1f_row5_col1\" class=\"data row5 col1\" >0.000000</td>\n",
       "      <td id=\"T_54f1f_row5_col2\" class=\"data row5 col2\" >0.000000</td>\n",
       "      <td id=\"T_54f1f_row5_col3\" class=\"data row5 col3\" >0.000000</td>\n",
       "      <td id=\"T_54f1f_row5_col4\" class=\"data row5 col4\" >0.000000</td>\n",
       "      <td id=\"T_54f1f_row5_col5\" class=\"data row5 col5\" >0.000000</td>\n",
       "      <td id=\"T_54f1f_row5_col6\" class=\"data row5 col6\" >0.000000</td>\n",
       "      <td id=\"T_54f1f_row5_col7\" class=\"data row5 col7\" >0.000000</td>\n",
       "      <td id=\"T_54f1f_row5_col8\" class=\"data row5 col8\" >0.000000</td>\n",
       "      <td id=\"T_54f1f_row5_col9\" class=\"data row5 col9\" >0.000000</td>\n",
       "      <td id=\"T_54f1f_row5_col10\" class=\"data row5 col10\" >0.000000</td>\n",
       "      <td id=\"T_54f1f_row5_col11\" class=\"data row5 col11\" >0.000000</td>\n",
       "      <td id=\"T_54f1f_row5_col12\" class=\"data row5 col12\" >0.011765</td>\n",
       "      <td id=\"T_54f1f_row5_col13\" class=\"data row5 col13\" >0.070588</td>\n",
       "      <td id=\"T_54f1f_row5_col14\" class=\"data row5 col14\" >0.070588</td>\n",
       "      <td id=\"T_54f1f_row5_col15\" class=\"data row5 col15\" >0.070588</td>\n",
       "      <td id=\"T_54f1f_row5_col16\" class=\"data row5 col16\" >0.494118</td>\n",
       "      <td id=\"T_54f1f_row5_col17\" class=\"data row5 col17\" >0.533333</td>\n",
       "      <td id=\"T_54f1f_row5_col18\" class=\"data row5 col18\" >0.686275</td>\n",
       "      <td id=\"T_54f1f_row5_col19\" class=\"data row5 col19\" >0.101961</td>\n",
       "      <td id=\"T_54f1f_row5_col20\" class=\"data row5 col20\" >0.650980</td>\n",
       "      <td id=\"T_54f1f_row5_col21\" class=\"data row5 col21\" >1.000000</td>\n",
       "      <td id=\"T_54f1f_row5_col22\" class=\"data row5 col22\" >0.968627</td>\n",
       "      <td id=\"T_54f1f_row5_col23\" class=\"data row5 col23\" >0.498039</td>\n",
       "      <td id=\"T_54f1f_row5_col24\" class=\"data row5 col24\" >0.000000</td>\n",
       "      <td id=\"T_54f1f_row5_col25\" class=\"data row5 col25\" >0.000000</td>\n",
       "      <td id=\"T_54f1f_row5_col26\" class=\"data row5 col26\" >0.000000</td>\n",
       "      <td id=\"T_54f1f_row5_col27\" class=\"data row5 col27\" >0.000000</td>\n",
       "    </tr>\n",
       "    <tr>\n",
       "      <th id=\"T_54f1f_level0_row6\" class=\"row_heading level0 row6\" >6</th>\n",
       "      <td id=\"T_54f1f_row6_col0\" class=\"data row6 col0\" >0.000000</td>\n",
       "      <td id=\"T_54f1f_row6_col1\" class=\"data row6 col1\" >0.000000</td>\n",
       "      <td id=\"T_54f1f_row6_col2\" class=\"data row6 col2\" >0.000000</td>\n",
       "      <td id=\"T_54f1f_row6_col3\" class=\"data row6 col3\" >0.000000</td>\n",
       "      <td id=\"T_54f1f_row6_col4\" class=\"data row6 col4\" >0.000000</td>\n",
       "      <td id=\"T_54f1f_row6_col5\" class=\"data row6 col5\" >0.000000</td>\n",
       "      <td id=\"T_54f1f_row6_col6\" class=\"data row6 col6\" >0.000000</td>\n",
       "      <td id=\"T_54f1f_row6_col7\" class=\"data row6 col7\" >0.000000</td>\n",
       "      <td id=\"T_54f1f_row6_col8\" class=\"data row6 col8\" >0.117647</td>\n",
       "      <td id=\"T_54f1f_row6_col9\" class=\"data row6 col9\" >0.141176</td>\n",
       "      <td id=\"T_54f1f_row6_col10\" class=\"data row6 col10\" >0.368627</td>\n",
       "      <td id=\"T_54f1f_row6_col11\" class=\"data row6 col11\" >0.603922</td>\n",
       "      <td id=\"T_54f1f_row6_col12\" class=\"data row6 col12\" >0.666667</td>\n",
       "      <td id=\"T_54f1f_row6_col13\" class=\"data row6 col13\" >0.992157</td>\n",
       "      <td id=\"T_54f1f_row6_col14\" class=\"data row6 col14\" >0.992157</td>\n",
       "      <td id=\"T_54f1f_row6_col15\" class=\"data row6 col15\" >0.992157</td>\n",
       "      <td id=\"T_54f1f_row6_col16\" class=\"data row6 col16\" >0.992157</td>\n",
       "      <td id=\"T_54f1f_row6_col17\" class=\"data row6 col17\" >0.992157</td>\n",
       "      <td id=\"T_54f1f_row6_col18\" class=\"data row6 col18\" >0.882353</td>\n",
       "      <td id=\"T_54f1f_row6_col19\" class=\"data row6 col19\" >0.674510</td>\n",
       "      <td id=\"T_54f1f_row6_col20\" class=\"data row6 col20\" >0.992157</td>\n",
       "      <td id=\"T_54f1f_row6_col21\" class=\"data row6 col21\" >0.949020</td>\n",
       "      <td id=\"T_54f1f_row6_col22\" class=\"data row6 col22\" >0.764706</td>\n",
       "      <td id=\"T_54f1f_row6_col23\" class=\"data row6 col23\" >0.250980</td>\n",
       "      <td id=\"T_54f1f_row6_col24\" class=\"data row6 col24\" >0.000000</td>\n",
       "      <td id=\"T_54f1f_row6_col25\" class=\"data row6 col25\" >0.000000</td>\n",
       "      <td id=\"T_54f1f_row6_col26\" class=\"data row6 col26\" >0.000000</td>\n",
       "      <td id=\"T_54f1f_row6_col27\" class=\"data row6 col27\" >0.000000</td>\n",
       "    </tr>\n",
       "    <tr>\n",
       "      <th id=\"T_54f1f_level0_row7\" class=\"row_heading level0 row7\" >7</th>\n",
       "      <td id=\"T_54f1f_row7_col0\" class=\"data row7 col0\" >0.000000</td>\n",
       "      <td id=\"T_54f1f_row7_col1\" class=\"data row7 col1\" >0.000000</td>\n",
       "      <td id=\"T_54f1f_row7_col2\" class=\"data row7 col2\" >0.000000</td>\n",
       "      <td id=\"T_54f1f_row7_col3\" class=\"data row7 col3\" >0.000000</td>\n",
       "      <td id=\"T_54f1f_row7_col4\" class=\"data row7 col4\" >0.000000</td>\n",
       "      <td id=\"T_54f1f_row7_col5\" class=\"data row7 col5\" >0.000000</td>\n",
       "      <td id=\"T_54f1f_row7_col6\" class=\"data row7 col6\" >0.000000</td>\n",
       "      <td id=\"T_54f1f_row7_col7\" class=\"data row7 col7\" >0.192157</td>\n",
       "      <td id=\"T_54f1f_row7_col8\" class=\"data row7 col8\" >0.933333</td>\n",
       "      <td id=\"T_54f1f_row7_col9\" class=\"data row7 col9\" >0.992157</td>\n",
       "      <td id=\"T_54f1f_row7_col10\" class=\"data row7 col10\" >0.992157</td>\n",
       "      <td id=\"T_54f1f_row7_col11\" class=\"data row7 col11\" >0.992157</td>\n",
       "      <td id=\"T_54f1f_row7_col12\" class=\"data row7 col12\" >0.992157</td>\n",
       "      <td id=\"T_54f1f_row7_col13\" class=\"data row7 col13\" >0.992157</td>\n",
       "      <td id=\"T_54f1f_row7_col14\" class=\"data row7 col14\" >0.992157</td>\n",
       "      <td id=\"T_54f1f_row7_col15\" class=\"data row7 col15\" >0.992157</td>\n",
       "      <td id=\"T_54f1f_row7_col16\" class=\"data row7 col16\" >0.992157</td>\n",
       "      <td id=\"T_54f1f_row7_col17\" class=\"data row7 col17\" >0.984314</td>\n",
       "      <td id=\"T_54f1f_row7_col18\" class=\"data row7 col18\" >0.364706</td>\n",
       "      <td id=\"T_54f1f_row7_col19\" class=\"data row7 col19\" >0.321569</td>\n",
       "      <td id=\"T_54f1f_row7_col20\" class=\"data row7 col20\" >0.321569</td>\n",
       "      <td id=\"T_54f1f_row7_col21\" class=\"data row7 col21\" >0.219608</td>\n",
       "      <td id=\"T_54f1f_row7_col22\" class=\"data row7 col22\" >0.152941</td>\n",
       "      <td id=\"T_54f1f_row7_col23\" class=\"data row7 col23\" >0.000000</td>\n",
       "      <td id=\"T_54f1f_row7_col24\" class=\"data row7 col24\" >0.000000</td>\n",
       "      <td id=\"T_54f1f_row7_col25\" class=\"data row7 col25\" >0.000000</td>\n",
       "      <td id=\"T_54f1f_row7_col26\" class=\"data row7 col26\" >0.000000</td>\n",
       "      <td id=\"T_54f1f_row7_col27\" class=\"data row7 col27\" >0.000000</td>\n",
       "    </tr>\n",
       "    <tr>\n",
       "      <th id=\"T_54f1f_level0_row8\" class=\"row_heading level0 row8\" >8</th>\n",
       "      <td id=\"T_54f1f_row8_col0\" class=\"data row8 col0\" >0.000000</td>\n",
       "      <td id=\"T_54f1f_row8_col1\" class=\"data row8 col1\" >0.000000</td>\n",
       "      <td id=\"T_54f1f_row8_col2\" class=\"data row8 col2\" >0.000000</td>\n",
       "      <td id=\"T_54f1f_row8_col3\" class=\"data row8 col3\" >0.000000</td>\n",
       "      <td id=\"T_54f1f_row8_col4\" class=\"data row8 col4\" >0.000000</td>\n",
       "      <td id=\"T_54f1f_row8_col5\" class=\"data row8 col5\" >0.000000</td>\n",
       "      <td id=\"T_54f1f_row8_col6\" class=\"data row8 col6\" >0.000000</td>\n",
       "      <td id=\"T_54f1f_row8_col7\" class=\"data row8 col7\" >0.070588</td>\n",
       "      <td id=\"T_54f1f_row8_col8\" class=\"data row8 col8\" >0.858824</td>\n",
       "      <td id=\"T_54f1f_row8_col9\" class=\"data row8 col9\" >0.992157</td>\n",
       "      <td id=\"T_54f1f_row8_col10\" class=\"data row8 col10\" >0.992157</td>\n",
       "      <td id=\"T_54f1f_row8_col11\" class=\"data row8 col11\" >0.992157</td>\n",
       "      <td id=\"T_54f1f_row8_col12\" class=\"data row8 col12\" >0.992157</td>\n",
       "      <td id=\"T_54f1f_row8_col13\" class=\"data row8 col13\" >0.992157</td>\n",
       "      <td id=\"T_54f1f_row8_col14\" class=\"data row8 col14\" >0.776471</td>\n",
       "      <td id=\"T_54f1f_row8_col15\" class=\"data row8 col15\" >0.713726</td>\n",
       "      <td id=\"T_54f1f_row8_col16\" class=\"data row8 col16\" >0.968627</td>\n",
       "      <td id=\"T_54f1f_row8_col17\" class=\"data row8 col17\" >0.945098</td>\n",
       "      <td id=\"T_54f1f_row8_col18\" class=\"data row8 col18\" >0.000000</td>\n",
       "      <td id=\"T_54f1f_row8_col19\" class=\"data row8 col19\" >0.000000</td>\n",
       "      <td id=\"T_54f1f_row8_col20\" class=\"data row8 col20\" >0.000000</td>\n",
       "      <td id=\"T_54f1f_row8_col21\" class=\"data row8 col21\" >0.000000</td>\n",
       "      <td id=\"T_54f1f_row8_col22\" class=\"data row8 col22\" >0.000000</td>\n",
       "      <td id=\"T_54f1f_row8_col23\" class=\"data row8 col23\" >0.000000</td>\n",
       "      <td id=\"T_54f1f_row8_col24\" class=\"data row8 col24\" >0.000000</td>\n",
       "      <td id=\"T_54f1f_row8_col25\" class=\"data row8 col25\" >0.000000</td>\n",
       "      <td id=\"T_54f1f_row8_col26\" class=\"data row8 col26\" >0.000000</td>\n",
       "      <td id=\"T_54f1f_row8_col27\" class=\"data row8 col27\" >0.000000</td>\n",
       "    </tr>\n",
       "    <tr>\n",
       "      <th id=\"T_54f1f_level0_row9\" class=\"row_heading level0 row9\" >9</th>\n",
       "      <td id=\"T_54f1f_row9_col0\" class=\"data row9 col0\" >0.000000</td>\n",
       "      <td id=\"T_54f1f_row9_col1\" class=\"data row9 col1\" >0.000000</td>\n",
       "      <td id=\"T_54f1f_row9_col2\" class=\"data row9 col2\" >0.000000</td>\n",
       "      <td id=\"T_54f1f_row9_col3\" class=\"data row9 col3\" >0.000000</td>\n",
       "      <td id=\"T_54f1f_row9_col4\" class=\"data row9 col4\" >0.000000</td>\n",
       "      <td id=\"T_54f1f_row9_col5\" class=\"data row9 col5\" >0.000000</td>\n",
       "      <td id=\"T_54f1f_row9_col6\" class=\"data row9 col6\" >0.000000</td>\n",
       "      <td id=\"T_54f1f_row9_col7\" class=\"data row9 col7\" >0.000000</td>\n",
       "      <td id=\"T_54f1f_row9_col8\" class=\"data row9 col8\" >0.313726</td>\n",
       "      <td id=\"T_54f1f_row9_col9\" class=\"data row9 col9\" >0.611765</td>\n",
       "      <td id=\"T_54f1f_row9_col10\" class=\"data row9 col10\" >0.419608</td>\n",
       "      <td id=\"T_54f1f_row9_col11\" class=\"data row9 col11\" >0.992157</td>\n",
       "      <td id=\"T_54f1f_row9_col12\" class=\"data row9 col12\" >0.992157</td>\n",
       "      <td id=\"T_54f1f_row9_col13\" class=\"data row9 col13\" >0.803922</td>\n",
       "      <td id=\"T_54f1f_row9_col14\" class=\"data row9 col14\" >0.043137</td>\n",
       "      <td id=\"T_54f1f_row9_col15\" class=\"data row9 col15\" >0.000000</td>\n",
       "      <td id=\"T_54f1f_row9_col16\" class=\"data row9 col16\" >0.168627</td>\n",
       "      <td id=\"T_54f1f_row9_col17\" class=\"data row9 col17\" >0.603922</td>\n",
       "      <td id=\"T_54f1f_row9_col18\" class=\"data row9 col18\" >0.000000</td>\n",
       "      <td id=\"T_54f1f_row9_col19\" class=\"data row9 col19\" >0.000000</td>\n",
       "      <td id=\"T_54f1f_row9_col20\" class=\"data row9 col20\" >0.000000</td>\n",
       "      <td id=\"T_54f1f_row9_col21\" class=\"data row9 col21\" >0.000000</td>\n",
       "      <td id=\"T_54f1f_row9_col22\" class=\"data row9 col22\" >0.000000</td>\n",
       "      <td id=\"T_54f1f_row9_col23\" class=\"data row9 col23\" >0.000000</td>\n",
       "      <td id=\"T_54f1f_row9_col24\" class=\"data row9 col24\" >0.000000</td>\n",
       "      <td id=\"T_54f1f_row9_col25\" class=\"data row9 col25\" >0.000000</td>\n",
       "      <td id=\"T_54f1f_row9_col26\" class=\"data row9 col26\" >0.000000</td>\n",
       "      <td id=\"T_54f1f_row9_col27\" class=\"data row9 col27\" >0.000000</td>\n",
       "    </tr>\n",
       "    <tr>\n",
       "      <th id=\"T_54f1f_level0_row10\" class=\"row_heading level0 row10\" >10</th>\n",
       "      <td id=\"T_54f1f_row10_col0\" class=\"data row10 col0\" >0.000000</td>\n",
       "      <td id=\"T_54f1f_row10_col1\" class=\"data row10 col1\" >0.000000</td>\n",
       "      <td id=\"T_54f1f_row10_col2\" class=\"data row10 col2\" >0.000000</td>\n",
       "      <td id=\"T_54f1f_row10_col3\" class=\"data row10 col3\" >0.000000</td>\n",
       "      <td id=\"T_54f1f_row10_col4\" class=\"data row10 col4\" >0.000000</td>\n",
       "      <td id=\"T_54f1f_row10_col5\" class=\"data row10 col5\" >0.000000</td>\n",
       "      <td id=\"T_54f1f_row10_col6\" class=\"data row10 col6\" >0.000000</td>\n",
       "      <td id=\"T_54f1f_row10_col7\" class=\"data row10 col7\" >0.000000</td>\n",
       "      <td id=\"T_54f1f_row10_col8\" class=\"data row10 col8\" >0.000000</td>\n",
       "      <td id=\"T_54f1f_row10_col9\" class=\"data row10 col9\" >0.054902</td>\n",
       "      <td id=\"T_54f1f_row10_col10\" class=\"data row10 col10\" >0.003922</td>\n",
       "      <td id=\"T_54f1f_row10_col11\" class=\"data row10 col11\" >0.603922</td>\n",
       "      <td id=\"T_54f1f_row10_col12\" class=\"data row10 col12\" >0.992157</td>\n",
       "      <td id=\"T_54f1f_row10_col13\" class=\"data row10 col13\" >0.352941</td>\n",
       "      <td id=\"T_54f1f_row10_col14\" class=\"data row10 col14\" >0.000000</td>\n",
       "      <td id=\"T_54f1f_row10_col15\" class=\"data row10 col15\" >0.000000</td>\n",
       "      <td id=\"T_54f1f_row10_col16\" class=\"data row10 col16\" >0.000000</td>\n",
       "      <td id=\"T_54f1f_row10_col17\" class=\"data row10 col17\" >0.000000</td>\n",
       "      <td id=\"T_54f1f_row10_col18\" class=\"data row10 col18\" >0.000000</td>\n",
       "      <td id=\"T_54f1f_row10_col19\" class=\"data row10 col19\" >0.000000</td>\n",
       "      <td id=\"T_54f1f_row10_col20\" class=\"data row10 col20\" >0.000000</td>\n",
       "      <td id=\"T_54f1f_row10_col21\" class=\"data row10 col21\" >0.000000</td>\n",
       "      <td id=\"T_54f1f_row10_col22\" class=\"data row10 col22\" >0.000000</td>\n",
       "      <td id=\"T_54f1f_row10_col23\" class=\"data row10 col23\" >0.000000</td>\n",
       "      <td id=\"T_54f1f_row10_col24\" class=\"data row10 col24\" >0.000000</td>\n",
       "      <td id=\"T_54f1f_row10_col25\" class=\"data row10 col25\" >0.000000</td>\n",
       "      <td id=\"T_54f1f_row10_col26\" class=\"data row10 col26\" >0.000000</td>\n",
       "      <td id=\"T_54f1f_row10_col27\" class=\"data row10 col27\" >0.000000</td>\n",
       "    </tr>\n",
       "    <tr>\n",
       "      <th id=\"T_54f1f_level0_row11\" class=\"row_heading level0 row11\" >11</th>\n",
       "      <td id=\"T_54f1f_row11_col0\" class=\"data row11 col0\" >0.000000</td>\n",
       "      <td id=\"T_54f1f_row11_col1\" class=\"data row11 col1\" >0.000000</td>\n",
       "      <td id=\"T_54f1f_row11_col2\" class=\"data row11 col2\" >0.000000</td>\n",
       "      <td id=\"T_54f1f_row11_col3\" class=\"data row11 col3\" >0.000000</td>\n",
       "      <td id=\"T_54f1f_row11_col4\" class=\"data row11 col4\" >0.000000</td>\n",
       "      <td id=\"T_54f1f_row11_col5\" class=\"data row11 col5\" >0.000000</td>\n",
       "      <td id=\"T_54f1f_row11_col6\" class=\"data row11 col6\" >0.000000</td>\n",
       "      <td id=\"T_54f1f_row11_col7\" class=\"data row11 col7\" >0.000000</td>\n",
       "      <td id=\"T_54f1f_row11_col8\" class=\"data row11 col8\" >0.000000</td>\n",
       "      <td id=\"T_54f1f_row11_col9\" class=\"data row11 col9\" >0.000000</td>\n",
       "      <td id=\"T_54f1f_row11_col10\" class=\"data row11 col10\" >0.000000</td>\n",
       "      <td id=\"T_54f1f_row11_col11\" class=\"data row11 col11\" >0.545098</td>\n",
       "      <td id=\"T_54f1f_row11_col12\" class=\"data row11 col12\" >0.992157</td>\n",
       "      <td id=\"T_54f1f_row11_col13\" class=\"data row11 col13\" >0.745098</td>\n",
       "      <td id=\"T_54f1f_row11_col14\" class=\"data row11 col14\" >0.007843</td>\n",
       "      <td id=\"T_54f1f_row11_col15\" class=\"data row11 col15\" >0.000000</td>\n",
       "      <td id=\"T_54f1f_row11_col16\" class=\"data row11 col16\" >0.000000</td>\n",
       "      <td id=\"T_54f1f_row11_col17\" class=\"data row11 col17\" >0.000000</td>\n",
       "      <td id=\"T_54f1f_row11_col18\" class=\"data row11 col18\" >0.000000</td>\n",
       "      <td id=\"T_54f1f_row11_col19\" class=\"data row11 col19\" >0.000000</td>\n",
       "      <td id=\"T_54f1f_row11_col20\" class=\"data row11 col20\" >0.000000</td>\n",
       "      <td id=\"T_54f1f_row11_col21\" class=\"data row11 col21\" >0.000000</td>\n",
       "      <td id=\"T_54f1f_row11_col22\" class=\"data row11 col22\" >0.000000</td>\n",
       "      <td id=\"T_54f1f_row11_col23\" class=\"data row11 col23\" >0.000000</td>\n",
       "      <td id=\"T_54f1f_row11_col24\" class=\"data row11 col24\" >0.000000</td>\n",
       "      <td id=\"T_54f1f_row11_col25\" class=\"data row11 col25\" >0.000000</td>\n",
       "      <td id=\"T_54f1f_row11_col26\" class=\"data row11 col26\" >0.000000</td>\n",
       "      <td id=\"T_54f1f_row11_col27\" class=\"data row11 col27\" >0.000000</td>\n",
       "    </tr>\n",
       "    <tr>\n",
       "      <th id=\"T_54f1f_level0_row12\" class=\"row_heading level0 row12\" >12</th>\n",
       "      <td id=\"T_54f1f_row12_col0\" class=\"data row12 col0\" >0.000000</td>\n",
       "      <td id=\"T_54f1f_row12_col1\" class=\"data row12 col1\" >0.000000</td>\n",
       "      <td id=\"T_54f1f_row12_col2\" class=\"data row12 col2\" >0.000000</td>\n",
       "      <td id=\"T_54f1f_row12_col3\" class=\"data row12 col3\" >0.000000</td>\n",
       "      <td id=\"T_54f1f_row12_col4\" class=\"data row12 col4\" >0.000000</td>\n",
       "      <td id=\"T_54f1f_row12_col5\" class=\"data row12 col5\" >0.000000</td>\n",
       "      <td id=\"T_54f1f_row12_col6\" class=\"data row12 col6\" >0.000000</td>\n",
       "      <td id=\"T_54f1f_row12_col7\" class=\"data row12 col7\" >0.000000</td>\n",
       "      <td id=\"T_54f1f_row12_col8\" class=\"data row12 col8\" >0.000000</td>\n",
       "      <td id=\"T_54f1f_row12_col9\" class=\"data row12 col9\" >0.000000</td>\n",
       "      <td id=\"T_54f1f_row12_col10\" class=\"data row12 col10\" >0.000000</td>\n",
       "      <td id=\"T_54f1f_row12_col11\" class=\"data row12 col11\" >0.043137</td>\n",
       "      <td id=\"T_54f1f_row12_col12\" class=\"data row12 col12\" >0.745098</td>\n",
       "      <td id=\"T_54f1f_row12_col13\" class=\"data row12 col13\" >0.992157</td>\n",
       "      <td id=\"T_54f1f_row12_col14\" class=\"data row12 col14\" >0.274510</td>\n",
       "      <td id=\"T_54f1f_row12_col15\" class=\"data row12 col15\" >0.000000</td>\n",
       "      <td id=\"T_54f1f_row12_col16\" class=\"data row12 col16\" >0.000000</td>\n",
       "      <td id=\"T_54f1f_row12_col17\" class=\"data row12 col17\" >0.000000</td>\n",
       "      <td id=\"T_54f1f_row12_col18\" class=\"data row12 col18\" >0.000000</td>\n",
       "      <td id=\"T_54f1f_row12_col19\" class=\"data row12 col19\" >0.000000</td>\n",
       "      <td id=\"T_54f1f_row12_col20\" class=\"data row12 col20\" >0.000000</td>\n",
       "      <td id=\"T_54f1f_row12_col21\" class=\"data row12 col21\" >0.000000</td>\n",
       "      <td id=\"T_54f1f_row12_col22\" class=\"data row12 col22\" >0.000000</td>\n",
       "      <td id=\"T_54f1f_row12_col23\" class=\"data row12 col23\" >0.000000</td>\n",
       "      <td id=\"T_54f1f_row12_col24\" class=\"data row12 col24\" >0.000000</td>\n",
       "      <td id=\"T_54f1f_row12_col25\" class=\"data row12 col25\" >0.000000</td>\n",
       "      <td id=\"T_54f1f_row12_col26\" class=\"data row12 col26\" >0.000000</td>\n",
       "      <td id=\"T_54f1f_row12_col27\" class=\"data row12 col27\" >0.000000</td>\n",
       "    </tr>\n",
       "    <tr>\n",
       "      <th id=\"T_54f1f_level0_row13\" class=\"row_heading level0 row13\" >13</th>\n",
       "      <td id=\"T_54f1f_row13_col0\" class=\"data row13 col0\" >0.000000</td>\n",
       "      <td id=\"T_54f1f_row13_col1\" class=\"data row13 col1\" >0.000000</td>\n",
       "      <td id=\"T_54f1f_row13_col2\" class=\"data row13 col2\" >0.000000</td>\n",
       "      <td id=\"T_54f1f_row13_col3\" class=\"data row13 col3\" >0.000000</td>\n",
       "      <td id=\"T_54f1f_row13_col4\" class=\"data row13 col4\" >0.000000</td>\n",
       "      <td id=\"T_54f1f_row13_col5\" class=\"data row13 col5\" >0.000000</td>\n",
       "      <td id=\"T_54f1f_row13_col6\" class=\"data row13 col6\" >0.000000</td>\n",
       "      <td id=\"T_54f1f_row13_col7\" class=\"data row13 col7\" >0.000000</td>\n",
       "      <td id=\"T_54f1f_row13_col8\" class=\"data row13 col8\" >0.000000</td>\n",
       "      <td id=\"T_54f1f_row13_col9\" class=\"data row13 col9\" >0.000000</td>\n",
       "      <td id=\"T_54f1f_row13_col10\" class=\"data row13 col10\" >0.000000</td>\n",
       "      <td id=\"T_54f1f_row13_col11\" class=\"data row13 col11\" >0.000000</td>\n",
       "      <td id=\"T_54f1f_row13_col12\" class=\"data row13 col12\" >0.137255</td>\n",
       "      <td id=\"T_54f1f_row13_col13\" class=\"data row13 col13\" >0.945098</td>\n",
       "      <td id=\"T_54f1f_row13_col14\" class=\"data row13 col14\" >0.882353</td>\n",
       "      <td id=\"T_54f1f_row13_col15\" class=\"data row13 col15\" >0.627451</td>\n",
       "      <td id=\"T_54f1f_row13_col16\" class=\"data row13 col16\" >0.423529</td>\n",
       "      <td id=\"T_54f1f_row13_col17\" class=\"data row13 col17\" >0.003922</td>\n",
       "      <td id=\"T_54f1f_row13_col18\" class=\"data row13 col18\" >0.000000</td>\n",
       "      <td id=\"T_54f1f_row13_col19\" class=\"data row13 col19\" >0.000000</td>\n",
       "      <td id=\"T_54f1f_row13_col20\" class=\"data row13 col20\" >0.000000</td>\n",
       "      <td id=\"T_54f1f_row13_col21\" class=\"data row13 col21\" >0.000000</td>\n",
       "      <td id=\"T_54f1f_row13_col22\" class=\"data row13 col22\" >0.000000</td>\n",
       "      <td id=\"T_54f1f_row13_col23\" class=\"data row13 col23\" >0.000000</td>\n",
       "      <td id=\"T_54f1f_row13_col24\" class=\"data row13 col24\" >0.000000</td>\n",
       "      <td id=\"T_54f1f_row13_col25\" class=\"data row13 col25\" >0.000000</td>\n",
       "      <td id=\"T_54f1f_row13_col26\" class=\"data row13 col26\" >0.000000</td>\n",
       "      <td id=\"T_54f1f_row13_col27\" class=\"data row13 col27\" >0.000000</td>\n",
       "    </tr>\n",
       "    <tr>\n",
       "      <th id=\"T_54f1f_level0_row14\" class=\"row_heading level0 row14\" >14</th>\n",
       "      <td id=\"T_54f1f_row14_col0\" class=\"data row14 col0\" >0.000000</td>\n",
       "      <td id=\"T_54f1f_row14_col1\" class=\"data row14 col1\" >0.000000</td>\n",
       "      <td id=\"T_54f1f_row14_col2\" class=\"data row14 col2\" >0.000000</td>\n",
       "      <td id=\"T_54f1f_row14_col3\" class=\"data row14 col3\" >0.000000</td>\n",
       "      <td id=\"T_54f1f_row14_col4\" class=\"data row14 col4\" >0.000000</td>\n",
       "      <td id=\"T_54f1f_row14_col5\" class=\"data row14 col5\" >0.000000</td>\n",
       "      <td id=\"T_54f1f_row14_col6\" class=\"data row14 col6\" >0.000000</td>\n",
       "      <td id=\"T_54f1f_row14_col7\" class=\"data row14 col7\" >0.000000</td>\n",
       "      <td id=\"T_54f1f_row14_col8\" class=\"data row14 col8\" >0.000000</td>\n",
       "      <td id=\"T_54f1f_row14_col9\" class=\"data row14 col9\" >0.000000</td>\n",
       "      <td id=\"T_54f1f_row14_col10\" class=\"data row14 col10\" >0.000000</td>\n",
       "      <td id=\"T_54f1f_row14_col11\" class=\"data row14 col11\" >0.000000</td>\n",
       "      <td id=\"T_54f1f_row14_col12\" class=\"data row14 col12\" >0.000000</td>\n",
       "      <td id=\"T_54f1f_row14_col13\" class=\"data row14 col13\" >0.317647</td>\n",
       "      <td id=\"T_54f1f_row14_col14\" class=\"data row14 col14\" >0.941176</td>\n",
       "      <td id=\"T_54f1f_row14_col15\" class=\"data row14 col15\" >0.992157</td>\n",
       "      <td id=\"T_54f1f_row14_col16\" class=\"data row14 col16\" >0.992157</td>\n",
       "      <td id=\"T_54f1f_row14_col17\" class=\"data row14 col17\" >0.466667</td>\n",
       "      <td id=\"T_54f1f_row14_col18\" class=\"data row14 col18\" >0.098039</td>\n",
       "      <td id=\"T_54f1f_row14_col19\" class=\"data row14 col19\" >0.000000</td>\n",
       "      <td id=\"T_54f1f_row14_col20\" class=\"data row14 col20\" >0.000000</td>\n",
       "      <td id=\"T_54f1f_row14_col21\" class=\"data row14 col21\" >0.000000</td>\n",
       "      <td id=\"T_54f1f_row14_col22\" class=\"data row14 col22\" >0.000000</td>\n",
       "      <td id=\"T_54f1f_row14_col23\" class=\"data row14 col23\" >0.000000</td>\n",
       "      <td id=\"T_54f1f_row14_col24\" class=\"data row14 col24\" >0.000000</td>\n",
       "      <td id=\"T_54f1f_row14_col25\" class=\"data row14 col25\" >0.000000</td>\n",
       "      <td id=\"T_54f1f_row14_col26\" class=\"data row14 col26\" >0.000000</td>\n",
       "      <td id=\"T_54f1f_row14_col27\" class=\"data row14 col27\" >0.000000</td>\n",
       "    </tr>\n",
       "    <tr>\n",
       "      <th id=\"T_54f1f_level0_row15\" class=\"row_heading level0 row15\" >15</th>\n",
       "      <td id=\"T_54f1f_row15_col0\" class=\"data row15 col0\" >0.000000</td>\n",
       "      <td id=\"T_54f1f_row15_col1\" class=\"data row15 col1\" >0.000000</td>\n",
       "      <td id=\"T_54f1f_row15_col2\" class=\"data row15 col2\" >0.000000</td>\n",
       "      <td id=\"T_54f1f_row15_col3\" class=\"data row15 col3\" >0.000000</td>\n",
       "      <td id=\"T_54f1f_row15_col4\" class=\"data row15 col4\" >0.000000</td>\n",
       "      <td id=\"T_54f1f_row15_col5\" class=\"data row15 col5\" >0.000000</td>\n",
       "      <td id=\"T_54f1f_row15_col6\" class=\"data row15 col6\" >0.000000</td>\n",
       "      <td id=\"T_54f1f_row15_col7\" class=\"data row15 col7\" >0.000000</td>\n",
       "      <td id=\"T_54f1f_row15_col8\" class=\"data row15 col8\" >0.000000</td>\n",
       "      <td id=\"T_54f1f_row15_col9\" class=\"data row15 col9\" >0.000000</td>\n",
       "      <td id=\"T_54f1f_row15_col10\" class=\"data row15 col10\" >0.000000</td>\n",
       "      <td id=\"T_54f1f_row15_col11\" class=\"data row15 col11\" >0.000000</td>\n",
       "      <td id=\"T_54f1f_row15_col12\" class=\"data row15 col12\" >0.000000</td>\n",
       "      <td id=\"T_54f1f_row15_col13\" class=\"data row15 col13\" >0.000000</td>\n",
       "      <td id=\"T_54f1f_row15_col14\" class=\"data row15 col14\" >0.176471</td>\n",
       "      <td id=\"T_54f1f_row15_col15\" class=\"data row15 col15\" >0.729412</td>\n",
       "      <td id=\"T_54f1f_row15_col16\" class=\"data row15 col16\" >0.992157</td>\n",
       "      <td id=\"T_54f1f_row15_col17\" class=\"data row15 col17\" >0.992157</td>\n",
       "      <td id=\"T_54f1f_row15_col18\" class=\"data row15 col18\" >0.588235</td>\n",
       "      <td id=\"T_54f1f_row15_col19\" class=\"data row15 col19\" >0.105882</td>\n",
       "      <td id=\"T_54f1f_row15_col20\" class=\"data row15 col20\" >0.000000</td>\n",
       "      <td id=\"T_54f1f_row15_col21\" class=\"data row15 col21\" >0.000000</td>\n",
       "      <td id=\"T_54f1f_row15_col22\" class=\"data row15 col22\" >0.000000</td>\n",
       "      <td id=\"T_54f1f_row15_col23\" class=\"data row15 col23\" >0.000000</td>\n",
       "      <td id=\"T_54f1f_row15_col24\" class=\"data row15 col24\" >0.000000</td>\n",
       "      <td id=\"T_54f1f_row15_col25\" class=\"data row15 col25\" >0.000000</td>\n",
       "      <td id=\"T_54f1f_row15_col26\" class=\"data row15 col26\" >0.000000</td>\n",
       "      <td id=\"T_54f1f_row15_col27\" class=\"data row15 col27\" >0.000000</td>\n",
       "    </tr>\n",
       "    <tr>\n",
       "      <th id=\"T_54f1f_level0_row16\" class=\"row_heading level0 row16\" >16</th>\n",
       "      <td id=\"T_54f1f_row16_col0\" class=\"data row16 col0\" >0.000000</td>\n",
       "      <td id=\"T_54f1f_row16_col1\" class=\"data row16 col1\" >0.000000</td>\n",
       "      <td id=\"T_54f1f_row16_col2\" class=\"data row16 col2\" >0.000000</td>\n",
       "      <td id=\"T_54f1f_row16_col3\" class=\"data row16 col3\" >0.000000</td>\n",
       "      <td id=\"T_54f1f_row16_col4\" class=\"data row16 col4\" >0.000000</td>\n",
       "      <td id=\"T_54f1f_row16_col5\" class=\"data row16 col5\" >0.000000</td>\n",
       "      <td id=\"T_54f1f_row16_col6\" class=\"data row16 col6\" >0.000000</td>\n",
       "      <td id=\"T_54f1f_row16_col7\" class=\"data row16 col7\" >0.000000</td>\n",
       "      <td id=\"T_54f1f_row16_col8\" class=\"data row16 col8\" >0.000000</td>\n",
       "      <td id=\"T_54f1f_row16_col9\" class=\"data row16 col9\" >0.000000</td>\n",
       "      <td id=\"T_54f1f_row16_col10\" class=\"data row16 col10\" >0.000000</td>\n",
       "      <td id=\"T_54f1f_row16_col11\" class=\"data row16 col11\" >0.000000</td>\n",
       "      <td id=\"T_54f1f_row16_col12\" class=\"data row16 col12\" >0.000000</td>\n",
       "      <td id=\"T_54f1f_row16_col13\" class=\"data row16 col13\" >0.000000</td>\n",
       "      <td id=\"T_54f1f_row16_col14\" class=\"data row16 col14\" >0.000000</td>\n",
       "      <td id=\"T_54f1f_row16_col15\" class=\"data row16 col15\" >0.062745</td>\n",
       "      <td id=\"T_54f1f_row16_col16\" class=\"data row16 col16\" >0.364706</td>\n",
       "      <td id=\"T_54f1f_row16_col17\" class=\"data row16 col17\" >0.988235</td>\n",
       "      <td id=\"T_54f1f_row16_col18\" class=\"data row16 col18\" >0.992157</td>\n",
       "      <td id=\"T_54f1f_row16_col19\" class=\"data row16 col19\" >0.733333</td>\n",
       "      <td id=\"T_54f1f_row16_col20\" class=\"data row16 col20\" >0.000000</td>\n",
       "      <td id=\"T_54f1f_row16_col21\" class=\"data row16 col21\" >0.000000</td>\n",
       "      <td id=\"T_54f1f_row16_col22\" class=\"data row16 col22\" >0.000000</td>\n",
       "      <td id=\"T_54f1f_row16_col23\" class=\"data row16 col23\" >0.000000</td>\n",
       "      <td id=\"T_54f1f_row16_col24\" class=\"data row16 col24\" >0.000000</td>\n",
       "      <td id=\"T_54f1f_row16_col25\" class=\"data row16 col25\" >0.000000</td>\n",
       "      <td id=\"T_54f1f_row16_col26\" class=\"data row16 col26\" >0.000000</td>\n",
       "      <td id=\"T_54f1f_row16_col27\" class=\"data row16 col27\" >0.000000</td>\n",
       "    </tr>\n",
       "    <tr>\n",
       "      <th id=\"T_54f1f_level0_row17\" class=\"row_heading level0 row17\" >17</th>\n",
       "      <td id=\"T_54f1f_row17_col0\" class=\"data row17 col0\" >0.000000</td>\n",
       "      <td id=\"T_54f1f_row17_col1\" class=\"data row17 col1\" >0.000000</td>\n",
       "      <td id=\"T_54f1f_row17_col2\" class=\"data row17 col2\" >0.000000</td>\n",
       "      <td id=\"T_54f1f_row17_col3\" class=\"data row17 col3\" >0.000000</td>\n",
       "      <td id=\"T_54f1f_row17_col4\" class=\"data row17 col4\" >0.000000</td>\n",
       "      <td id=\"T_54f1f_row17_col5\" class=\"data row17 col5\" >0.000000</td>\n",
       "      <td id=\"T_54f1f_row17_col6\" class=\"data row17 col6\" >0.000000</td>\n",
       "      <td id=\"T_54f1f_row17_col7\" class=\"data row17 col7\" >0.000000</td>\n",
       "      <td id=\"T_54f1f_row17_col8\" class=\"data row17 col8\" >0.000000</td>\n",
       "      <td id=\"T_54f1f_row17_col9\" class=\"data row17 col9\" >0.000000</td>\n",
       "      <td id=\"T_54f1f_row17_col10\" class=\"data row17 col10\" >0.000000</td>\n",
       "      <td id=\"T_54f1f_row17_col11\" class=\"data row17 col11\" >0.000000</td>\n",
       "      <td id=\"T_54f1f_row17_col12\" class=\"data row17 col12\" >0.000000</td>\n",
       "      <td id=\"T_54f1f_row17_col13\" class=\"data row17 col13\" >0.000000</td>\n",
       "      <td id=\"T_54f1f_row17_col14\" class=\"data row17 col14\" >0.000000</td>\n",
       "      <td id=\"T_54f1f_row17_col15\" class=\"data row17 col15\" >0.000000</td>\n",
       "      <td id=\"T_54f1f_row17_col16\" class=\"data row17 col16\" >0.000000</td>\n",
       "      <td id=\"T_54f1f_row17_col17\" class=\"data row17 col17\" >0.976471</td>\n",
       "      <td id=\"T_54f1f_row17_col18\" class=\"data row17 col18\" >0.992157</td>\n",
       "      <td id=\"T_54f1f_row17_col19\" class=\"data row17 col19\" >0.976471</td>\n",
       "      <td id=\"T_54f1f_row17_col20\" class=\"data row17 col20\" >0.250980</td>\n",
       "      <td id=\"T_54f1f_row17_col21\" class=\"data row17 col21\" >0.000000</td>\n",
       "      <td id=\"T_54f1f_row17_col22\" class=\"data row17 col22\" >0.000000</td>\n",
       "      <td id=\"T_54f1f_row17_col23\" class=\"data row17 col23\" >0.000000</td>\n",
       "      <td id=\"T_54f1f_row17_col24\" class=\"data row17 col24\" >0.000000</td>\n",
       "      <td id=\"T_54f1f_row17_col25\" class=\"data row17 col25\" >0.000000</td>\n",
       "      <td id=\"T_54f1f_row17_col26\" class=\"data row17 col26\" >0.000000</td>\n",
       "      <td id=\"T_54f1f_row17_col27\" class=\"data row17 col27\" >0.000000</td>\n",
       "    </tr>\n",
       "    <tr>\n",
       "      <th id=\"T_54f1f_level0_row18\" class=\"row_heading level0 row18\" >18</th>\n",
       "      <td id=\"T_54f1f_row18_col0\" class=\"data row18 col0\" >0.000000</td>\n",
       "      <td id=\"T_54f1f_row18_col1\" class=\"data row18 col1\" >0.000000</td>\n",
       "      <td id=\"T_54f1f_row18_col2\" class=\"data row18 col2\" >0.000000</td>\n",
       "      <td id=\"T_54f1f_row18_col3\" class=\"data row18 col3\" >0.000000</td>\n",
       "      <td id=\"T_54f1f_row18_col4\" class=\"data row18 col4\" >0.000000</td>\n",
       "      <td id=\"T_54f1f_row18_col5\" class=\"data row18 col5\" >0.000000</td>\n",
       "      <td id=\"T_54f1f_row18_col6\" class=\"data row18 col6\" >0.000000</td>\n",
       "      <td id=\"T_54f1f_row18_col7\" class=\"data row18 col7\" >0.000000</td>\n",
       "      <td id=\"T_54f1f_row18_col8\" class=\"data row18 col8\" >0.000000</td>\n",
       "      <td id=\"T_54f1f_row18_col9\" class=\"data row18 col9\" >0.000000</td>\n",
       "      <td id=\"T_54f1f_row18_col10\" class=\"data row18 col10\" >0.000000</td>\n",
       "      <td id=\"T_54f1f_row18_col11\" class=\"data row18 col11\" >0.000000</td>\n",
       "      <td id=\"T_54f1f_row18_col12\" class=\"data row18 col12\" >0.000000</td>\n",
       "      <td id=\"T_54f1f_row18_col13\" class=\"data row18 col13\" >0.000000</td>\n",
       "      <td id=\"T_54f1f_row18_col14\" class=\"data row18 col14\" >0.180392</td>\n",
       "      <td id=\"T_54f1f_row18_col15\" class=\"data row18 col15\" >0.509804</td>\n",
       "      <td id=\"T_54f1f_row18_col16\" class=\"data row18 col16\" >0.717647</td>\n",
       "      <td id=\"T_54f1f_row18_col17\" class=\"data row18 col17\" >0.992157</td>\n",
       "      <td id=\"T_54f1f_row18_col18\" class=\"data row18 col18\" >0.992157</td>\n",
       "      <td id=\"T_54f1f_row18_col19\" class=\"data row18 col19\" >0.811765</td>\n",
       "      <td id=\"T_54f1f_row18_col20\" class=\"data row18 col20\" >0.007843</td>\n",
       "      <td id=\"T_54f1f_row18_col21\" class=\"data row18 col21\" >0.000000</td>\n",
       "      <td id=\"T_54f1f_row18_col22\" class=\"data row18 col22\" >0.000000</td>\n",
       "      <td id=\"T_54f1f_row18_col23\" class=\"data row18 col23\" >0.000000</td>\n",
       "      <td id=\"T_54f1f_row18_col24\" class=\"data row18 col24\" >0.000000</td>\n",
       "      <td id=\"T_54f1f_row18_col25\" class=\"data row18 col25\" >0.000000</td>\n",
       "      <td id=\"T_54f1f_row18_col26\" class=\"data row18 col26\" >0.000000</td>\n",
       "      <td id=\"T_54f1f_row18_col27\" class=\"data row18 col27\" >0.000000</td>\n",
       "    </tr>\n",
       "    <tr>\n",
       "      <th id=\"T_54f1f_level0_row19\" class=\"row_heading level0 row19\" >19</th>\n",
       "      <td id=\"T_54f1f_row19_col0\" class=\"data row19 col0\" >0.000000</td>\n",
       "      <td id=\"T_54f1f_row19_col1\" class=\"data row19 col1\" >0.000000</td>\n",
       "      <td id=\"T_54f1f_row19_col2\" class=\"data row19 col2\" >0.000000</td>\n",
       "      <td id=\"T_54f1f_row19_col3\" class=\"data row19 col3\" >0.000000</td>\n",
       "      <td id=\"T_54f1f_row19_col4\" class=\"data row19 col4\" >0.000000</td>\n",
       "      <td id=\"T_54f1f_row19_col5\" class=\"data row19 col5\" >0.000000</td>\n",
       "      <td id=\"T_54f1f_row19_col6\" class=\"data row19 col6\" >0.000000</td>\n",
       "      <td id=\"T_54f1f_row19_col7\" class=\"data row19 col7\" >0.000000</td>\n",
       "      <td id=\"T_54f1f_row19_col8\" class=\"data row19 col8\" >0.000000</td>\n",
       "      <td id=\"T_54f1f_row19_col9\" class=\"data row19 col9\" >0.000000</td>\n",
       "      <td id=\"T_54f1f_row19_col10\" class=\"data row19 col10\" >0.000000</td>\n",
       "      <td id=\"T_54f1f_row19_col11\" class=\"data row19 col11\" >0.000000</td>\n",
       "      <td id=\"T_54f1f_row19_col12\" class=\"data row19 col12\" >0.152941</td>\n",
       "      <td id=\"T_54f1f_row19_col13\" class=\"data row19 col13\" >0.580392</td>\n",
       "      <td id=\"T_54f1f_row19_col14\" class=\"data row19 col14\" >0.898039</td>\n",
       "      <td id=\"T_54f1f_row19_col15\" class=\"data row19 col15\" >0.992157</td>\n",
       "      <td id=\"T_54f1f_row19_col16\" class=\"data row19 col16\" >0.992157</td>\n",
       "      <td id=\"T_54f1f_row19_col17\" class=\"data row19 col17\" >0.992157</td>\n",
       "      <td id=\"T_54f1f_row19_col18\" class=\"data row19 col18\" >0.980392</td>\n",
       "      <td id=\"T_54f1f_row19_col19\" class=\"data row19 col19\" >0.713726</td>\n",
       "      <td id=\"T_54f1f_row19_col20\" class=\"data row19 col20\" >0.000000</td>\n",
       "      <td id=\"T_54f1f_row19_col21\" class=\"data row19 col21\" >0.000000</td>\n",
       "      <td id=\"T_54f1f_row19_col22\" class=\"data row19 col22\" >0.000000</td>\n",
       "      <td id=\"T_54f1f_row19_col23\" class=\"data row19 col23\" >0.000000</td>\n",
       "      <td id=\"T_54f1f_row19_col24\" class=\"data row19 col24\" >0.000000</td>\n",
       "      <td id=\"T_54f1f_row19_col25\" class=\"data row19 col25\" >0.000000</td>\n",
       "      <td id=\"T_54f1f_row19_col26\" class=\"data row19 col26\" >0.000000</td>\n",
       "      <td id=\"T_54f1f_row19_col27\" class=\"data row19 col27\" >0.000000</td>\n",
       "    </tr>\n",
       "    <tr>\n",
       "      <th id=\"T_54f1f_level0_row20\" class=\"row_heading level0 row20\" >20</th>\n",
       "      <td id=\"T_54f1f_row20_col0\" class=\"data row20 col0\" >0.000000</td>\n",
       "      <td id=\"T_54f1f_row20_col1\" class=\"data row20 col1\" >0.000000</td>\n",
       "      <td id=\"T_54f1f_row20_col2\" class=\"data row20 col2\" >0.000000</td>\n",
       "      <td id=\"T_54f1f_row20_col3\" class=\"data row20 col3\" >0.000000</td>\n",
       "      <td id=\"T_54f1f_row20_col4\" class=\"data row20 col4\" >0.000000</td>\n",
       "      <td id=\"T_54f1f_row20_col5\" class=\"data row20 col5\" >0.000000</td>\n",
       "      <td id=\"T_54f1f_row20_col6\" class=\"data row20 col6\" >0.000000</td>\n",
       "      <td id=\"T_54f1f_row20_col7\" class=\"data row20 col7\" >0.000000</td>\n",
       "      <td id=\"T_54f1f_row20_col8\" class=\"data row20 col8\" >0.000000</td>\n",
       "      <td id=\"T_54f1f_row20_col9\" class=\"data row20 col9\" >0.000000</td>\n",
       "      <td id=\"T_54f1f_row20_col10\" class=\"data row20 col10\" >0.094118</td>\n",
       "      <td id=\"T_54f1f_row20_col11\" class=\"data row20 col11\" >0.447059</td>\n",
       "      <td id=\"T_54f1f_row20_col12\" class=\"data row20 col12\" >0.866667</td>\n",
       "      <td id=\"T_54f1f_row20_col13\" class=\"data row20 col13\" >0.992157</td>\n",
       "      <td id=\"T_54f1f_row20_col14\" class=\"data row20 col14\" >0.992157</td>\n",
       "      <td id=\"T_54f1f_row20_col15\" class=\"data row20 col15\" >0.992157</td>\n",
       "      <td id=\"T_54f1f_row20_col16\" class=\"data row20 col16\" >0.992157</td>\n",
       "      <td id=\"T_54f1f_row20_col17\" class=\"data row20 col17\" >0.788235</td>\n",
       "      <td id=\"T_54f1f_row20_col18\" class=\"data row20 col18\" >0.305882</td>\n",
       "      <td id=\"T_54f1f_row20_col19\" class=\"data row20 col19\" >0.000000</td>\n",
       "      <td id=\"T_54f1f_row20_col20\" class=\"data row20 col20\" >0.000000</td>\n",
       "      <td id=\"T_54f1f_row20_col21\" class=\"data row20 col21\" >0.000000</td>\n",
       "      <td id=\"T_54f1f_row20_col22\" class=\"data row20 col22\" >0.000000</td>\n",
       "      <td id=\"T_54f1f_row20_col23\" class=\"data row20 col23\" >0.000000</td>\n",
       "      <td id=\"T_54f1f_row20_col24\" class=\"data row20 col24\" >0.000000</td>\n",
       "      <td id=\"T_54f1f_row20_col25\" class=\"data row20 col25\" >0.000000</td>\n",
       "      <td id=\"T_54f1f_row20_col26\" class=\"data row20 col26\" >0.000000</td>\n",
       "      <td id=\"T_54f1f_row20_col27\" class=\"data row20 col27\" >0.000000</td>\n",
       "    </tr>\n",
       "    <tr>\n",
       "      <th id=\"T_54f1f_level0_row21\" class=\"row_heading level0 row21\" >21</th>\n",
       "      <td id=\"T_54f1f_row21_col0\" class=\"data row21 col0\" >0.000000</td>\n",
       "      <td id=\"T_54f1f_row21_col1\" class=\"data row21 col1\" >0.000000</td>\n",
       "      <td id=\"T_54f1f_row21_col2\" class=\"data row21 col2\" >0.000000</td>\n",
       "      <td id=\"T_54f1f_row21_col3\" class=\"data row21 col3\" >0.000000</td>\n",
       "      <td id=\"T_54f1f_row21_col4\" class=\"data row21 col4\" >0.000000</td>\n",
       "      <td id=\"T_54f1f_row21_col5\" class=\"data row21 col5\" >0.000000</td>\n",
       "      <td id=\"T_54f1f_row21_col6\" class=\"data row21 col6\" >0.000000</td>\n",
       "      <td id=\"T_54f1f_row21_col7\" class=\"data row21 col7\" >0.000000</td>\n",
       "      <td id=\"T_54f1f_row21_col8\" class=\"data row21 col8\" >0.090196</td>\n",
       "      <td id=\"T_54f1f_row21_col9\" class=\"data row21 col9\" >0.258824</td>\n",
       "      <td id=\"T_54f1f_row21_col10\" class=\"data row21 col10\" >0.835294</td>\n",
       "      <td id=\"T_54f1f_row21_col11\" class=\"data row21 col11\" >0.992157</td>\n",
       "      <td id=\"T_54f1f_row21_col12\" class=\"data row21 col12\" >0.992157</td>\n",
       "      <td id=\"T_54f1f_row21_col13\" class=\"data row21 col13\" >0.992157</td>\n",
       "      <td id=\"T_54f1f_row21_col14\" class=\"data row21 col14\" >0.992157</td>\n",
       "      <td id=\"T_54f1f_row21_col15\" class=\"data row21 col15\" >0.776471</td>\n",
       "      <td id=\"T_54f1f_row21_col16\" class=\"data row21 col16\" >0.317647</td>\n",
       "      <td id=\"T_54f1f_row21_col17\" class=\"data row21 col17\" >0.007843</td>\n",
       "      <td id=\"T_54f1f_row21_col18\" class=\"data row21 col18\" >0.000000</td>\n",
       "      <td id=\"T_54f1f_row21_col19\" class=\"data row21 col19\" >0.000000</td>\n",
       "      <td id=\"T_54f1f_row21_col20\" class=\"data row21 col20\" >0.000000</td>\n",
       "      <td id=\"T_54f1f_row21_col21\" class=\"data row21 col21\" >0.000000</td>\n",
       "      <td id=\"T_54f1f_row21_col22\" class=\"data row21 col22\" >0.000000</td>\n",
       "      <td id=\"T_54f1f_row21_col23\" class=\"data row21 col23\" >0.000000</td>\n",
       "      <td id=\"T_54f1f_row21_col24\" class=\"data row21 col24\" >0.000000</td>\n",
       "      <td id=\"T_54f1f_row21_col25\" class=\"data row21 col25\" >0.000000</td>\n",
       "      <td id=\"T_54f1f_row21_col26\" class=\"data row21 col26\" >0.000000</td>\n",
       "      <td id=\"T_54f1f_row21_col27\" class=\"data row21 col27\" >0.000000</td>\n",
       "    </tr>\n",
       "    <tr>\n",
       "      <th id=\"T_54f1f_level0_row22\" class=\"row_heading level0 row22\" >22</th>\n",
       "      <td id=\"T_54f1f_row22_col0\" class=\"data row22 col0\" >0.000000</td>\n",
       "      <td id=\"T_54f1f_row22_col1\" class=\"data row22 col1\" >0.000000</td>\n",
       "      <td id=\"T_54f1f_row22_col2\" class=\"data row22 col2\" >0.000000</td>\n",
       "      <td id=\"T_54f1f_row22_col3\" class=\"data row22 col3\" >0.000000</td>\n",
       "      <td id=\"T_54f1f_row22_col4\" class=\"data row22 col4\" >0.000000</td>\n",
       "      <td id=\"T_54f1f_row22_col5\" class=\"data row22 col5\" >0.000000</td>\n",
       "      <td id=\"T_54f1f_row22_col6\" class=\"data row22 col6\" >0.070588</td>\n",
       "      <td id=\"T_54f1f_row22_col7\" class=\"data row22 col7\" >0.670588</td>\n",
       "      <td id=\"T_54f1f_row22_col8\" class=\"data row22 col8\" >0.858824</td>\n",
       "      <td id=\"T_54f1f_row22_col9\" class=\"data row22 col9\" >0.992157</td>\n",
       "      <td id=\"T_54f1f_row22_col10\" class=\"data row22 col10\" >0.992157</td>\n",
       "      <td id=\"T_54f1f_row22_col11\" class=\"data row22 col11\" >0.992157</td>\n",
       "      <td id=\"T_54f1f_row22_col12\" class=\"data row22 col12\" >0.992157</td>\n",
       "      <td id=\"T_54f1f_row22_col13\" class=\"data row22 col13\" >0.764706</td>\n",
       "      <td id=\"T_54f1f_row22_col14\" class=\"data row22 col14\" >0.313726</td>\n",
       "      <td id=\"T_54f1f_row22_col15\" class=\"data row22 col15\" >0.035294</td>\n",
       "      <td id=\"T_54f1f_row22_col16\" class=\"data row22 col16\" >0.000000</td>\n",
       "      <td id=\"T_54f1f_row22_col17\" class=\"data row22 col17\" >0.000000</td>\n",
       "      <td id=\"T_54f1f_row22_col18\" class=\"data row22 col18\" >0.000000</td>\n",
       "      <td id=\"T_54f1f_row22_col19\" class=\"data row22 col19\" >0.000000</td>\n",
       "      <td id=\"T_54f1f_row22_col20\" class=\"data row22 col20\" >0.000000</td>\n",
       "      <td id=\"T_54f1f_row22_col21\" class=\"data row22 col21\" >0.000000</td>\n",
       "      <td id=\"T_54f1f_row22_col22\" class=\"data row22 col22\" >0.000000</td>\n",
       "      <td id=\"T_54f1f_row22_col23\" class=\"data row22 col23\" >0.000000</td>\n",
       "      <td id=\"T_54f1f_row22_col24\" class=\"data row22 col24\" >0.000000</td>\n",
       "      <td id=\"T_54f1f_row22_col25\" class=\"data row22 col25\" >0.000000</td>\n",
       "      <td id=\"T_54f1f_row22_col26\" class=\"data row22 col26\" >0.000000</td>\n",
       "      <td id=\"T_54f1f_row22_col27\" class=\"data row22 col27\" >0.000000</td>\n",
       "    </tr>\n",
       "    <tr>\n",
       "      <th id=\"T_54f1f_level0_row23\" class=\"row_heading level0 row23\" >23</th>\n",
       "      <td id=\"T_54f1f_row23_col0\" class=\"data row23 col0\" >0.000000</td>\n",
       "      <td id=\"T_54f1f_row23_col1\" class=\"data row23 col1\" >0.000000</td>\n",
       "      <td id=\"T_54f1f_row23_col2\" class=\"data row23 col2\" >0.000000</td>\n",
       "      <td id=\"T_54f1f_row23_col3\" class=\"data row23 col3\" >0.000000</td>\n",
       "      <td id=\"T_54f1f_row23_col4\" class=\"data row23 col4\" >0.215686</td>\n",
       "      <td id=\"T_54f1f_row23_col5\" class=\"data row23 col5\" >0.674510</td>\n",
       "      <td id=\"T_54f1f_row23_col6\" class=\"data row23 col6\" >0.886275</td>\n",
       "      <td id=\"T_54f1f_row23_col7\" class=\"data row23 col7\" >0.992157</td>\n",
       "      <td id=\"T_54f1f_row23_col8\" class=\"data row23 col8\" >0.992157</td>\n",
       "      <td id=\"T_54f1f_row23_col9\" class=\"data row23 col9\" >0.992157</td>\n",
       "      <td id=\"T_54f1f_row23_col10\" class=\"data row23 col10\" >0.992157</td>\n",
       "      <td id=\"T_54f1f_row23_col11\" class=\"data row23 col11\" >0.956863</td>\n",
       "      <td id=\"T_54f1f_row23_col12\" class=\"data row23 col12\" >0.521569</td>\n",
       "      <td id=\"T_54f1f_row23_col13\" class=\"data row23 col13\" >0.043137</td>\n",
       "      <td id=\"T_54f1f_row23_col14\" class=\"data row23 col14\" >0.000000</td>\n",
       "      <td id=\"T_54f1f_row23_col15\" class=\"data row23 col15\" >0.000000</td>\n",
       "      <td id=\"T_54f1f_row23_col16\" class=\"data row23 col16\" >0.000000</td>\n",
       "      <td id=\"T_54f1f_row23_col17\" class=\"data row23 col17\" >0.000000</td>\n",
       "      <td id=\"T_54f1f_row23_col18\" class=\"data row23 col18\" >0.000000</td>\n",
       "      <td id=\"T_54f1f_row23_col19\" class=\"data row23 col19\" >0.000000</td>\n",
       "      <td id=\"T_54f1f_row23_col20\" class=\"data row23 col20\" >0.000000</td>\n",
       "      <td id=\"T_54f1f_row23_col21\" class=\"data row23 col21\" >0.000000</td>\n",
       "      <td id=\"T_54f1f_row23_col22\" class=\"data row23 col22\" >0.000000</td>\n",
       "      <td id=\"T_54f1f_row23_col23\" class=\"data row23 col23\" >0.000000</td>\n",
       "      <td id=\"T_54f1f_row23_col24\" class=\"data row23 col24\" >0.000000</td>\n",
       "      <td id=\"T_54f1f_row23_col25\" class=\"data row23 col25\" >0.000000</td>\n",
       "      <td id=\"T_54f1f_row23_col26\" class=\"data row23 col26\" >0.000000</td>\n",
       "      <td id=\"T_54f1f_row23_col27\" class=\"data row23 col27\" >0.000000</td>\n",
       "    </tr>\n",
       "    <tr>\n",
       "      <th id=\"T_54f1f_level0_row24\" class=\"row_heading level0 row24\" >24</th>\n",
       "      <td id=\"T_54f1f_row24_col0\" class=\"data row24 col0\" >0.000000</td>\n",
       "      <td id=\"T_54f1f_row24_col1\" class=\"data row24 col1\" >0.000000</td>\n",
       "      <td id=\"T_54f1f_row24_col2\" class=\"data row24 col2\" >0.000000</td>\n",
       "      <td id=\"T_54f1f_row24_col3\" class=\"data row24 col3\" >0.000000</td>\n",
       "      <td id=\"T_54f1f_row24_col4\" class=\"data row24 col4\" >0.533333</td>\n",
       "      <td id=\"T_54f1f_row24_col5\" class=\"data row24 col5\" >0.992157</td>\n",
       "      <td id=\"T_54f1f_row24_col6\" class=\"data row24 col6\" >0.992157</td>\n",
       "      <td id=\"T_54f1f_row24_col7\" class=\"data row24 col7\" >0.992157</td>\n",
       "      <td id=\"T_54f1f_row24_col8\" class=\"data row24 col8\" >0.831373</td>\n",
       "      <td id=\"T_54f1f_row24_col9\" class=\"data row24 col9\" >0.529412</td>\n",
       "      <td id=\"T_54f1f_row24_col10\" class=\"data row24 col10\" >0.517647</td>\n",
       "      <td id=\"T_54f1f_row24_col11\" class=\"data row24 col11\" >0.062745</td>\n",
       "      <td id=\"T_54f1f_row24_col12\" class=\"data row24 col12\" >0.000000</td>\n",
       "      <td id=\"T_54f1f_row24_col13\" class=\"data row24 col13\" >0.000000</td>\n",
       "      <td id=\"T_54f1f_row24_col14\" class=\"data row24 col14\" >0.000000</td>\n",
       "      <td id=\"T_54f1f_row24_col15\" class=\"data row24 col15\" >0.000000</td>\n",
       "      <td id=\"T_54f1f_row24_col16\" class=\"data row24 col16\" >0.000000</td>\n",
       "      <td id=\"T_54f1f_row24_col17\" class=\"data row24 col17\" >0.000000</td>\n",
       "      <td id=\"T_54f1f_row24_col18\" class=\"data row24 col18\" >0.000000</td>\n",
       "      <td id=\"T_54f1f_row24_col19\" class=\"data row24 col19\" >0.000000</td>\n",
       "      <td id=\"T_54f1f_row24_col20\" class=\"data row24 col20\" >0.000000</td>\n",
       "      <td id=\"T_54f1f_row24_col21\" class=\"data row24 col21\" >0.000000</td>\n",
       "      <td id=\"T_54f1f_row24_col22\" class=\"data row24 col22\" >0.000000</td>\n",
       "      <td id=\"T_54f1f_row24_col23\" class=\"data row24 col23\" >0.000000</td>\n",
       "      <td id=\"T_54f1f_row24_col24\" class=\"data row24 col24\" >0.000000</td>\n",
       "      <td id=\"T_54f1f_row24_col25\" class=\"data row24 col25\" >0.000000</td>\n",
       "      <td id=\"T_54f1f_row24_col26\" class=\"data row24 col26\" >0.000000</td>\n",
       "      <td id=\"T_54f1f_row24_col27\" class=\"data row24 col27\" >0.000000</td>\n",
       "    </tr>\n",
       "    <tr>\n",
       "      <th id=\"T_54f1f_level0_row25\" class=\"row_heading level0 row25\" >25</th>\n",
       "      <td id=\"T_54f1f_row25_col0\" class=\"data row25 col0\" >0.000000</td>\n",
       "      <td id=\"T_54f1f_row25_col1\" class=\"data row25 col1\" >0.000000</td>\n",
       "      <td id=\"T_54f1f_row25_col2\" class=\"data row25 col2\" >0.000000</td>\n",
       "      <td id=\"T_54f1f_row25_col3\" class=\"data row25 col3\" >0.000000</td>\n",
       "      <td id=\"T_54f1f_row25_col4\" class=\"data row25 col4\" >0.000000</td>\n",
       "      <td id=\"T_54f1f_row25_col5\" class=\"data row25 col5\" >0.000000</td>\n",
       "      <td id=\"T_54f1f_row25_col6\" class=\"data row25 col6\" >0.000000</td>\n",
       "      <td id=\"T_54f1f_row25_col7\" class=\"data row25 col7\" >0.000000</td>\n",
       "      <td id=\"T_54f1f_row25_col8\" class=\"data row25 col8\" >0.000000</td>\n",
       "      <td id=\"T_54f1f_row25_col9\" class=\"data row25 col9\" >0.000000</td>\n",
       "      <td id=\"T_54f1f_row25_col10\" class=\"data row25 col10\" >0.000000</td>\n",
       "      <td id=\"T_54f1f_row25_col11\" class=\"data row25 col11\" >0.000000</td>\n",
       "      <td id=\"T_54f1f_row25_col12\" class=\"data row25 col12\" >0.000000</td>\n",
       "      <td id=\"T_54f1f_row25_col13\" class=\"data row25 col13\" >0.000000</td>\n",
       "      <td id=\"T_54f1f_row25_col14\" class=\"data row25 col14\" >0.000000</td>\n",
       "      <td id=\"T_54f1f_row25_col15\" class=\"data row25 col15\" >0.000000</td>\n",
       "      <td id=\"T_54f1f_row25_col16\" class=\"data row25 col16\" >0.000000</td>\n",
       "      <td id=\"T_54f1f_row25_col17\" class=\"data row25 col17\" >0.000000</td>\n",
       "      <td id=\"T_54f1f_row25_col18\" class=\"data row25 col18\" >0.000000</td>\n",
       "      <td id=\"T_54f1f_row25_col19\" class=\"data row25 col19\" >0.000000</td>\n",
       "      <td id=\"T_54f1f_row25_col20\" class=\"data row25 col20\" >0.000000</td>\n",
       "      <td id=\"T_54f1f_row25_col21\" class=\"data row25 col21\" >0.000000</td>\n",
       "      <td id=\"T_54f1f_row25_col22\" class=\"data row25 col22\" >0.000000</td>\n",
       "      <td id=\"T_54f1f_row25_col23\" class=\"data row25 col23\" >0.000000</td>\n",
       "      <td id=\"T_54f1f_row25_col24\" class=\"data row25 col24\" >0.000000</td>\n",
       "      <td id=\"T_54f1f_row25_col25\" class=\"data row25 col25\" >0.000000</td>\n",
       "      <td id=\"T_54f1f_row25_col26\" class=\"data row25 col26\" >0.000000</td>\n",
       "      <td id=\"T_54f1f_row25_col27\" class=\"data row25 col27\" >0.000000</td>\n",
       "    </tr>\n",
       "    <tr>\n",
       "      <th id=\"T_54f1f_level0_row26\" class=\"row_heading level0 row26\" >26</th>\n",
       "      <td id=\"T_54f1f_row26_col0\" class=\"data row26 col0\" >0.000000</td>\n",
       "      <td id=\"T_54f1f_row26_col1\" class=\"data row26 col1\" >0.000000</td>\n",
       "      <td id=\"T_54f1f_row26_col2\" class=\"data row26 col2\" >0.000000</td>\n",
       "      <td id=\"T_54f1f_row26_col3\" class=\"data row26 col3\" >0.000000</td>\n",
       "      <td id=\"T_54f1f_row26_col4\" class=\"data row26 col4\" >0.000000</td>\n",
       "      <td id=\"T_54f1f_row26_col5\" class=\"data row26 col5\" >0.000000</td>\n",
       "      <td id=\"T_54f1f_row26_col6\" class=\"data row26 col6\" >0.000000</td>\n",
       "      <td id=\"T_54f1f_row26_col7\" class=\"data row26 col7\" >0.000000</td>\n",
       "      <td id=\"T_54f1f_row26_col8\" class=\"data row26 col8\" >0.000000</td>\n",
       "      <td id=\"T_54f1f_row26_col9\" class=\"data row26 col9\" >0.000000</td>\n",
       "      <td id=\"T_54f1f_row26_col10\" class=\"data row26 col10\" >0.000000</td>\n",
       "      <td id=\"T_54f1f_row26_col11\" class=\"data row26 col11\" >0.000000</td>\n",
       "      <td id=\"T_54f1f_row26_col12\" class=\"data row26 col12\" >0.000000</td>\n",
       "      <td id=\"T_54f1f_row26_col13\" class=\"data row26 col13\" >0.000000</td>\n",
       "      <td id=\"T_54f1f_row26_col14\" class=\"data row26 col14\" >0.000000</td>\n",
       "      <td id=\"T_54f1f_row26_col15\" class=\"data row26 col15\" >0.000000</td>\n",
       "      <td id=\"T_54f1f_row26_col16\" class=\"data row26 col16\" >0.000000</td>\n",
       "      <td id=\"T_54f1f_row26_col17\" class=\"data row26 col17\" >0.000000</td>\n",
       "      <td id=\"T_54f1f_row26_col18\" class=\"data row26 col18\" >0.000000</td>\n",
       "      <td id=\"T_54f1f_row26_col19\" class=\"data row26 col19\" >0.000000</td>\n",
       "      <td id=\"T_54f1f_row26_col20\" class=\"data row26 col20\" >0.000000</td>\n",
       "      <td id=\"T_54f1f_row26_col21\" class=\"data row26 col21\" >0.000000</td>\n",
       "      <td id=\"T_54f1f_row26_col22\" class=\"data row26 col22\" >0.000000</td>\n",
       "      <td id=\"T_54f1f_row26_col23\" class=\"data row26 col23\" >0.000000</td>\n",
       "      <td id=\"T_54f1f_row26_col24\" class=\"data row26 col24\" >0.000000</td>\n",
       "      <td id=\"T_54f1f_row26_col25\" class=\"data row26 col25\" >0.000000</td>\n",
       "      <td id=\"T_54f1f_row26_col26\" class=\"data row26 col26\" >0.000000</td>\n",
       "      <td id=\"T_54f1f_row26_col27\" class=\"data row26 col27\" >0.000000</td>\n",
       "    </tr>\n",
       "    <tr>\n",
       "      <th id=\"T_54f1f_level0_row27\" class=\"row_heading level0 row27\" >27</th>\n",
       "      <td id=\"T_54f1f_row27_col0\" class=\"data row27 col0\" >0.000000</td>\n",
       "      <td id=\"T_54f1f_row27_col1\" class=\"data row27 col1\" >0.000000</td>\n",
       "      <td id=\"T_54f1f_row27_col2\" class=\"data row27 col2\" >0.000000</td>\n",
       "      <td id=\"T_54f1f_row27_col3\" class=\"data row27 col3\" >0.000000</td>\n",
       "      <td id=\"T_54f1f_row27_col4\" class=\"data row27 col4\" >0.000000</td>\n",
       "      <td id=\"T_54f1f_row27_col5\" class=\"data row27 col5\" >0.000000</td>\n",
       "      <td id=\"T_54f1f_row27_col6\" class=\"data row27 col6\" >0.000000</td>\n",
       "      <td id=\"T_54f1f_row27_col7\" class=\"data row27 col7\" >0.000000</td>\n",
       "      <td id=\"T_54f1f_row27_col8\" class=\"data row27 col8\" >0.000000</td>\n",
       "      <td id=\"T_54f1f_row27_col9\" class=\"data row27 col9\" >0.000000</td>\n",
       "      <td id=\"T_54f1f_row27_col10\" class=\"data row27 col10\" >0.000000</td>\n",
       "      <td id=\"T_54f1f_row27_col11\" class=\"data row27 col11\" >0.000000</td>\n",
       "      <td id=\"T_54f1f_row27_col12\" class=\"data row27 col12\" >0.000000</td>\n",
       "      <td id=\"T_54f1f_row27_col13\" class=\"data row27 col13\" >0.000000</td>\n",
       "      <td id=\"T_54f1f_row27_col14\" class=\"data row27 col14\" >0.000000</td>\n",
       "      <td id=\"T_54f1f_row27_col15\" class=\"data row27 col15\" >0.000000</td>\n",
       "      <td id=\"T_54f1f_row27_col16\" class=\"data row27 col16\" >0.000000</td>\n",
       "      <td id=\"T_54f1f_row27_col17\" class=\"data row27 col17\" >0.000000</td>\n",
       "      <td id=\"T_54f1f_row27_col18\" class=\"data row27 col18\" >0.000000</td>\n",
       "      <td id=\"T_54f1f_row27_col19\" class=\"data row27 col19\" >0.000000</td>\n",
       "      <td id=\"T_54f1f_row27_col20\" class=\"data row27 col20\" >0.000000</td>\n",
       "      <td id=\"T_54f1f_row27_col21\" class=\"data row27 col21\" >0.000000</td>\n",
       "      <td id=\"T_54f1f_row27_col22\" class=\"data row27 col22\" >0.000000</td>\n",
       "      <td id=\"T_54f1f_row27_col23\" class=\"data row27 col23\" >0.000000</td>\n",
       "      <td id=\"T_54f1f_row27_col24\" class=\"data row27 col24\" >0.000000</td>\n",
       "      <td id=\"T_54f1f_row27_col25\" class=\"data row27 col25\" >0.000000</td>\n",
       "      <td id=\"T_54f1f_row27_col26\" class=\"data row27 col26\" >0.000000</td>\n",
       "      <td id=\"T_54f1f_row27_col27\" class=\"data row27 col27\" >0.000000</td>\n",
       "    </tr>\n",
       "  </tbody>\n",
       "</table>\n"
      ],
      "text/plain": [
       "<pandas.io.formats.style.Styler at 0x112182910>"
      ]
     },
     "execution_count": 9,
     "metadata": {},
     "output_type": "execute_result"
    }
   ],
   "source": [
    "import pandas as pd\n",
    "\n",
    "df = pd.DataFrame(torch.squeeze(train_dataset[0][0]))\n",
    "df.style.set_properties(**{'font-size':'6-pt'}).background_gradient('Greys')"
   ]
  },
  {
   "cell_type": "markdown",
   "metadata": {
    "id": "X9Yy0dMn5Apd"
   },
   "source": [
    "Lets see how many examples of each digit the training set contains."
   ]
  },
  {
   "cell_type": "code",
   "execution_count": 10,
   "metadata": {
    "colab": {
     "base_uri": "https://localhost:8080/"
    },
    "id": "tdG500HYxnLb",
    "outputId": "998fc7dc-88c5-4975-fc60-9d6b3bcb2461"
   },
   "outputs": [
    {
     "name": "stdout",
     "output_type": "stream",
     "text": [
      "0 has 5923 samples\n",
      "1 has 6742 samples\n",
      "2 has 5958 samples\n",
      "3 has 6131 samples\n",
      "4 has 5842 samples\n",
      "5 has 5421 samples\n",
      "6 has 5918 samples\n",
      "7 has 6265 samples\n",
      "8 has 5851 samples\n",
      "9 has 5949 samples\n"
     ]
    }
   ],
   "source": [
    "digit_indices = {y: [] for y in range(10)}\n",
    "[digit_indices[y].append(i) for i, (x, y) in enumerate(train_dataset)]\n",
    "\n",
    "for i in range(10):\n",
    "  print(i, 'has', len(digit_indices[i]), 'samples')"
   ]
  },
  {
   "cell_type": "markdown",
   "metadata": {
    "id": "nFOsDZOK9PM_"
   },
   "source": [
    "Lets see an example of each digit."
   ]
  },
  {
   "cell_type": "code",
   "execution_count": 11,
   "metadata": {
    "colab": {
     "base_uri": "https://localhost:8080/"
    },
    "id": "hZ24JgIU2Zws",
    "outputId": "1945a756-5d05-4549-b948-87963862c3a7"
   },
   "outputs": [
    {
     "data": {
      "image/png": "[encoded data removed]",
      "text/plain": [
       "<Figure size 640x480 with 10 Axes>"
      ]
     },
     "metadata": {},
     "output_type": "display_data"
    }
   ],
   "source": [
    "import matplotlib.pyplot as plt\n",
    "\n",
    "for i in range(10):\n",
    "  plt.subplot(2, 5, i + 1)\n",
    "  plt.imshow(torch.squeeze(train_dataset[digit_indices[i][0]][0]), cmap=plt.get_cmap('gray'))\n",
    "plt.show()"
   ]
  },
  {
   "cell_type": "markdown",
   "metadata": {
    "id": "4g71U2-puXNY"
   },
   "source": [
    "### Create a validation dataset"
   ]
  },
  {
   "cell_type": "code",
   "execution_count": 12,
   "metadata": {
    "id": "DHff2aN3Esg1"
   },
   "outputs": [],
   "source": [
    "import numpy as np\n",
    "\n",
    "validation_frac = 0.2\n",
    "num_samples = len(train_dataset)\n",
    "split_idx = int(np.floor((1 - validation_frac) * num_samples))\n",
    "train_idx = np.arange(split_idx)\n",
    "valid_idx = np.arange(split_idx, num_samples)"
   ]
  },
  {
   "cell_type": "code",
   "execution_count": 13,
   "metadata": {
    "id": "EEgdkq7HuTpG"
   },
   "outputs": [],
   "source": [
    "train_data = Subset(train_dataset, train_idx)\n",
    "valid_data = Subset(train_dataset, valid_idx)\n",
    "\n",
    "train_data_flat = Subset(train_dataset_flattened, train_idx)\n",
    "valid_data_flat = Subset(train_dataset_flattened, valid_idx)"
   ]
  },
  {
   "cell_type": "markdown",
   "metadata": {
    "id": "7DDltK9WVkBh"
   },
   "source": [
    "### Load Datasets into DataLoaders"
   ]
  },
  {
   "cell_type": "markdown",
   "metadata": {
    "id": "5kU5ozFPV348"
   },
   "source": [
    "`torch.utils.data.Dataset` and `torch.util.data.DataLoader` are the two primitives used in PyTorch to decouple pre-loaded data and data for model training.\n",
    "\n",
    "Datasets, as we saw above, store inputs and their labels, and its elements can be accessed like with a Python dictionary.\n",
    "\n",
    "DataLoaders, on the other hand, are more useful when training a model.\n",
    "\n",
    "> \"We typically want to pass samples in “minibatches”, reshuffle the data at every epoch to reduce model overfitting, and use Python’s multiprocessing to speed up data retrieval.\n",
    ">\n",
    "> DataLoader is an iterable that abstracts this complexity for us in an easy API.\"\n",
    "\n",
    "Source: [PyTorch data tutorial](https://pytorch.org/tutorials/beginner/basics/data_tutorial.html)\n",
    "\n",
    "One aspect of DataLoaders to keep in mind is the batch size parameter. Batch size can be dependent on dataset and architecture, both in terms of training stability and in terms of memory capacity. A larger batch size results in more stable training since the variance in gradient estimation per batch is reduced. However a larger batch size can cause the GPU to run out of memory.\n",
    "\n",
    "We start experimenting with a batch size that is the length of the entire dataset and update it below for different approaches as needed. Note for our first baseline that no gradients are computed so batch size has no influence on \"convergence speed.\""
   ]
  },
  {
   "cell_type": "code",
   "execution_count": 14,
   "metadata": {
    "id": "1VjhFRGaj4Xh"
   },
   "outputs": [],
   "source": [
    "train_dataloader = DataLoader(train_data, batch_size=len(train_data), shuffle=True)\n",
    "valid_dataloader = DataLoader(valid_data, batch_size=len(valid_data), shuffle=True)\n",
    "test_dataloader = DataLoader(test_dataset, batch_size=len(test_dataset), shuffle=True)"
   ]
  },
  {
   "cell_type": "markdown",
   "metadata": {
    "id": "JetgWr0ra9CY"
   },
   "source": [
    "### Pixel Similarity baseline model"
   ]
  },
  {
   "cell_type": "markdown",
   "metadata": {
    "id": "UIdL9sbWtuo3"
   },
   "source": [
    "Our first model takes a non-ML approach in favor of a straightforward elementwise pixel to pixel comparison per image. We compare a sample image to a mean image for each digit. The mean image is computed by averaging over the training examples per digit."
   ]
  },
  {
   "cell_type": "markdown",
   "metadata": {
    "id": "ehEnWoS0-wcv"
   },
   "source": [
    "##### calculate mean image per digit"
   ]
  },
  {
   "cell_type": "code",
   "execution_count": 15,
   "metadata": {
    "id": "dbqwSboY9-f0"
   },
   "outputs": [],
   "source": [
    "train_data_by_digit = {}\n",
    "valid_data_by_digit = {}\n",
    "\n",
    "for i in range(10):\n",
    "  train_data_by_digit[i] = \\\n",
    "    torch.stack([sample[0] for sample in Subset(train_dataset, list(filter(lambda x: x < split_idx, digit_indices[i])))])\n",
    "  valid_data_by_digit[i] = \\\n",
    "    torch.stack([sample[0] for sample in Subset(train_dataset, list(filter(lambda x: x >= split_idx, digit_indices[i])))])"
   ]
  },
  {
   "cell_type": "code",
   "execution_count": 16,
   "metadata": {
    "id": "wRxwiQsVmLTF"
   },
   "outputs": [],
   "source": [
    "digit_means = {y: torch.Tensor() for y in range(10)}\n",
    "for i in range(10):\n",
    "  digit_means[i] = train_data_by_digit[i].mean(axis=0)"
   ]
  },
  {
   "cell_type": "code",
   "execution_count": 17,
   "metadata": {
    "colab": {
     "base_uri": "https://localhost:8080/"
    },
    "id": "lj1-j40s6TFn",
    "outputId": "f778b229-b64d-4151-b830-092a71f2115f"
   },
   "outputs": [
    {
     "data": {
      "image/png": "[encoded data removed]",
      "text/plain": [
       "<Figure size 640x480 with 10 Axes>"
      ]
     },
     "metadata": {},
     "output_type": "display_data"
    }
   ],
   "source": [
    "for i in range(10):\n",
    "  plt.subplot(2, 5, i + 1)\n",
    "  plt.imshow(torch.squeeze(digit_means[i]), cmap=plt.get_cmap('gray'))\n",
    "plt.show()"
   ]
  },
  {
   "cell_type": "markdown",
   "metadata": {
    "id": "OXxg4g2J-mrg"
   },
   "source": [
    "##### make predictions"
   ]
  },
  {
   "cell_type": "code",
   "execution_count": 18,
   "metadata": {
    "id": "doNJJSJbnHxP"
   },
   "outputs": [],
   "source": [
    "import torch.nn.functional as F\n",
    "\n",
    "def predict(sample):\n",
    "  # choose the digit whose mean image is closest to the sample\n",
    "  return torch.argmin(torch.tensor([F.l1_loss(sample, torch.squeeze(digit_means[i])) for i in range(10)]))\n",
    "\n",
    "def predict_batch(samples):\n",
    "  return torch.tensor([predict(torch.squeeze(sample)) for sample in samples])"
   ]
  },
  {
   "cell_type": "code",
   "execution_count": 19,
   "metadata": {
    "id": "Nu7tYn4v9K-b"
   },
   "outputs": [],
   "source": [
    "preds = torch.empty(0)\n",
    "labels = torch.empty(0)\n",
    "for batch in test_dataloader:\n",
    "  images, ls = batch\n",
    "  preds = torch.cat((preds, predict_batch(images)), dim = 0)\n",
    "  labels = torch.cat((labels, ls), dim = 0)"
   ]
  },
  {
   "cell_type": "markdown",
   "metadata": {
    "id": "7mTXsxZD9Dqe"
   },
   "source": [
    "##### results and confusion matrix"
   ]
  },
  {
   "cell_type": "code",
   "execution_count": 20,
   "metadata": {
    "colab": {
     "base_uri": "https://localhost:8080/"
    },
    "id": "mNH8MjTWB8jN",
    "outputId": "efd8510e-93f1-41dd-ac68-12bfcdcabd7b"
   },
   "outputs": [
    {
     "name": "stdout",
     "output_type": "stream",
     "text": [
      "tensor(0.6673)\n"
     ]
    }
   ],
   "source": [
    "accuracy = torch.sum(torch.eq(labels, preds)) / len(labels)\n",
    "print(accuracy)"
   ]
  },
  {
   "cell_type": "code",
   "execution_count": 22,
   "metadata": {
    "colab": {
     "base_uri": "https://localhost:8080/",
     "height": 847
    },
    "id": "8CIqeB8iGBeN",
    "outputId": "437fa577-9f0d-4434-f986-8e9f83fd60f7"
   },
   "outputs": [
    {
     "data": {
      "text/plain": [
       "<Axes: >"
      ]
     },
     "execution_count": 22,
     "metadata": {},
     "output_type": "execute_result"
    },
    {
     "data": {
      "image/png": "[encoded data removed]",
      "text/plain": [
       "<Figure size 1000x1000 with 2 Axes>"
      ]
     },
     "metadata": {},
     "output_type": "display_data"
    }
   ],
   "source": [
    "from sklearn.metrics import confusion_matrix\n",
    "import seaborn as sn\n",
    "\n",
    "cf_matrix = confusion_matrix(labels, preds)\n",
    "df_cm = pd.DataFrame(cf_matrix / np.sum(cf_matrix, axis=1)[:, None], index = [i for i in range(10)],\n",
    "                     columns = [i for i in range(10)])\n",
    "\n",
    "plt.figure(figsize = (10,10))\n",
    "sn.heatmap(df_cm, annot=True)"
   ]
  },
  {
   "cell_type": "markdown",
   "metadata": {
    "id": "aW89c8KDp07y"
   },
   "source": [
    "### Learner class from scratch\n",
    "\n",
    "7 step process:\n",
    "1) Initialize params\n",
    "2) Calculate predictions\n",
    "3) Calculate the loss\n",
    "4) Calculate the gradients\n",
    "5) Step the parameters\n",
    "6) Repeat the process\n",
    "7) Stop\n"
   ]
  },
  {
   "cell_type": "code",
   "execution_count": 23,
   "metadata": {
    "id": "Wb3ORrMe9-Kz"
   },
   "outputs": [],
   "source": [
    "class DataLoaders:\n",
    "  def __init__(self, train_dataloader, valid_dataloader):\n",
    "    self.train_dataloader = train_dataloader\n",
    "    self.valid_dataloader = valid_dataloader\n",
    "\n",
    "  def train_dl(self):\n",
    "    return self.train_dataloader\n",
    "\n",
    "  def valid_dl(self):\n",
    "    return self.valid_dataloader"
   ]
  },
  {
   "cell_type": "code",
   "execution_count": 24,
   "metadata": {
    "id": "TMsBUg14JYx3"
   },
   "outputs": [],
   "source": [
    "class Learner:\n",
    "  def __init__(self, dataloaders, model, optimizer, loss_func, metric, scheduler=None):\n",
    "    self.dataloaders = dataloaders\n",
    "    self.model = model\n",
    "    self.optimizer = optimizer\n",
    "    self.loss_func = loss_func\n",
    "    self.metric = metric\n",
    "    self.scheduler = scheduler\n",
    "    self.val_losses = []\n",
    "\n",
    "  def fit(self, epochs):\n",
    "    for epoch in range(epochs):\n",
    "      print(\"---- epoch: \", epoch, \"/\", epochs - 1, \" ----\")\n",
    "\n",
    "      self.model.train()\n",
    "      train_loss = 0.\n",
    "      for (train_features, train_labels) in self.dataloaders.train_dl():\n",
    "        preds = self.model(train_features)\n",
    "        loss = self.loss_func(preds, train_labels)\n",
    "        train_loss += loss\n",
    "        loss.backward()\n",
    "        self.optimizer.step()\n",
    "        self.optimizer.zero_grad()\n",
    "        if self.scheduler:\n",
    "          self.scheduler.step()\n",
    "      print(\"avg training loss: \", train_loss / len(self.dataloaders.train_dl()))\n",
    "\n",
    "      self.model.eval()\n",
    "      with torch.no_grad():\n",
    "        # We evaluate on the entire validation dataset\n",
    "        val_preds = []\n",
    "        val_labels = []\n",
    "        for (val_features, val_ls) in self.dataloaders.valid_dl():\n",
    "          val_preds.append(self.model(val_features))\n",
    "          val_labels.append(val_ls)\n",
    "        val_preds = torch.squeeze(torch.stack(val_preds, dim=0))\n",
    "        val_labels = torch.squeeze(torch.stack(val_labels, dim=0))\n",
    "        val_loss = self.loss_func(val_preds, val_labels)\n",
    "        print(\"validation loss: \", val_loss)\n",
    "        print(\"metric: \", self.metric(val_preds, val_labels))\n",
    "\n",
    "        # Early stopping\n",
    "        self.val_losses.append(val_loss)\n",
    "        if len(self.val_losses) > 2 and self.val_losses[-1] > self.val_losses[-2] and self.val_losses[-2] > self.val_losses[-3]:\n",
    "          print(\"stopping condition met\")\n",
    "          break"
   ]
  },
  {
   "cell_type": "markdown",
   "metadata": {
    "id": "PUqOPDAOxYnb"
   },
   "source": [
    "### Train a linear model"
   ]
  },
  {
   "cell_type": "markdown",
   "metadata": {
    "id": "UV-4brN04_PZ"
   },
   "source": [
    "Now that we have a Learner class, we can train a linear model for sanity checking and to get another baseline. We still need a few concrete components in order to train: an architecture, an optimizer, and a loss function. We also add in a metric to be more human-friendly. Additionally, with a Linear model, we need to work with flattened data. We use the flattened dataset that was prepared above."
   ]
  },
  {
   "cell_type": "code",
   "execution_count": 25,
   "metadata": {
    "id": "NNJnmeEr_SPI"
   },
   "outputs": [],
   "source": [
    "bs = 64\n",
    "lr = 1e-1"
   ]
  },
  {
   "cell_type": "code",
   "execution_count": 26,
   "metadata": {
    "id": "tTjmkJGJOJnd"
   },
   "outputs": [],
   "source": [
    "train_dataloader = DataLoader(train_data_flat, batch_size=bs, shuffle=True, drop_last=True)\n",
    "valid_dataloader = DataLoader(valid_data_flat, batch_size=len(valid_data), shuffle=True)\n",
    "test_dataloader = DataLoader(test_dataset_flattened, batch_size=len(test_dataset_flattened), shuffle=True)\n",
    "\n",
    "dls = DataLoaders(train_dataloader, valid_dataloader)"
   ]
  },
  {
   "cell_type": "code",
   "execution_count": 27,
   "metadata": {
    "colab": {
     "base_uri": "https://localhost:8080/"
    },
    "id": "7gGsxR8BMiJL",
    "outputId": "4dc4ab09-c026-458e-83ff-6ee2e85359b5"
   },
   "outputs": [
    {
     "data": {
      "text/plain": [
       "[tensor([[0., 0., 0.,  ..., 0., 0., 0.],\n",
       "         [0., 0., 0.,  ..., 0., 0., 0.],\n",
       "         [0., 0., 0.,  ..., 0., 0., 0.],\n",
       "         ...,\n",
       "         [0., 0., 0.,  ..., 0., 0., 0.],\n",
       "         [0., 0., 0.,  ..., 0., 0., 0.],\n",
       "         [0., 0., 0.,  ..., 0., 0., 0.]]),\n",
       " tensor([6, 4, 7, 5, 5, 4, 3, 0, 6, 5, 4, 8, 4, 2, 8, 1, 8, 3, 4, 5, 0, 8, 6, 2,\n",
       "         9, 7, 8, 2, 3, 3, 1, 3, 0, 8, 8, 4, 3, 3, 0, 7, 5, 0, 6, 8, 0, 0, 6, 6,\n",
       "         7, 9, 2, 1, 7, 3, 0, 3, 6, 7, 1, 9, 5, 3, 1, 0])]"
      ]
     },
     "execution_count": 27,
     "metadata": {},
     "output_type": "execute_result"
    }
   ],
   "source": [
    "next(iter(train_dataloader))"
   ]
  },
  {
   "cell_type": "code",
   "execution_count": 28,
   "metadata": {
    "id": "BXOdsyIG3KTI"
   },
   "outputs": [],
   "source": [
    "model = torch.nn.Linear(28*28,10)\n",
    "optimizer = torch.optim.SGD(model.parameters(), lr=lr)\n",
    "loss_func = torch.nn.CrossEntropyLoss()"
   ]
  },
  {
   "cell_type": "code",
   "execution_count": 29,
   "metadata": {
    "id": "v6wUWqMeTSZt"
   },
   "outputs": [],
   "source": [
    "def digit_accuracy(preds, labels):\n",
    "  return (torch.argmax(preds, axis=1) == labels).float().mean()"
   ]
  },
  {
   "cell_type": "code",
   "execution_count": 30,
   "metadata": {
    "id": "eEg2z6O496eP"
   },
   "outputs": [],
   "source": [
    "learner = Learner(dls, model, optimizer, loss_func, digit_accuracy)"
   ]
  },
  {
   "cell_type": "code",
   "execution_count": 31,
   "metadata": {
    "colab": {
     "base_uri": "https://localhost:8080/"
    },
    "id": "9dTosBmZ_qu4",
    "outputId": "8038e66d-a0d5-4a6d-bee0-0b82138648c8"
   },
   "outputs": [
    {
     "name": "stdout",
     "output_type": "stream",
     "text": [
      "---- epoch:  0 / 0  ----\n",
      "avg training loss:  tensor(0.5105, grad_fn=<DivBackward0>)\n",
      "validation loss:  tensor(0.3485)\n",
      "metric:  tensor(0.9063)\n"
     ]
    }
   ],
   "source": [
    "learner.fit(1)"
   ]
  },
  {
   "cell_type": "code",
   "execution_count": 32,
   "metadata": {
    "colab": {
     "base_uri": "https://localhost:8080/"
    },
    "id": "rhLTYY54hXiS",
    "outputId": "ec47a3c3-82ea-4a40-a9d7-8cda0201b756"
   },
   "outputs": [
    {
     "name": "stdout",
     "output_type": "stream",
     "text": [
      "test accuracy:  tensor(0.9065)\n"
     ]
    }
   ],
   "source": [
    "test_feats, test_labels = next(iter(test_dataloader))\n",
    "preds = model(test_feats)\n",
    "print(\"test accuracy: \", digit_accuracy(preds, test_labels))"
   ]
  },
  {
   "cell_type": "markdown",
   "metadata": {
    "id": "jJl13J48qgqy"
   },
   "source": [
    "### Train a feed-forward network model"
   ]
  },
  {
   "cell_type": "code",
   "execution_count": 33,
   "metadata": {
    "id": "SNU3s9_zhGSY"
   },
   "outputs": [],
   "source": [
    "ffn_model = torch.nn.Sequential(torch.nn.Linear(28*28, 64),\n",
    "                                torch.nn.ReLU(),\n",
    "                                torch.nn.Linear(64, 10)\n",
    "                               )\n",
    "\n",
    "lr = 1e-1\n",
    "ffn_optimizer = torch.optim.SGD(ffn_model.parameters(), lr=lr)"
   ]
  },
  {
   "cell_type": "code",
   "execution_count": 34,
   "metadata": {
    "colab": {
     "base_uri": "https://localhost:8080/"
    },
    "id": "8zBJNNXDtFch",
    "outputId": "f0ed643a-f325-4b14-e3f3-0d8cd2db37df"
   },
   "outputs": [
    {
     "name": "stdout",
     "output_type": "stream",
     "text": [
      "---- epoch:  0 / 9  ----\n",
      "avg training loss:  tensor(0.4878, grad_fn=<DivBackward0>)\n",
      "validation loss:  tensor(0.2750)\n",
      "metric:  tensor(0.9197)\n",
      "---- epoch:  1 / 9  ----\n",
      "avg training loss:  tensor(0.2544, grad_fn=<DivBackward0>)\n",
      "validation loss:  tensor(0.2246)\n",
      "metric:  tensor(0.9354)\n",
      "---- epoch:  2 / 9  ----\n",
      "avg training loss:  tensor(0.2006, grad_fn=<DivBackward0>)\n",
      "validation loss:  tensor(0.1842)\n",
      "metric:  tensor(0.9498)\n",
      "---- epoch:  3 / 9  ----\n",
      "avg training loss:  tensor(0.1664, grad_fn=<DivBackward0>)\n",
      "validation loss:  tensor(0.1586)\n",
      "metric:  tensor(0.9557)\n",
      "---- epoch:  4 / 9  ----\n",
      "avg training loss:  tensor(0.1429, grad_fn=<DivBackward0>)\n",
      "validation loss:  tensor(0.1455)\n",
      "metric:  tensor(0.9603)\n",
      "---- epoch:  5 / 9  ----\n",
      "avg training loss:  tensor(0.1257, grad_fn=<DivBackward0>)\n",
      "validation loss:  tensor(0.1348)\n",
      "metric:  tensor(0.9604)\n",
      "---- epoch:  6 / 9  ----\n",
      "avg training loss:  tensor(0.1118, grad_fn=<DivBackward0>)\n",
      "validation loss:  tensor(0.1280)\n",
      "metric:  tensor(0.9630)\n",
      "---- epoch:  7 / 9  ----\n",
      "avg training loss:  tensor(0.1015, grad_fn=<DivBackward0>)\n",
      "validation loss:  tensor(0.1214)\n",
      "metric:  tensor(0.9647)\n",
      "---- epoch:  8 / 9  ----\n",
      "avg training loss:  tensor(0.0919, grad_fn=<DivBackward0>)\n",
      "validation loss:  tensor(0.1220)\n",
      "metric:  tensor(0.9635)\n",
      "---- epoch:  9 / 9  ----\n",
      "avg training loss:  tensor(0.0843, grad_fn=<DivBackward0>)\n",
      "validation loss:  tensor(0.1135)\n",
      "metric:  tensor(0.9672)\n"
     ]
    }
   ],
   "source": [
    "learner = Learner(dls, ffn_model, ffn_optimizer, loss_func, digit_accuracy)\n",
    "learner.fit(10)"
   ]
  },
  {
   "cell_type": "code",
   "execution_count": 35,
   "metadata": {
    "colab": {
     "base_uri": "https://localhost:8080/"
    },
    "id": "FLnDW3GVxYHl",
    "outputId": "fb5a375a-58c1-4b73-c8d3-ba53a670601e"
   },
   "outputs": [
    {
     "name": "stdout",
     "output_type": "stream",
     "text": [
      "test accuracy:  tensor(0.9701)\n"
     ]
    }
   ],
   "source": [
    "test_feats, test_labels = next(iter(test_dataloader))\n",
    "preds = ffn_model(test_feats)\n",
    "print(\"test accuracy: \", digit_accuracy(preds, test_labels))"
   ]
  },
  {
   "cell_type": "markdown",
   "metadata": {
    "id": "LUdKYuDOWcDr"
   },
   "source": [
    "That's decent accuracy, but we can do better and use fewer parameters by taking advantage of the spatial structure of an image!"
   ]
  },
  {
   "cell_type": "markdown",
   "metadata": {
    "id": "mh4zDhbzqkXY"
   },
   "source": [
    "### Train a CNN"
   ]
  },
  {
   "cell_type": "code",
   "execution_count": 36,
   "metadata": {
    "id": "9LjDFC-zRdYJ"
   },
   "outputs": [],
   "source": [
    "from torch import nn\n",
    "\n",
    "def conv(ni, nf, stride=2, ks=3):\n",
    "  return nn.Conv2d(ni, nf, kernel_size=ks, stride=stride, padding=ks // 2)"
   ]
  },
  {
   "cell_type": "code",
   "execution_count": 37,
   "metadata": {
    "id": "evCGlwXp7YC5"
   },
   "outputs": [],
   "source": [
    "simple_cnn_model = nn.Sequential(\n",
    "        conv(1 ,8, ks=5),        #14x14\n",
    "        nn.ReLU(),\n",
    "        conv(8 ,16),             #7x7\n",
    "        nn.ReLU(),\n",
    "        conv(16,32),             #4x4\n",
    "        nn.ReLU(),\n",
    "        conv(32,64),             #2x2\n",
    "        nn.ReLU(),\n",
    "        conv(64,10),             #1x1\n",
    "        nn.Flatten()\n",
    "        )\n",
    "simple_cnn_optimizer = torch.optim.SGD(simple_cnn_model.parameters(), lr=1e-2)"
   ]
  },
  {
   "cell_type": "code",
   "execution_count": 38,
   "metadata": {
    "id": "mko59ARPA51M"
   },
   "outputs": [],
   "source": [
    "bs = 128 # larger batch size means more stable training, but fewer opportunities to update parameters\n",
    "\n",
    "# Use the unflattened data\n",
    "train_dataloader = DataLoader(train_data, batch_size=bs, shuffle=True)\n",
    "valid_dataloader = DataLoader(valid_data, batch_size=len(valid_data), shuffle=True)\n",
    "test_dataloader = DataLoader(test_dataset, batch_size=len(test_dataset), shuffle=True)\n",
    "\n",
    "dls = DataLoaders(train_dataloader, valid_dataloader)"
   ]
  },
  {
   "cell_type": "code",
   "execution_count": 39,
   "metadata": {
    "colab": {
     "base_uri": "https://localhost:8080/",
     "height": 911
    },
    "id": "yCcDmeCgR-3t",
    "outputId": "bc00a86e-8c95-462f-e013-724897df0a38"
   },
   "outputs": [
    {
     "name": "stdout",
     "output_type": "stream",
     "text": [
      "---- epoch:  0 / 2  ----\n",
      "avg training loss:  tensor(2.3014, grad_fn=<DivBackward0>)\n",
      "validation loss:  tensor(2.3006)\n",
      "metric:  tensor(0.1060)\n",
      "---- epoch:  1 / 2  ----\n",
      "avg training loss:  tensor(2.2990, grad_fn=<DivBackward0>)\n",
      "validation loss:  tensor(2.2983)\n",
      "metric:  tensor(0.1060)\n",
      "---- epoch:  2 / 2  ----\n",
      "avg training loss:  tensor(2.2957, grad_fn=<DivBackward0>)\n",
      "validation loss:  tensor(2.2936)\n",
      "metric:  tensor(0.1060)\n"
     ]
    }
   ],
   "source": [
    "learner = Learner(dls, simple_cnn_model, simple_cnn_optimizer, torch.nn.CrossEntropyLoss(), digit_accuracy)\n",
    "learner.fit(3)"
   ]
  },
  {
   "cell_type": "markdown",
   "metadata": {
    "id": "kGlNZQquUCo3"
   },
   "source": [
    "Uh oh...the model doesn't train very well...we're going to need a few tricks."
   ]
  },
  {
   "cell_type": "markdown",
   "metadata": {
    "id": "IFpl_fQ9QFGp"
   },
   "source": [
    "### Train a performant CNN to achieve high accuracy on MNIST"
   ]
  },
  {
   "cell_type": "markdown",
   "metadata": {
    "id": "0ab7gnC6qEjJ"
   },
   "source": [
    "#### Learning rate scheduling: 1cycle training\n",
    "\n",
    "*   1cycle lr training allows us to stably use a much higher learning rate than other techniques\n",
    "\n"
   ]
  },
  {
   "cell_type": "code",
   "execution_count": 40,
   "metadata": {
    "id": "T4VE9LoVIwmB"
   },
   "outputs": [],
   "source": [
    "scheduler = torch.optim.lr_scheduler.OneCycleLR(simple_cnn_optimizer, max_lr=0.06, steps_per_epoch=len(train_dataloader), epochs=10)"
   ]
  },
  {
   "cell_type": "code",
   "execution_count": 41,
   "metadata": {
    "colab": {
     "base_uri": "https://localhost:8080/"
    },
    "id": "EnTw6gDGAqaX",
    "outputId": "d657fe21-fe79-4d4f-fc6a-4b6c887b64cf"
   },
   "outputs": [
    {
     "name": "stdout",
     "output_type": "stream",
     "text": [
      "---- epoch:  0 / 9  ----\n",
      "avg training loss:  tensor(1.3388, grad_fn=<DivBackward0>)\n",
      "validation loss:  tensor(0.2145)\n",
      "metric:  tensor(0.9356)\n",
      "---- epoch:  1 / 9  ----\n",
      "avg training loss:  tensor(0.1783, grad_fn=<DivBackward0>)\n",
      "validation loss:  tensor(0.1195)\n",
      "metric:  tensor(0.9630)\n",
      "---- epoch:  2 / 9  ----\n",
      "avg training loss:  tensor(0.1070, grad_fn=<DivBackward0>)\n",
      "validation loss:  tensor(0.1086)\n",
      "metric:  tensor(0.9668)\n",
      "---- epoch:  3 / 9  ----\n",
      "avg training loss:  tensor(0.0745, grad_fn=<DivBackward0>)\n",
      "validation loss:  tensor(0.0813)\n",
      "metric:  tensor(0.9746)\n",
      "---- epoch:  4 / 9  ----\n",
      "avg training loss:  tensor(0.0585, grad_fn=<DivBackward0>)\n",
      "validation loss:  tensor(0.0750)\n",
      "metric:  tensor(0.9786)\n",
      "---- epoch:  5 / 9  ----\n",
      "avg training loss:  tensor(0.0452, grad_fn=<DivBackward0>)\n",
      "validation loss:  tensor(0.0807)\n",
      "metric:  tensor(0.9772)\n",
      "---- epoch:  6 / 9  ----\n",
      "avg training loss:  tensor(0.0346, grad_fn=<DivBackward0>)\n",
      "validation loss:  tensor(0.0608)\n",
      "metric:  tensor(0.9822)\n",
      "---- epoch:  7 / 9  ----\n",
      "avg training loss:  tensor(0.0232, grad_fn=<DivBackward0>)\n",
      "validation loss:  tensor(0.0598)\n",
      "metric:  tensor(0.9825)\n",
      "---- epoch:  8 / 9  ----\n",
      "avg training loss:  tensor(0.0142, grad_fn=<DivBackward0>)\n",
      "validation loss:  tensor(0.0584)\n",
      "metric:  tensor(0.9847)\n",
      "---- epoch:  9 / 9  ----\n",
      "avg training loss:  tensor(0.0093, grad_fn=<DivBackward0>)\n",
      "validation loss:  tensor(0.0596)\n",
      "metric:  tensor(0.9846)\n"
     ]
    }
   ],
   "source": [
    "learner = Learner(dls, simple_cnn_model, simple_cnn_optimizer, torch.nn.CrossEntropyLoss(), digit_accuracy, scheduler)\n",
    "learner.fit(10)"
   ]
  },
  {
   "cell_type": "code",
   "execution_count": 43,
   "metadata": {
    "colab": {
     "base_uri": "https://localhost:8080/"
    },
    "id": "FyibwX9AtI-Z",
    "outputId": "e8c6f8ec-eb3d-49b9-8227-d5725b76e74f"
   },
   "outputs": [
    {
     "name": "stdout",
     "output_type": "stream",
     "text": [
      "test accuracy:  tensor(0.9862)\n"
     ]
    }
   ],
   "source": [
    "test_feats, test_labels = next(iter(test_dataloader))\n",
    "preds = simple_cnn_model(test_feats)\n",
    "print(\"test accuracy: \", digit_accuracy(preds, test_labels))"
   ]
  },
  {
   "cell_type": "markdown",
   "metadata": {
    "id": "LyBQYbGDSdMP"
   },
   "source": [
    "#### Batch Norm should also allow us to use a much higher learning rate. Whereas a learning rate scheduler warms up to a higher learning rate, with batch norm we can just start off with a high learning rate. We can also acheive even higher accuracy in fewer iterations."
   ]
  },
  {
   "cell_type": "code",
   "execution_count": 44,
   "metadata": {
    "colab": {
     "base_uri": "https://localhost:8080/"
    },
    "id": "YdmQTD4MyKy6",
    "outputId": "239bc118-7f33-45f0-96df-1a3c2689a5a7"
   },
   "outputs": [
    {
     "name": "stdout",
     "output_type": "stream",
     "text": [
      "---- epoch:  0 / 9  ----\n",
      "avg training loss:  tensor(0.3510, grad_fn=<DivBackward0>)\n",
      "validation loss:  tensor(0.1048)\n",
      "metric:  tensor(0.9712)\n",
      "---- epoch:  1 / 9  ----\n",
      "avg training loss:  tensor(0.0883, grad_fn=<DivBackward0>)\n",
      "validation loss:  tensor(0.0819)\n",
      "metric:  tensor(0.9755)\n",
      "---- epoch:  2 / 9  ----\n",
      "avg training loss:  tensor(0.0605, grad_fn=<DivBackward0>)\n",
      "validation loss:  tensor(0.0589)\n",
      "metric:  tensor(0.9831)\n",
      "---- epoch:  3 / 9  ----\n",
      "avg training loss:  tensor(0.0439, grad_fn=<DivBackward0>)\n",
      "validation loss:  tensor(0.0440)\n",
      "metric:  tensor(0.9859)\n",
      "---- epoch:  4 / 9  ----\n",
      "avg training loss:  tensor(0.0331, grad_fn=<DivBackward0>)\n",
      "validation loss:  tensor(0.0475)\n",
      "metric:  tensor(0.9865)\n",
      "---- epoch:  5 / 9  ----\n",
      "avg training loss:  tensor(0.0259, grad_fn=<DivBackward0>)\n",
      "validation loss:  tensor(0.0409)\n",
      "metric:  tensor(0.9877)\n",
      "---- epoch:  6 / 9  ----\n",
      "avg training loss:  tensor(0.0189, grad_fn=<DivBackward0>)\n",
      "validation loss:  tensor(0.0351)\n",
      "metric:  tensor(0.9893)\n",
      "---- epoch:  7 / 9  ----\n",
      "avg training loss:  tensor(0.0136, grad_fn=<DivBackward0>)\n",
      "validation loss:  tensor(0.0321)\n",
      "metric:  tensor(0.9902)\n",
      "---- epoch:  8 / 9  ----\n",
      "avg training loss:  tensor(0.0090, grad_fn=<DivBackward0>)\n",
      "validation loss:  tensor(0.0320)\n",
      "metric:  tensor(0.9903)\n",
      "---- epoch:  9 / 9  ----\n",
      "avg training loss:  tensor(0.0061, grad_fn=<DivBackward0>)\n",
      "validation loss:  tensor(0.0317)\n",
      "metric:  tensor(0.9905)\n"
     ]
    }
   ],
   "source": [
    "cnn_model_with_norm = nn.Sequential(\n",
    "        conv(1 ,8, ks=5),        #14x14\n",
    "        nn.BatchNorm2d(8),\n",
    "        nn.ReLU(),\n",
    "        conv(8 ,16),             #7x7\n",
    "        nn.BatchNorm2d(16),\n",
    "        nn.ReLU(),\n",
    "        conv(16,32),             #4x4\n",
    "        nn.BatchNorm2d(32),\n",
    "        nn.ReLU(),\n",
    "        conv(32,64),             #2x2\n",
    "        nn.BatchNorm2d(64),\n",
    "        nn.ReLU(),\n",
    "        conv(64,10),             #1x1\n",
    "        nn.BatchNorm2d(10),\n",
    "        nn.Flatten()\n",
    "        )\n",
    "optimizer = torch.optim.SGD(cnn_model_with_norm.parameters(), lr=1e-2)\n",
    "scheduler = torch.optim.lr_scheduler.OneCycleLR(optimizer, max_lr=0.1, steps_per_epoch=len(train_dataloader), epochs=10)\n",
    "learner = Learner(dls, cnn_model_with_norm, optimizer, loss_func, digit_accuracy, scheduler)\n",
    "learner.fit(10)"
   ]
  },
  {
   "cell_type": "code",
   "execution_count": 46,
   "metadata": {
    "colab": {
     "base_uri": "https://localhost:8080/"
    },
    "id": "7R6FFowd1wnW",
    "outputId": "0681e5f2-2d23-441f-d607-ae269e4f6b83"
   },
   "outputs": [
    {
     "name": "stdout",
     "output_type": "stream",
     "text": [
      "test accuracy:  tensor(0.9924)\n"
     ]
    }
   ],
   "source": [
    "test_feats, test_labels = next(iter(test_dataloader))\n",
    "preds = cnn_model_with_norm(test_feats)\n",
    "print(\"test accuracy: \", digit_accuracy(preds, test_labels))"
   ]
  },
  {
   "cell_type": "markdown",
   "metadata": {
    "id": "yTdAC97CTClo"
   },
   "source": [
    "That's pretty good classification accuracy! Lets look at a few examples for ourselves and see our classification accuracy with our own eyes."
   ]
  },
  {
   "cell_type": "code",
   "execution_count": 49,
   "metadata": {
    "id": "Uj7cxOnjtSGU"
   },
   "outputs": [
    {
     "data": {
      "image/png": "[encoded data removed]",
      "text/plain": [
       "<Figure size 640x480 with 10 Axes>"
      ]
     },
     "metadata": {},
     "output_type": "display_data"
    }
   ],
   "source": [
    "for i in range(10):\n",
    "  plt.subplot(2, 5, i + 1)\n",
    "  plt.title(torch.argmax(preds[i]))\n",
    "  plt.imshow(torch.squeeze(test_feats[i]), cmap=plt.get_cmap('gray'))\n",
    "plt.show()"
   ]
  }
 ],
 "metadata": {
  "colab": {
   "collapsed_sections": [
    "pUMQ1fOhs5sq",
    "TPzKbpaS2V2e",
    "es1VxERz-h3p"
   ],
   "provenance": []
  },
  "kernelspec": {
   "display_name": "Python 3 (ipykernel)",
   "language": "python",
   "name": "python3"
  },
  "language_info": {
   "codemirror_mode": {
    "name": "ipython",
    "version": 3
   },
   "file_extension": ".py",
   "mimetype": "text/x-python",
   "name": "python",
   "nbconvert_exporter": "python",
   "pygments_lexer": "ipython3",
   "version": "3.11.4"
  }
 },
 "nbformat": 4,
 "nbformat_minor": 4
}
